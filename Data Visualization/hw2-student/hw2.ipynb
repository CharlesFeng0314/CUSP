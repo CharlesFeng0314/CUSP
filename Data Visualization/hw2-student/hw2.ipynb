{
 "cells": [
  {
   "cell_type": "markdown",
   "metadata": {},
   "source": [
    "# CS-GY 6313 / CUSP-GX 6006: Data Visualization - Spring '24\n",
    "# Homework #2"
   ]
  },
  {
   "cell_type": "code",
   "execution_count": 1,
   "metadata": {
    "colab": {
     "base_uri": "https://localhost:8080/",
     "height": 1000
    },
    "id": "5Hn3rCs0b3M_",
    "outputId": "b79bc1d2-8ce2-4583-ab6b-8e865e66d3f6"
   },
   "outputs": [
    {
     "name": "stdout",
     "output_type": "stream",
     "text": [
      "Requirement already satisfied: pandas in /Users/fengcharles/anaconda3/lib/python3.11/site-packages (1.5.3)\n",
      "Requirement already satisfied: python-dateutil>=2.8.1 in /Users/fengcharles/anaconda3/lib/python3.11/site-packages (from pandas) (2.8.2)\n",
      "Requirement already satisfied: pytz>=2020.1 in /Users/fengcharles/anaconda3/lib/python3.11/site-packages (from pandas) (2022.7)\n",
      "Requirement already satisfied: numpy>=1.21.0 in /Users/fengcharles/anaconda3/lib/python3.11/site-packages (from pandas) (1.24.3)\n",
      "Requirement already satisfied: six>=1.5 in /Users/fengcharles/anaconda3/lib/python3.11/site-packages (from python-dateutil>=2.8.1->pandas) (1.16.0)\n",
      "Requirement already satisfied: geopandas in /Users/fengcharles/anaconda3/lib/python3.11/site-packages (0.14.1)\n",
      "Requirement already satisfied: fiona>=1.8.21 in /Users/fengcharles/anaconda3/lib/python3.11/site-packages (from geopandas) (1.9.4.post1)\n",
      "Requirement already satisfied: packaging in /Users/fengcharles/anaconda3/lib/python3.11/site-packages (from geopandas) (23.0)\n",
      "Requirement already satisfied: pandas>=1.4.0 in /Users/fengcharles/anaconda3/lib/python3.11/site-packages (from geopandas) (1.5.3)\n",
      "Requirement already satisfied: pyproj>=3.3.0 in /Users/fengcharles/anaconda3/lib/python3.11/site-packages (from geopandas) (3.6.0)\n",
      "Requirement already satisfied: shapely>=1.8.0 in /Users/fengcharles/anaconda3/lib/python3.11/site-packages (from geopandas) (2.0.1)\n",
      "Requirement already satisfied: attrs>=19.2.0 in /Users/fengcharles/anaconda3/lib/python3.11/site-packages (from fiona>=1.8.21->geopandas) (22.1.0)\n",
      "Requirement already satisfied: certifi in /Users/fengcharles/anaconda3/lib/python3.11/site-packages (from fiona>=1.8.21->geopandas) (2024.2.2)\n",
      "Requirement already satisfied: click~=8.0 in /Users/fengcharles/anaconda3/lib/python3.11/site-packages (from fiona>=1.8.21->geopandas) (8.0.4)\n",
      "Requirement already satisfied: click-plugins>=1.0 in /Users/fengcharles/anaconda3/lib/python3.11/site-packages (from fiona>=1.8.21->geopandas) (1.1.1)\n",
      "Requirement already satisfied: cligj>=0.5 in /Users/fengcharles/anaconda3/lib/python3.11/site-packages (from fiona>=1.8.21->geopandas) (0.7.2)\n",
      "Requirement already satisfied: six in /Users/fengcharles/anaconda3/lib/python3.11/site-packages (from fiona>=1.8.21->geopandas) (1.16.0)\n",
      "Requirement already satisfied: python-dateutil>=2.8.1 in /Users/fengcharles/anaconda3/lib/python3.11/site-packages (from pandas>=1.4.0->geopandas) (2.8.2)\n",
      "Requirement already satisfied: pytz>=2020.1 in /Users/fengcharles/anaconda3/lib/python3.11/site-packages (from pandas>=1.4.0->geopandas) (2022.7)\n",
      "Requirement already satisfied: numpy>=1.21.0 in /Users/fengcharles/anaconda3/lib/python3.11/site-packages (from pandas>=1.4.0->geopandas) (1.24.3)\n",
      "Requirement already satisfied: geoplot in /Users/fengcharles/anaconda3/lib/python3.11/site-packages (0.5.1)\n",
      "Requirement already satisfied: matplotlib>=3.1.2 in /Users/fengcharles/anaconda3/lib/python3.11/site-packages (from geoplot) (3.7.1)\n",
      "Requirement already satisfied: seaborn in /Users/fengcharles/anaconda3/lib/python3.11/site-packages (from geoplot) (0.12.2)\n",
      "Requirement already satisfied: pandas in /Users/fengcharles/anaconda3/lib/python3.11/site-packages (from geoplot) (1.5.3)\n",
      "Requirement already satisfied: geopandas>=0.9.0 in /Users/fengcharles/anaconda3/lib/python3.11/site-packages (from geoplot) (0.14.1)\n",
      "Requirement already satisfied: cartopy in /Users/fengcharles/anaconda3/lib/python3.11/site-packages (from geoplot) (0.22.0)\n",
      "Requirement already satisfied: mapclassify>=2.1 in /Users/fengcharles/anaconda3/lib/python3.11/site-packages (from geoplot) (2.6.0)\n",
      "Requirement already satisfied: contextily>=1.0.0 in /Users/fengcharles/anaconda3/lib/python3.11/site-packages (from geoplot) (1.6.0)\n",
      "Requirement already satisfied: geopy in /Users/fengcharles/anaconda3/lib/python3.11/site-packages (from contextily>=1.0.0->geoplot) (2.4.1)\n",
      "Requirement already satisfied: mercantile in /Users/fengcharles/anaconda3/lib/python3.11/site-packages (from contextily>=1.0.0->geoplot) (1.2.1)\n",
      "Requirement already satisfied: pillow in /Users/fengcharles/anaconda3/lib/python3.11/site-packages (from contextily>=1.0.0->geoplot) (9.4.0)\n",
      "Requirement already satisfied: rasterio in /Users/fengcharles/anaconda3/lib/python3.11/site-packages (from contextily>=1.0.0->geoplot) (1.3.9)\n",
      "Requirement already satisfied: requests in /Users/fengcharles/anaconda3/lib/python3.11/site-packages (from contextily>=1.0.0->geoplot) (2.31.0)\n",
      "Requirement already satisfied: joblib in /Users/fengcharles/anaconda3/lib/python3.11/site-packages (from contextily>=1.0.0->geoplot) (1.2.0)\n",
      "Requirement already satisfied: xyzservices in /Users/fengcharles/anaconda3/lib/python3.11/site-packages (from contextily>=1.0.0->geoplot) (2022.9.0)\n",
      "Requirement already satisfied: fiona>=1.8.21 in /Users/fengcharles/anaconda3/lib/python3.11/site-packages (from geopandas>=0.9.0->geoplot) (1.9.4.post1)\n",
      "Requirement already satisfied: packaging in /Users/fengcharles/anaconda3/lib/python3.11/site-packages (from geopandas>=0.9.0->geoplot) (23.0)\n",
      "Requirement already satisfied: pyproj>=3.3.0 in /Users/fengcharles/anaconda3/lib/python3.11/site-packages (from geopandas>=0.9.0->geoplot) (3.6.0)\n",
      "Requirement already satisfied: shapely>=1.8.0 in /Users/fengcharles/anaconda3/lib/python3.11/site-packages (from geopandas>=0.9.0->geoplot) (2.0.1)\n",
      "Requirement already satisfied: scipy>=1.0 in /Users/fengcharles/anaconda3/lib/python3.11/site-packages (from mapclassify>=2.1->geoplot) (1.10.1)\n",
      "Requirement already satisfied: numpy>=1.3 in /Users/fengcharles/anaconda3/lib/python3.11/site-packages (from mapclassify>=2.1->geoplot) (1.24.3)\n",
      "Requirement already satisfied: scikit-learn in /Users/fengcharles/anaconda3/lib/python3.11/site-packages (from mapclassify>=2.1->geoplot) (1.3.0)\n",
      "Requirement already satisfied: networkx in /Users/fengcharles/anaconda3/lib/python3.11/site-packages (from mapclassify>=2.1->geoplot) (3.1)\n",
      "Requirement already satisfied: contourpy>=1.0.1 in /Users/fengcharles/anaconda3/lib/python3.11/site-packages (from matplotlib>=3.1.2->geoplot) (1.0.5)\n",
      "Requirement already satisfied: cycler>=0.10 in /Users/fengcharles/anaconda3/lib/python3.11/site-packages (from matplotlib>=3.1.2->geoplot) (0.11.0)\n",
      "Requirement already satisfied: fonttools>=4.22.0 in /Users/fengcharles/anaconda3/lib/python3.11/site-packages (from matplotlib>=3.1.2->geoplot) (4.25.0)\n",
      "Requirement already satisfied: kiwisolver>=1.0.1 in /Users/fengcharles/anaconda3/lib/python3.11/site-packages (from matplotlib>=3.1.2->geoplot) (1.4.4)\n",
      "Requirement already satisfied: pyparsing>=2.3.1 in /Users/fengcharles/anaconda3/lib/python3.11/site-packages (from matplotlib>=3.1.2->geoplot) (2.4.7)\n",
      "Requirement already satisfied: python-dateutil>=2.7 in /Users/fengcharles/anaconda3/lib/python3.11/site-packages (from matplotlib>=3.1.2->geoplot) (2.8.2)\n",
      "Requirement already satisfied: pytz>=2020.1 in /Users/fengcharles/anaconda3/lib/python3.11/site-packages (from pandas->geoplot) (2022.7)\n",
      "Requirement already satisfied: pyshp>=2.1 in /Users/fengcharles/anaconda3/lib/python3.11/site-packages (from cartopy->geoplot) (2.3.1)\n",
      "Requirement already satisfied: attrs>=19.2.0 in /Users/fengcharles/anaconda3/lib/python3.11/site-packages (from fiona>=1.8.21->geopandas>=0.9.0->geoplot) (22.1.0)\n",
      "Requirement already satisfied: certifi in /Users/fengcharles/anaconda3/lib/python3.11/site-packages (from fiona>=1.8.21->geopandas>=0.9.0->geoplot) (2024.2.2)\n",
      "Requirement already satisfied: click~=8.0 in /Users/fengcharles/anaconda3/lib/python3.11/site-packages (from fiona>=1.8.21->geopandas>=0.9.0->geoplot) (8.0.4)\n",
      "Requirement already satisfied: click-plugins>=1.0 in /Users/fengcharles/anaconda3/lib/python3.11/site-packages (from fiona>=1.8.21->geopandas>=0.9.0->geoplot) (1.1.1)\n",
      "Requirement already satisfied: cligj>=0.5 in /Users/fengcharles/anaconda3/lib/python3.11/site-packages (from fiona>=1.8.21->geopandas>=0.9.0->geoplot) (0.7.2)\n",
      "Requirement already satisfied: six in /Users/fengcharles/anaconda3/lib/python3.11/site-packages (from fiona>=1.8.21->geopandas>=0.9.0->geoplot) (1.16.0)\n",
      "Requirement already satisfied: geographiclib<3,>=1.52 in /Users/fengcharles/anaconda3/lib/python3.11/site-packages (from geopy->contextily>=1.0.0->geoplot) (2.0)\n"
     ]
    },
    {
     "name": "stdout",
     "output_type": "stream",
     "text": [
      "Requirement already satisfied: affine in /Users/fengcharles/anaconda3/lib/python3.11/site-packages (from rasterio->contextily>=1.0.0->geoplot) (2.4.0)\n",
      "Requirement already satisfied: snuggs>=1.4.1 in /Users/fengcharles/anaconda3/lib/python3.11/site-packages (from rasterio->contextily>=1.0.0->geoplot) (1.4.7)\n",
      "Requirement already satisfied: setuptools in /Users/fengcharles/anaconda3/lib/python3.11/site-packages (from rasterio->contextily>=1.0.0->geoplot) (68.0.0)\n",
      "Requirement already satisfied: charset-normalizer<4,>=2 in /Users/fengcharles/anaconda3/lib/python3.11/site-packages (from requests->contextily>=1.0.0->geoplot) (2.0.4)\n",
      "Requirement already satisfied: idna<4,>=2.5 in /Users/fengcharles/anaconda3/lib/python3.11/site-packages (from requests->contextily>=1.0.0->geoplot) (3.4)\n",
      "Requirement already satisfied: urllib3<3,>=1.21.1 in /Users/fengcharles/anaconda3/lib/python3.11/site-packages (from requests->contextily>=1.0.0->geoplot) (1.26.16)\n",
      "Requirement already satisfied: threadpoolctl>=2.0.0 in /Users/fengcharles/anaconda3/lib/python3.11/site-packages (from scikit-learn->mapclassify>=2.1->geoplot) (2.2.0)\n",
      "Requirement already satisfied: pyogrio in /Users/fengcharles/anaconda3/lib/python3.11/site-packages (0.7.2)\n",
      "Requirement already satisfied: certifi in /Users/fengcharles/anaconda3/lib/python3.11/site-packages (from pyogrio) (2024.2.2)\n",
      "Requirement already satisfied: numpy in /Users/fengcharles/anaconda3/lib/python3.11/site-packages (from pyogrio) (1.24.3)\n",
      "Requirement already satisfied: packaging in /Users/fengcharles/anaconda3/lib/python3.11/site-packages (from pyogrio) (23.0)\n"
     ]
    }
   ],
   "source": [
    "!pip install pandas\n",
    "!pip install geopandas\n",
    "!pip install geoplot\n",
    "!pip install pyogrio"
   ]
  },
  {
   "cell_type": "code",
   "execution_count": 2,
   "metadata": {
    "id": "lRgIbwXBJrNj"
   },
   "outputs": [],
   "source": [
    "import pandas as pd\n",
    "import geopandas as gpd\n",
    "import geoplot\n",
    "import matplotlib.pyplot as plt"
   ]
  },
  {
   "cell_type": "markdown",
   "metadata": {},
   "source": [
    "## Data Pre-Processing (3/15 points)"
   ]
  },
  {
   "cell_type": "code",
   "execution_count": 3,
   "metadata": {
    "id": "vlMpOMEG6XP_"
   },
   "outputs": [],
   "source": [
    "# ----------------------- #\n",
    "# DO NOT MODIFY THIS CODE #\n",
    "# ----------------------- #\n",
    "\n",
    "trips_df = pd.read_csv('./datasets/202007-divvy-tripdata.csv')\n",
    "community_df = gpd.read_file('./datasets/chicago-community-areas.geojson')\n",
    "stations_df = pd.read_csv('./datasets/station-locations.csv')"
   ]
  },
  {
   "cell_type": "markdown",
   "metadata": {},
   "source": [
    "### Bike Trip Pre-processing (1 point)"
   ]
  },
  {
   "cell_type": "code",
   "execution_count": 4,
   "metadata": {
    "id": "r16i3E_799xZ"
   },
   "outputs": [
    {
     "name": "stderr",
     "output_type": "stream",
     "text": [
      "/var/folders/qp/9y56mfxx3zq2c_cjbvf9xg_w0000gn/T/ipykernel_28575/218670856.py:10: SettingWithCopyWarning: \n",
      "A value is trying to be set on a copy of a slice from a DataFrame.\n",
      "Try using .loc[row_indexer,col_indexer] = value instead\n",
      "\n",
      "See the caveats in the documentation: https://pandas.pydata.org/pandas-docs/stable/user_guide/indexing.html#returning-a-view-versus-a-copy\n",
      "  trips_pr_df[['start_station_id','end_station_id']] = trips_pr_df[['start_station_id','end_station_id']].astype(int)\n"
     ]
    }
   ],
   "source": [
    "\"\"\"\n",
    "TODO:\n",
    "Within the bike trip data that we loaded (`trips_df`), get rid of missing (`NaN`) \n",
    "start and end station ids, and convert those columns to integer columns. \n",
    "Make sure the modified dataframe is referenced as `trips_pr_df`.\n",
    "\"\"\"\n",
    "#Drop NAs\n",
    "trips_pr_df = trips_df.dropna(subset=['start_station_id','end_station_id'])\n",
    "#Convert column to integers\n",
    "trips_pr_df[['start_station_id','end_station_id']] = trips_pr_df[['start_station_id','end_station_id']].astype(int)"
   ]
  },
  {
   "cell_type": "code",
   "execution_count": 5,
   "metadata": {},
   "outputs": [
    {
     "data": {
      "text/html": [
       "<div>\n",
       "<style scoped>\n",
       "    .dataframe tbody tr th:only-of-type {\n",
       "        vertical-align: middle;\n",
       "    }\n",
       "\n",
       "    .dataframe tbody tr th {\n",
       "        vertical-align: top;\n",
       "    }\n",
       "\n",
       "    .dataframe thead th {\n",
       "        text-align: right;\n",
       "    }\n",
       "</style>\n",
       "<table border=\"1\" class=\"dataframe\">\n",
       "  <thead>\n",
       "    <tr style=\"text-align: right;\">\n",
       "      <th></th>\n",
       "      <th>ride_id</th>\n",
       "      <th>rideable_type</th>\n",
       "      <th>started_at</th>\n",
       "      <th>ended_at</th>\n",
       "      <th>start_station_name</th>\n",
       "      <th>start_station_id</th>\n",
       "      <th>end_station_name</th>\n",
       "      <th>end_station_id</th>\n",
       "      <th>start_lat</th>\n",
       "      <th>start_lng</th>\n",
       "      <th>end_lat</th>\n",
       "      <th>end_lng</th>\n",
       "      <th>member_casual</th>\n",
       "    </tr>\n",
       "  </thead>\n",
       "  <tbody>\n",
       "    <tr>\n",
       "      <th>0</th>\n",
       "      <td>762198876D69004D</td>\n",
       "      <td>docked_bike</td>\n",
       "      <td>2020-07-09 15:22:02</td>\n",
       "      <td>2020-07-09 15:25:52</td>\n",
       "      <td>Ritchie Ct &amp; Banks St</td>\n",
       "      <td>180</td>\n",
       "      <td>Wells St &amp; Evergreen Ave</td>\n",
       "      <td>291</td>\n",
       "      <td>41.906866</td>\n",
       "      <td>-87.626217</td>\n",
       "      <td>41.906724</td>\n",
       "      <td>-87.634830</td>\n",
       "      <td>member</td>\n",
       "    </tr>\n",
       "    <tr>\n",
       "      <th>1</th>\n",
       "      <td>BEC9C9FBA0D4CF1B</td>\n",
       "      <td>docked_bike</td>\n",
       "      <td>2020-07-24 23:56:30</td>\n",
       "      <td>2020-07-25 00:20:17</td>\n",
       "      <td>Halsted St &amp; Roscoe St</td>\n",
       "      <td>299</td>\n",
       "      <td>Broadway &amp; Ridge Ave</td>\n",
       "      <td>461</td>\n",
       "      <td>41.943670</td>\n",
       "      <td>-87.648950</td>\n",
       "      <td>41.984045</td>\n",
       "      <td>-87.660274</td>\n",
       "      <td>member</td>\n",
       "    </tr>\n",
       "    <tr>\n",
       "      <th>2</th>\n",
       "      <td>D2FD8EA432C77EC1</td>\n",
       "      <td>docked_bike</td>\n",
       "      <td>2020-07-08 19:49:07</td>\n",
       "      <td>2020-07-08 19:56:22</td>\n",
       "      <td>Lake Shore Dr &amp; Diversey Pkwy</td>\n",
       "      <td>329</td>\n",
       "      <td>Clark St &amp; Wellington Ave</td>\n",
       "      <td>156</td>\n",
       "      <td>41.932588</td>\n",
       "      <td>-87.636427</td>\n",
       "      <td>41.936497</td>\n",
       "      <td>-87.647539</td>\n",
       "      <td>casual</td>\n",
       "    </tr>\n",
       "    <tr>\n",
       "      <th>3</th>\n",
       "      <td>54AE594E20B35881</td>\n",
       "      <td>docked_bike</td>\n",
       "      <td>2020-07-17 19:06:42</td>\n",
       "      <td>2020-07-17 19:27:38</td>\n",
       "      <td>LaSalle St &amp; Illinois St</td>\n",
       "      <td>181</td>\n",
       "      <td>Clark St &amp; Armitage Ave</td>\n",
       "      <td>94</td>\n",
       "      <td>41.890762</td>\n",
       "      <td>-87.631697</td>\n",
       "      <td>41.918306</td>\n",
       "      <td>-87.636282</td>\n",
       "      <td>casual</td>\n",
       "    </tr>\n",
       "    <tr>\n",
       "      <th>4</th>\n",
       "      <td>54025FDC7440B56F</td>\n",
       "      <td>docked_bike</td>\n",
       "      <td>2020-07-04 10:39:57</td>\n",
       "      <td>2020-07-04 10:45:05</td>\n",
       "      <td>Lake Shore Dr &amp; North Blvd</td>\n",
       "      <td>268</td>\n",
       "      <td>Clark St &amp; Schiller St</td>\n",
       "      <td>301</td>\n",
       "      <td>41.911722</td>\n",
       "      <td>-87.626804</td>\n",
       "      <td>41.907993</td>\n",
       "      <td>-87.631501</td>\n",
       "      <td>member</td>\n",
       "    </tr>\n",
       "  </tbody>\n",
       "</table>\n",
       "</div>"
      ],
      "text/plain": [
       "            ride_id rideable_type           started_at             ended_at  \\\n",
       "0  762198876D69004D   docked_bike  2020-07-09 15:22:02  2020-07-09 15:25:52   \n",
       "1  BEC9C9FBA0D4CF1B   docked_bike  2020-07-24 23:56:30  2020-07-25 00:20:17   \n",
       "2  D2FD8EA432C77EC1   docked_bike  2020-07-08 19:49:07  2020-07-08 19:56:22   \n",
       "3  54AE594E20B35881   docked_bike  2020-07-17 19:06:42  2020-07-17 19:27:38   \n",
       "4  54025FDC7440B56F   docked_bike  2020-07-04 10:39:57  2020-07-04 10:45:05   \n",
       "\n",
       "              start_station_name  start_station_id           end_station_name  \\\n",
       "0          Ritchie Ct & Banks St               180   Wells St & Evergreen Ave   \n",
       "1         Halsted St & Roscoe St               299       Broadway & Ridge Ave   \n",
       "2  Lake Shore Dr & Diversey Pkwy               329  Clark St & Wellington Ave   \n",
       "3       LaSalle St & Illinois St               181    Clark St & Armitage Ave   \n",
       "4     Lake Shore Dr & North Blvd               268     Clark St & Schiller St   \n",
       "\n",
       "   end_station_id  start_lat  start_lng    end_lat    end_lng member_casual  \n",
       "0             291  41.906866 -87.626217  41.906724 -87.634830        member  \n",
       "1             461  41.943670 -87.648950  41.984045 -87.660274        member  \n",
       "2             156  41.932588 -87.636427  41.936497 -87.647539        casual  \n",
       "3              94  41.890762 -87.631697  41.918306 -87.636282        casual  \n",
       "4             301  41.911722 -87.626804  41.907993 -87.631501        member  "
      ]
     },
     "execution_count": 5,
     "metadata": {},
     "output_type": "execute_result"
    }
   ],
   "source": [
    "trips_pr_df.head()"
   ]
  },
  {
   "cell_type": "markdown",
   "metadata": {},
   "source": [
    "### Community Areas Pre-processing (1 point)"
   ]
  },
  {
   "cell_type": "code",
   "execution_count": 6,
   "metadata": {},
   "outputs": [],
   "source": [
    "\"\"\"\n",
    "TODO:\n",
    "Within the geojson data for the Chicago community areas (`community_df`), rename the \n",
    "column `area_numbe` to `area_number`, and convert that column to an integer \n",
    "column. Make sure to reference the modified geojson data as `community_pr`.\n",
    "\"\"\"\n",
    "#rename the column\n",
    "community_df.rename(columns={'area_numbe': 'area_number'}, inplace=True)"
   ]
  },
  {
   "cell_type": "code",
   "execution_count": 7,
   "metadata": {},
   "outputs": [],
   "source": [
    "#Convert column to intergers\n",
    "community_df[['area_number']] = community_df[['area_number']].astype(int)\n",
    "#rename the df\n",
    "community_pr_df = community_df"
   ]
  },
  {
   "cell_type": "code",
   "execution_count": 8,
   "metadata": {},
   "outputs": [
    {
     "data": {
      "text/html": [
       "<div>\n",
       "<style scoped>\n",
       "    .dataframe tbody tr th:only-of-type {\n",
       "        vertical-align: middle;\n",
       "    }\n",
       "\n",
       "    .dataframe tbody tr th {\n",
       "        vertical-align: top;\n",
       "    }\n",
       "\n",
       "    .dataframe thead th {\n",
       "        text-align: right;\n",
       "    }\n",
       "</style>\n",
       "<table border=\"1\" class=\"dataframe\">\n",
       "  <thead>\n",
       "    <tr style=\"text-align: right;\">\n",
       "      <th></th>\n",
       "      <th>community</th>\n",
       "      <th>area</th>\n",
       "      <th>shape_area</th>\n",
       "      <th>perimeter</th>\n",
       "      <th>area_num_1</th>\n",
       "      <th>area_number</th>\n",
       "      <th>comarea_id</th>\n",
       "      <th>comarea</th>\n",
       "      <th>shape_len</th>\n",
       "      <th>geometry</th>\n",
       "    </tr>\n",
       "  </thead>\n",
       "  <tbody>\n",
       "    <tr>\n",
       "      <th>0</th>\n",
       "      <td>DOUGLAS</td>\n",
       "      <td>0</td>\n",
       "      <td>46004621.1581</td>\n",
       "      <td>0</td>\n",
       "      <td>35</td>\n",
       "      <td>35</td>\n",
       "      <td>0</td>\n",
       "      <td>0</td>\n",
       "      <td>31027.0545098</td>\n",
       "      <td>MULTIPOLYGON (((-87.60914 41.84469, -87.60915 ...</td>\n",
       "    </tr>\n",
       "    <tr>\n",
       "      <th>1</th>\n",
       "      <td>OAKLAND</td>\n",
       "      <td>0</td>\n",
       "      <td>16913961.0408</td>\n",
       "      <td>0</td>\n",
       "      <td>36</td>\n",
       "      <td>36</td>\n",
       "      <td>0</td>\n",
       "      <td>0</td>\n",
       "      <td>19565.5061533</td>\n",
       "      <td>MULTIPOLYGON (((-87.59215 41.81693, -87.59231 ...</td>\n",
       "    </tr>\n",
       "    <tr>\n",
       "      <th>2</th>\n",
       "      <td>FULLER PARK</td>\n",
       "      <td>0</td>\n",
       "      <td>19916704.8692</td>\n",
       "      <td>0</td>\n",
       "      <td>37</td>\n",
       "      <td>37</td>\n",
       "      <td>0</td>\n",
       "      <td>0</td>\n",
       "      <td>25339.0897503</td>\n",
       "      <td>MULTIPOLYGON (((-87.62880 41.80189, -87.62879 ...</td>\n",
       "    </tr>\n",
       "    <tr>\n",
       "      <th>3</th>\n",
       "      <td>GRAND BOULEVARD</td>\n",
       "      <td>0</td>\n",
       "      <td>48492503.1554</td>\n",
       "      <td>0</td>\n",
       "      <td>38</td>\n",
       "      <td>38</td>\n",
       "      <td>0</td>\n",
       "      <td>0</td>\n",
       "      <td>28196.8371573</td>\n",
       "      <td>MULTIPOLYGON (((-87.60671 41.81681, -87.60670 ...</td>\n",
       "    </tr>\n",
       "    <tr>\n",
       "      <th>4</th>\n",
       "      <td>KENWOOD</td>\n",
       "      <td>0</td>\n",
       "      <td>29071741.9283</td>\n",
       "      <td>0</td>\n",
       "      <td>39</td>\n",
       "      <td>39</td>\n",
       "      <td>0</td>\n",
       "      <td>0</td>\n",
       "      <td>23325.1679062</td>\n",
       "      <td>MULTIPOLYGON (((-87.59215 41.81693, -87.59215 ...</td>\n",
       "    </tr>\n",
       "  </tbody>\n",
       "</table>\n",
       "</div>"
      ],
      "text/plain": [
       "         community area     shape_area perimeter area_num_1  area_number  \\\n",
       "0          DOUGLAS    0  46004621.1581         0         35           35   \n",
       "1          OAKLAND    0  16913961.0408         0         36           36   \n",
       "2      FULLER PARK    0  19916704.8692         0         37           37   \n",
       "3  GRAND BOULEVARD    0  48492503.1554         0         38           38   \n",
       "4          KENWOOD    0  29071741.9283         0         39           39   \n",
       "\n",
       "  comarea_id comarea      shape_len  \\\n",
       "0          0       0  31027.0545098   \n",
       "1          0       0  19565.5061533   \n",
       "2          0       0  25339.0897503   \n",
       "3          0       0  28196.8371573   \n",
       "4          0       0  23325.1679062   \n",
       "\n",
       "                                            geometry  \n",
       "0  MULTIPOLYGON (((-87.60914 41.84469, -87.60915 ...  \n",
       "1  MULTIPOLYGON (((-87.59215 41.81693, -87.59231 ...  \n",
       "2  MULTIPOLYGON (((-87.62880 41.80189, -87.62879 ...  \n",
       "3  MULTIPOLYGON (((-87.60671 41.81681, -87.60670 ...  \n",
       "4  MULTIPOLYGON (((-87.59215 41.81693, -87.59215 ...  "
      ]
     },
     "execution_count": 8,
     "metadata": {},
     "output_type": "execute_result"
    }
   ],
   "source": [
    "community_pr_df.head()"
   ]
  },
  {
   "cell_type": "markdown",
   "metadata": {},
   "source": [
    "### Stations Pre-processing (1 point)"
   ]
  },
  {
   "cell_type": "code",
   "execution_count": 9,
   "metadata": {},
   "outputs": [],
   "source": [
    "import geopandas as gpd\n",
    "from shapely.geometry import Point"
   ]
  },
  {
   "cell_type": "code",
   "execution_count": 10,
   "metadata": {},
   "outputs": [],
   "source": [
    "\"\"\"\n",
    "TODO:\n",
    "Within the bike station location data (`stations_df`), convert it to a \n",
    "`GeoDataFrame` and set its geometry to the point specified by the longitude \n",
    "and latitude pair. Make sure to reference the modified data as \n",
    "`stations_pr_df`.\n",
    "\"\"\"\n",
    "\n",
    "from shapely.geometry import Point\n",
    "#add column 'geometry'\n",
    "stations_df['geometry'] = stations_df.apply(lambda row: Point(row['lon'], row['lat']), axis=1)\n",
    "#Convert df to geodataframe\n",
    "stations_df = gpd.GeoDataFrame(stations_df, geometry='geometry')\n",
    "#rename the dataframe\n",
    "stations_pr_df = stations_df"
   ]
  },
  {
   "cell_type": "code",
   "execution_count": 11,
   "metadata": {},
   "outputs": [
    {
     "data": {
      "text/html": [
       "<div>\n",
       "<style scoped>\n",
       "    .dataframe tbody tr th:only-of-type {\n",
       "        vertical-align: middle;\n",
       "    }\n",
       "\n",
       "    .dataframe tbody tr th {\n",
       "        vertical-align: top;\n",
       "    }\n",
       "\n",
       "    .dataframe thead th {\n",
       "        text-align: right;\n",
       "    }\n",
       "</style>\n",
       "<table border=\"1\" class=\"dataframe\">\n",
       "  <thead>\n",
       "    <tr style=\"text-align: right;\">\n",
       "      <th></th>\n",
       "      <th>has_kiosk</th>\n",
       "      <th>lat</th>\n",
       "      <th>lon</th>\n",
       "      <th>external_id</th>\n",
       "      <th>rental_uris</th>\n",
       "      <th>short_name</th>\n",
       "      <th>rental_methods</th>\n",
       "      <th>electric_bike_surcharge_waiver</th>\n",
       "      <th>eightd_station_services</th>\n",
       "      <th>name</th>\n",
       "      <th>...</th>\n",
       "      <th>station_type</th>\n",
       "      <th>eightd_has_key_dispenser</th>\n",
       "      <th>legacy_id</th>\n",
       "      <th>region_id</th>\n",
       "      <th>region_code</th>\n",
       "      <th>address</th>\n",
       "      <th>rack_model</th>\n",
       "      <th>dockless_bikes_parking_zone_capacity</th>\n",
       "      <th>client_station_id</th>\n",
       "      <th>geometry</th>\n",
       "    </tr>\n",
       "  </thead>\n",
       "  <tbody>\n",
       "    <tr>\n",
       "      <th>0</th>\n",
       "      <td>True</td>\n",
       "      <td>41.876511</td>\n",
       "      <td>-87.620548</td>\n",
       "      <td>a3a36d9e-a135-11e9-9cda-0a87ae2ba916</td>\n",
       "      <td>{'ios': 'https://chi.lft.to/lastmile_qr_scan',...</td>\n",
       "      <td>15541</td>\n",
       "      <td>['CREDITCARD', 'KEY', 'TRANSITCARD']</td>\n",
       "      <td>False</td>\n",
       "      <td>[]</td>\n",
       "      <td>Buckingham Fountain</td>\n",
       "      <td>...</td>\n",
       "      <td>classic</td>\n",
       "      <td>False</td>\n",
       "      <td>2</td>\n",
       "      <td>NaN</td>\n",
       "      <td>NaN</td>\n",
       "      <td>NaN</td>\n",
       "      <td>NaN</td>\n",
       "      <td>NaN</td>\n",
       "      <td>NaN</td>\n",
       "      <td>POINT (-87.62055 41.87651)</td>\n",
       "    </tr>\n",
       "    <tr>\n",
       "      <th>1</th>\n",
       "      <td>True</td>\n",
       "      <td>41.867226</td>\n",
       "      <td>-87.615355</td>\n",
       "      <td>a3a37378-a135-11e9-9cda-0a87ae2ba916</td>\n",
       "      <td>{'ios': 'https://chi.lft.to/lastmile_qr_scan',...</td>\n",
       "      <td>15544</td>\n",
       "      <td>['CREDITCARD', 'KEY', 'TRANSITCARD']</td>\n",
       "      <td>False</td>\n",
       "      <td>[]</td>\n",
       "      <td>Shedd Aquarium</td>\n",
       "      <td>...</td>\n",
       "      <td>classic</td>\n",
       "      <td>False</td>\n",
       "      <td>3</td>\n",
       "      <td>NaN</td>\n",
       "      <td>NaN</td>\n",
       "      <td>NaN</td>\n",
       "      <td>NaN</td>\n",
       "      <td>NaN</td>\n",
       "      <td>NaN</td>\n",
       "      <td>POINT (-87.61536 41.86723)</td>\n",
       "    </tr>\n",
       "    <tr>\n",
       "      <th>2</th>\n",
       "      <td>True</td>\n",
       "      <td>41.856268</td>\n",
       "      <td>-87.613348</td>\n",
       "      <td>a3a378ca-a135-11e9-9cda-0a87ae2ba916</td>\n",
       "      <td>{'ios': 'https://chi.lft.to/lastmile_qr_scan',...</td>\n",
       "      <td>15545</td>\n",
       "      <td>['CREDITCARD', 'KEY', 'TRANSITCARD']</td>\n",
       "      <td>False</td>\n",
       "      <td>[]</td>\n",
       "      <td>Burnham Harbor</td>\n",
       "      <td>...</td>\n",
       "      <td>classic</td>\n",
       "      <td>False</td>\n",
       "      <td>4</td>\n",
       "      <td>NaN</td>\n",
       "      <td>NaN</td>\n",
       "      <td>NaN</td>\n",
       "      <td>NaN</td>\n",
       "      <td>NaN</td>\n",
       "      <td>NaN</td>\n",
       "      <td>POINT (-87.61335 41.85627)</td>\n",
       "    </tr>\n",
       "    <tr>\n",
       "      <th>3</th>\n",
       "      <td>True</td>\n",
       "      <td>41.874053</td>\n",
       "      <td>-87.627716</td>\n",
       "      <td>a3a37e26-a135-11e9-9cda-0a87ae2ba916</td>\n",
       "      <td>{'ios': 'https://chi.lft.to/lastmile_qr_scan',...</td>\n",
       "      <td>SL-007</td>\n",
       "      <td>['CREDITCARD', 'KEY', 'TRANSITCARD']</td>\n",
       "      <td>False</td>\n",
       "      <td>[]</td>\n",
       "      <td>State St &amp; Harrison St</td>\n",
       "      <td>...</td>\n",
       "      <td>classic</td>\n",
       "      <td>False</td>\n",
       "      <td>5</td>\n",
       "      <td>NaN</td>\n",
       "      <td>NaN</td>\n",
       "      <td>NaN</td>\n",
       "      <td>NaN</td>\n",
       "      <td>NaN</td>\n",
       "      <td>NaN</td>\n",
       "      <td>POINT (-87.62772 41.87405)</td>\n",
       "    </tr>\n",
       "    <tr>\n",
       "      <th>4</th>\n",
       "      <td>True</td>\n",
       "      <td>41.886976</td>\n",
       "      <td>-87.612813</td>\n",
       "      <td>a3a38363-a135-11e9-9cda-0a87ae2ba916</td>\n",
       "      <td>{'ios': 'https://chi.lft.to/lastmile_qr_scan',...</td>\n",
       "      <td>KA1503000064</td>\n",
       "      <td>['CREDITCARD', 'KEY', 'TRANSITCARD']</td>\n",
       "      <td>False</td>\n",
       "      <td>[]</td>\n",
       "      <td>Dusable Harbor</td>\n",
       "      <td>...</td>\n",
       "      <td>classic</td>\n",
       "      <td>False</td>\n",
       "      <td>6</td>\n",
       "      <td>NaN</td>\n",
       "      <td>NaN</td>\n",
       "      <td>NaN</td>\n",
       "      <td>NaN</td>\n",
       "      <td>NaN</td>\n",
       "      <td>NaN</td>\n",
       "      <td>POINT (-87.61281 41.88698)</td>\n",
       "    </tr>\n",
       "  </tbody>\n",
       "</table>\n",
       "<p>5 rows × 22 columns</p>\n",
       "</div>"
      ],
      "text/plain": [
       "   has_kiosk        lat        lon                           external_id  \\\n",
       "0       True  41.876511 -87.620548  a3a36d9e-a135-11e9-9cda-0a87ae2ba916   \n",
       "1       True  41.867226 -87.615355  a3a37378-a135-11e9-9cda-0a87ae2ba916   \n",
       "2       True  41.856268 -87.613348  a3a378ca-a135-11e9-9cda-0a87ae2ba916   \n",
       "3       True  41.874053 -87.627716  a3a37e26-a135-11e9-9cda-0a87ae2ba916   \n",
       "4       True  41.886976 -87.612813  a3a38363-a135-11e9-9cda-0a87ae2ba916   \n",
       "\n",
       "                                         rental_uris    short_name  \\\n",
       "0  {'ios': 'https://chi.lft.to/lastmile_qr_scan',...         15541   \n",
       "1  {'ios': 'https://chi.lft.to/lastmile_qr_scan',...         15544   \n",
       "2  {'ios': 'https://chi.lft.to/lastmile_qr_scan',...         15545   \n",
       "3  {'ios': 'https://chi.lft.to/lastmile_qr_scan',...        SL-007   \n",
       "4  {'ios': 'https://chi.lft.to/lastmile_qr_scan',...  KA1503000064   \n",
       "\n",
       "                         rental_methods  electric_bike_surcharge_waiver  \\\n",
       "0  ['CREDITCARD', 'KEY', 'TRANSITCARD']                           False   \n",
       "1  ['CREDITCARD', 'KEY', 'TRANSITCARD']                           False   \n",
       "2  ['CREDITCARD', 'KEY', 'TRANSITCARD']                           False   \n",
       "3  ['CREDITCARD', 'KEY', 'TRANSITCARD']                           False   \n",
       "4  ['CREDITCARD', 'KEY', 'TRANSITCARD']                           False   \n",
       "\n",
       "  eightd_station_services                    name  ...  station_type  \\\n",
       "0                      []     Buckingham Fountain  ...       classic   \n",
       "1                      []          Shedd Aquarium  ...       classic   \n",
       "2                      []          Burnham Harbor  ...       classic   \n",
       "3                      []  State St & Harrison St  ...       classic   \n",
       "4                      []          Dusable Harbor  ...       classic   \n",
       "\n",
       "   eightd_has_key_dispenser legacy_id  region_id  region_code  address  \\\n",
       "0                     False         2        NaN          NaN      NaN   \n",
       "1                     False         3        NaN          NaN      NaN   \n",
       "2                     False         4        NaN          NaN      NaN   \n",
       "3                     False         5        NaN          NaN      NaN   \n",
       "4                     False         6        NaN          NaN      NaN   \n",
       "\n",
       "  rack_model dockless_bikes_parking_zone_capacity client_station_id  \\\n",
       "0        NaN                                  NaN               NaN   \n",
       "1        NaN                                  NaN               NaN   \n",
       "2        NaN                                  NaN               NaN   \n",
       "3        NaN                                  NaN               NaN   \n",
       "4        NaN                                  NaN               NaN   \n",
       "\n",
       "                     geometry  \n",
       "0  POINT (-87.62055 41.87651)  \n",
       "1  POINT (-87.61536 41.86723)  \n",
       "2  POINT (-87.61335 41.85627)  \n",
       "3  POINT (-87.62772 41.87405)  \n",
       "4  POINT (-87.61281 41.88698)  \n",
       "\n",
       "[5 rows x 22 columns]"
      ]
     },
     "execution_count": 11,
     "metadata": {},
     "output_type": "execute_result"
    }
   ],
   "source": [
    "stations_pr_df.head()"
   ]
  },
  {
   "cell_type": "markdown",
   "metadata": {},
   "source": [
    "## Geographical Visualization (12/15 points)"
   ]
  },
  {
   "cell_type": "markdown",
   "metadata": {},
   "source": [
    "### Spatial Join (2 points)"
   ]
  },
  {
   "cell_type": "code",
   "execution_count": 12,
   "metadata": {
    "scrolled": false
   },
   "outputs": [
    {
     "name": "stderr",
     "output_type": "stream",
     "text": [
      "/var/folders/qp/9y56mfxx3zq2c_cjbvf9xg_w0000gn/T/ipykernel_28575/4057284314.py:9: UserWarning: CRS mismatch between the CRS of left geometries and the CRS of right geometries.\n",
      "Use `to_crs()` to reproject one of the input geometries to match the CRS of the other.\n",
      "\n",
      "Left CRS: EPSG:4326\n",
      "Right CRS: None\n",
      "\n",
      "  station_community_df = gpd.sjoin(left_df=community_pr_df, right_df=stations_pr_df)\n"
     ]
    }
   ],
   "source": [
    "\"\"\"\n",
    "TODO:\n",
    "Given points from station locations, we want to find out which \n",
    "community areas those points are in. This can be accomplished \n",
    "using an `sjoin` (https://geopandas.org/en/stable/gallery/spatial_joins.html) \n",
    "in `geopandas`. After joining the two datasets, you should be \n",
    "able to find the area_number for each `station_id`.\n",
    "\"\"\"\n",
    "station_community_df = gpd.sjoin(left_df=community_pr_df, right_df=stations_pr_df)"
   ]
  },
  {
   "cell_type": "markdown",
   "metadata": {},
   "source": [
    "### Add Community Areas to Trips (4 points)"
   ]
  },
  {
   "cell_type": "code",
   "execution_count": 13,
   "metadata": {},
   "outputs": [],
   "source": [
    "\"\"\"\n",
    "TODO:\n",
    "Use the updated dataframe from the previous part with the bike trip dataset to add \n",
    "columns specifying the start and end community area numbers (`start_ca_num` and \n",
    "`end_ca_num`) for each trip. Remove any entries in your final results that have \n",
    "`NaN` values for either `start_ca_num` or `end_ca_num`.Save your results in \n",
    "`trips_community_df`.\n",
    "\"\"\"\n",
    "# Merge, selecting only the specified columns from the right dataframe\n",
    "#Merge the START community number to the df\n",
    "trips_community_df = pd.merge(left=trips_pr_df, \n",
    "                              right=station_community_df[['area_number','station_id']], \n",
    "                              left_on='start_station_id', \n",
    "                              right_on='station_id', \n",
    "                              how='left')\n",
    "#Rename it to 'start_ca_num'\n",
    "trips_community_df.rename(columns={'area_number': 'start_ca_num'}, inplace=True)"
   ]
  },
  {
   "cell_type": "code",
   "execution_count": 14,
   "metadata": {},
   "outputs": [],
   "source": [
    "#Merge the END community number to the df\n",
    "trips_community_df = pd.merge(left=trips_community_df, \n",
    "                              right=station_community_df[['area_number','station_id']], \n",
    "                              left_on='end_station_id', \n",
    "                              right_on='station_id', \n",
    "                              how='left')\n",
    "#Rename it to 'end_ca_num'\n",
    "trips_community_df.rename(columns={'area_number': 'end_ca_num'}, inplace=True)"
   ]
  },
  {
   "cell_type": "code",
   "execution_count": 15,
   "metadata": {},
   "outputs": [
    {
     "data": {
      "text/html": [
       "<div>\n",
       "<style scoped>\n",
       "    .dataframe tbody tr th:only-of-type {\n",
       "        vertical-align: middle;\n",
       "    }\n",
       "\n",
       "    .dataframe tbody tr th {\n",
       "        vertical-align: top;\n",
       "    }\n",
       "\n",
       "    .dataframe thead th {\n",
       "        text-align: right;\n",
       "    }\n",
       "</style>\n",
       "<table border=\"1\" class=\"dataframe\">\n",
       "  <thead>\n",
       "    <tr style=\"text-align: right;\">\n",
       "      <th></th>\n",
       "      <th>ride_id</th>\n",
       "      <th>rideable_type</th>\n",
       "      <th>started_at</th>\n",
       "      <th>ended_at</th>\n",
       "      <th>start_station_name</th>\n",
       "      <th>start_station_id</th>\n",
       "      <th>end_station_name</th>\n",
       "      <th>end_station_id</th>\n",
       "      <th>start_lat</th>\n",
       "      <th>start_lng</th>\n",
       "      <th>end_lat</th>\n",
       "      <th>end_lng</th>\n",
       "      <th>member_casual</th>\n",
       "      <th>start_ca_num</th>\n",
       "      <th>station_id_x</th>\n",
       "      <th>end_ca_num</th>\n",
       "      <th>station_id_y</th>\n",
       "    </tr>\n",
       "  </thead>\n",
       "  <tbody>\n",
       "    <tr>\n",
       "      <th>0</th>\n",
       "      <td>762198876D69004D</td>\n",
       "      <td>docked_bike</td>\n",
       "      <td>2020-07-09 15:22:02</td>\n",
       "      <td>2020-07-09 15:25:52</td>\n",
       "      <td>Ritchie Ct &amp; Banks St</td>\n",
       "      <td>180</td>\n",
       "      <td>Wells St &amp; Evergreen Ave</td>\n",
       "      <td>291</td>\n",
       "      <td>41.906866</td>\n",
       "      <td>-87.626217</td>\n",
       "      <td>41.906724</td>\n",
       "      <td>-87.634830</td>\n",
       "      <td>member</td>\n",
       "      <td>8.0</td>\n",
       "      <td>180.0</td>\n",
       "      <td>8.0</td>\n",
       "      <td>291.0</td>\n",
       "    </tr>\n",
       "    <tr>\n",
       "      <th>1</th>\n",
       "      <td>BEC9C9FBA0D4CF1B</td>\n",
       "      <td>docked_bike</td>\n",
       "      <td>2020-07-24 23:56:30</td>\n",
       "      <td>2020-07-25 00:20:17</td>\n",
       "      <td>Halsted St &amp; Roscoe St</td>\n",
       "      <td>299</td>\n",
       "      <td>Broadway &amp; Ridge Ave</td>\n",
       "      <td>461</td>\n",
       "      <td>41.943670</td>\n",
       "      <td>-87.648950</td>\n",
       "      <td>41.984045</td>\n",
       "      <td>-87.660274</td>\n",
       "      <td>member</td>\n",
       "      <td>6.0</td>\n",
       "      <td>299.0</td>\n",
       "      <td>77.0</td>\n",
       "      <td>461.0</td>\n",
       "    </tr>\n",
       "    <tr>\n",
       "      <th>2</th>\n",
       "      <td>D2FD8EA432C77EC1</td>\n",
       "      <td>docked_bike</td>\n",
       "      <td>2020-07-08 19:49:07</td>\n",
       "      <td>2020-07-08 19:56:22</td>\n",
       "      <td>Lake Shore Dr &amp; Diversey Pkwy</td>\n",
       "      <td>329</td>\n",
       "      <td>Clark St &amp; Wellington Ave</td>\n",
       "      <td>156</td>\n",
       "      <td>41.932588</td>\n",
       "      <td>-87.636427</td>\n",
       "      <td>41.936497</td>\n",
       "      <td>-87.647539</td>\n",
       "      <td>casual</td>\n",
       "      <td>7.0</td>\n",
       "      <td>329.0</td>\n",
       "      <td>6.0</td>\n",
       "      <td>156.0</td>\n",
       "    </tr>\n",
       "    <tr>\n",
       "      <th>3</th>\n",
       "      <td>54AE594E20B35881</td>\n",
       "      <td>docked_bike</td>\n",
       "      <td>2020-07-17 19:06:42</td>\n",
       "      <td>2020-07-17 19:27:38</td>\n",
       "      <td>LaSalle St &amp; Illinois St</td>\n",
       "      <td>181</td>\n",
       "      <td>Clark St &amp; Armitage Ave</td>\n",
       "      <td>94</td>\n",
       "      <td>41.890762</td>\n",
       "      <td>-87.631697</td>\n",
       "      <td>41.918306</td>\n",
       "      <td>-87.636282</td>\n",
       "      <td>casual</td>\n",
       "      <td>8.0</td>\n",
       "      <td>181.0</td>\n",
       "      <td>7.0</td>\n",
       "      <td>94.0</td>\n",
       "    </tr>\n",
       "    <tr>\n",
       "      <th>4</th>\n",
       "      <td>54025FDC7440B56F</td>\n",
       "      <td>docked_bike</td>\n",
       "      <td>2020-07-04 10:39:57</td>\n",
       "      <td>2020-07-04 10:45:05</td>\n",
       "      <td>Lake Shore Dr &amp; North Blvd</td>\n",
       "      <td>268</td>\n",
       "      <td>Clark St &amp; Schiller St</td>\n",
       "      <td>301</td>\n",
       "      <td>41.911722</td>\n",
       "      <td>-87.626804</td>\n",
       "      <td>41.907993</td>\n",
       "      <td>-87.631501</td>\n",
       "      <td>member</td>\n",
       "      <td>7.0</td>\n",
       "      <td>268.0</td>\n",
       "      <td>8.0</td>\n",
       "      <td>301.0</td>\n",
       "    </tr>\n",
       "  </tbody>\n",
       "</table>\n",
       "</div>"
      ],
      "text/plain": [
       "            ride_id rideable_type           started_at             ended_at  \\\n",
       "0  762198876D69004D   docked_bike  2020-07-09 15:22:02  2020-07-09 15:25:52   \n",
       "1  BEC9C9FBA0D4CF1B   docked_bike  2020-07-24 23:56:30  2020-07-25 00:20:17   \n",
       "2  D2FD8EA432C77EC1   docked_bike  2020-07-08 19:49:07  2020-07-08 19:56:22   \n",
       "3  54AE594E20B35881   docked_bike  2020-07-17 19:06:42  2020-07-17 19:27:38   \n",
       "4  54025FDC7440B56F   docked_bike  2020-07-04 10:39:57  2020-07-04 10:45:05   \n",
       "\n",
       "              start_station_name  start_station_id           end_station_name  \\\n",
       "0          Ritchie Ct & Banks St               180   Wells St & Evergreen Ave   \n",
       "1         Halsted St & Roscoe St               299       Broadway & Ridge Ave   \n",
       "2  Lake Shore Dr & Diversey Pkwy               329  Clark St & Wellington Ave   \n",
       "3       LaSalle St & Illinois St               181    Clark St & Armitage Ave   \n",
       "4     Lake Shore Dr & North Blvd               268     Clark St & Schiller St   \n",
       "\n",
       "   end_station_id  start_lat  start_lng    end_lat    end_lng member_casual  \\\n",
       "0             291  41.906866 -87.626217  41.906724 -87.634830        member   \n",
       "1             461  41.943670 -87.648950  41.984045 -87.660274        member   \n",
       "2             156  41.932588 -87.636427  41.936497 -87.647539        casual   \n",
       "3              94  41.890762 -87.631697  41.918306 -87.636282        casual   \n",
       "4             301  41.911722 -87.626804  41.907993 -87.631501        member   \n",
       "\n",
       "   start_ca_num  station_id_x  end_ca_num  station_id_y  \n",
       "0           8.0         180.0         8.0         291.0  \n",
       "1           6.0         299.0        77.0         461.0  \n",
       "2           7.0         329.0         6.0         156.0  \n",
       "3           8.0         181.0         7.0          94.0  \n",
       "4           7.0         268.0         8.0         301.0  "
      ]
     },
     "execution_count": 15,
     "metadata": {},
     "output_type": "execute_result"
    }
   ],
   "source": [
    "#Dropna\n",
    "trips_community_df = trips_community_df.dropna(subset=['start_ca_num','end_ca_num'])\n",
    "trips_community_df.head()"
   ]
  },
  {
   "cell_type": "markdown",
   "metadata": {},
   "source": [
    "### Explaining the Joins (2 points)\n",
    "\n",
    "In a short (no more than a paragraph) description, please briefly answer the following inquiries. You can write either in Markdown or in code comments in the space provided in the notebook file.\n",
    "   \n",
    "1. For each join conducted in steps 1 and 2, what was your rationale for using these particular join types? \n",
    "2. Did your final `trips_community_df` end up a different size from the original `trips_pr_df` dataframe? If so, what do you think caused this difference in size?"
   ]
  },
  {
   "cell_type": "code",
   "execution_count": 16,
   "metadata": {},
   "outputs": [
    {
     "data": {
      "text/plain": [
       "550425"
      ]
     },
     "execution_count": 16,
     "metadata": {},
     "output_type": "execute_result"
    }
   ],
   "source": [
    "len(trips_pr_df)"
   ]
  },
  {
   "cell_type": "code",
   "execution_count": 17,
   "metadata": {},
   "outputs": [
    {
     "data": {
      "text/plain": [
       "545513"
      ]
     },
     "execution_count": 17,
     "metadata": {},
     "output_type": "execute_result"
    }
   ],
   "source": [
    "len(trips_community_df)"
   ]
  },
  {
   "cell_type": "markdown",
   "metadata": {},
   "source": [
    "\"\"\"\n",
    "OPTIONAL: \n",
    "Use this space for either your answers for the above prompt or to run additional code.\n",
    "\"\"\"\n",
    "1. For the first step, I use the sjoin, sjoin match up geometry infomation within 2 dataframe, and make the join happens to include points geometry in the multipolygon geometry. It automatically fullfill our requirment that station_id surjection on area_number. For the step 2, I use the regular left join for the table, becuase 1 area number can have multiple station, and we need to make sure the station id will only appear once but area number can appear multiple times in a dataframe.\n",
    "2. Yes. Some start or end station is not in the recorded community with community number."
   ]
  },
  {
   "cell_type": "markdown",
   "metadata": {},
   "source": [
    "### Visualize Station Distribution (4 points)"
   ]
  },
  {
   "cell_type": "code",
   "execution_count": 18,
   "metadata": {},
   "outputs": [],
   "source": [
    "#build the dictionary matching up the area_umber and geometry so each of the area_number as a aligned geometry data \n",
    "area_geometry_dict = station_community_df.set_index('area_number')['geometry'].to_dict()"
   ]
  },
  {
   "cell_type": "code",
   "execution_count": 19,
   "metadata": {},
   "outputs": [],
   "source": [
    "#aggregate the station count in each area number\n",
    "station_count = station_community_df.groupby(['area_number']).agg({'station_id':'count'})\n",
    "station_count=station_count.reset_index()"
   ]
  },
  {
   "cell_type": "code",
   "execution_count": 20,
   "metadata": {},
   "outputs": [],
   "source": [
    "#map the area_number with geometry information\n",
    "station_count['geometry'] = station_count['area_number'].map(area_geometry_dict)\n",
    "#convert a df to gdf\n",
    "station_count = gpd.GeoDataFrame(station_count, geometry='geometry')"
   ]
  },
  {
   "cell_type": "code",
   "execution_count": 21,
   "metadata": {},
   "outputs": [
    {
     "data": {
      "text/plain": [
       "<Axes: >"
      ]
     },
     "execution_count": 21,
     "metadata": {},
     "output_type": "execute_result"
    },
    {
     "data": {
      "image/png": "[encoded data removed]",
      "text/plain": [
       "<Figure size 600x600 with 2 Axes>"
      ]
     },
     "metadata": {},
     "output_type": "display_data"
    },
    {
     "data": {
      "image/png": "[encoded data removed]",
      "text/plain": [
       "<Figure size 600x600 with 2 Axes>"
      ]
     },
     "metadata": {},
     "output_type": "display_data"
    }
   ],
   "source": [
    "\"\"\"\n",
    "TODO:\n",
    "We want to understand which community areas have bike stations. Using `geopandas`, \n",
    "generate a plot of the number of stations per community area. This can be \n",
    "accomplished by aggregating the stations by community area. Then use the `plot()` \n",
    "command to generate a chloropleth map. You are allowed to define a colormap for \n",
    "your chloropleth map via the `cmap` parameter\n",
    "\"\"\"\n",
    "station_count.plot(figsize=(6,6), column='station_id',legend = True)\n",
    "station_count.plot(figsize=(6,6), cmap='OrRd', column='station_id',legend = True)"
   ]
  },
  {
   "cell_type": "code",
   "execution_count": null,
   "metadata": {},
   "outputs": [],
   "source": []
  }
 ],
 "metadata": {
  "colab": {
   "provenance": []
  },
  "kernelspec": {
   "display_name": "Python 3 (ipykernel)",
   "language": "python",
   "name": "python3"
  },
  "language_info": {
   "codemirror_mode": {
    "name": "ipython",
    "version": 3
   },
   "file_extension": ".py",
   "mimetype": "text/x-python",
   "name": "python",
   "nbconvert_exporter": "python",
   "pygments_lexer": "ipython3",
   "version": "3.11.4"
  }
 },
 "nbformat": 4,
 "nbformat_minor": 1
}
