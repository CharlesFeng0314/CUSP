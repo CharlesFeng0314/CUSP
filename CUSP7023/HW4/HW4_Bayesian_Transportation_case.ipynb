{
 "cells": [
  {
   "cell_type": "markdown",
   "metadata": {
    "id": "QdU1oyxgOP-h"
   },
   "source": [
    "## Homework 4: Transporation mode choice modeling\n",
    "\n",
    "Transportation planning and assessments are important aspects of modeling urban systems and are critical in making key decisions and shaping/estimating the commute behavior of urban population.\n",
    "\n",
    "Here we demonstrate a framework for transporation mode choice modeling using Bayesian inference. Essentially, we want to model commute across the city by estimating mode choices between origin-destination taxi zone pairs in New York City among 4 available modes - transit, taxi, walking and driving."
   ]
  },
  {
   "cell_type": "code",
   "execution_count": 1,
   "metadata": {
    "id": "qraS57-mOP-j"
   },
   "outputs": [],
   "source": [
    "# recommended in work in python 3.8\n",
    "import pandas as pd\n",
    "import numpy as np\n",
    "from numpy import inf\n",
    "from scipy.stats import norm\n",
    "import itertools\n",
    "from matplotlib import pyplot as plt\n",
    "import warnings\n",
    "warnings.filterwarnings(\"ignore\")\n",
    "%matplotlib inline"
   ]
  },
  {
   "cell_type": "markdown",
   "metadata": {
    "id": "DP8qC8UXOP-m"
   },
   "source": [
    "We use data from primarily two sources:\n",
    "- the travel duration and fare cost for taxi, transit and driving modes are extracted from Google Maps API for each of the origin-destination taxi zone pairs. Cost for walking is kept as 0.\n",
    "- the mobility information and aggregated income information is retrieved from LEHD data along with ACS for origin-destination commute choice information, further aggregated on taxi zone levels.\n",
    "\n",
    "\n",
    "The combined data thus contains travel time, travel cost and aggregated commuter information corresponding to each of O-D pairs and 4 travel modes.\n",
    "\n",
    "The travel modes (column 'tmode') contains codes for each mode referenced as- 2: transit, 3: taxi, 5: walking, 8: driving\n"
   ]
  },
  {
   "cell_type": "code",
   "execution_count": 2,
   "metadata": {
    "colab": {
     "base_uri": "https://localhost:8080/",
     "height": 204
    },
    "id": "6GLZ2ATNOP-m",
    "outputId": "d678b8fc-7e81-4ba4-eb52-05e8c19292d5"
   },
   "outputs": [
    {
     "data": {
      "text/html": [
       "<div>\n",
       "<style scoped>\n",
       "    .dataframe tbody tr th:only-of-type {\n",
       "        vertical-align: middle;\n",
       "    }\n",
       "\n",
       "    .dataframe tbody tr th {\n",
       "        vertical-align: top;\n",
       "    }\n",
       "\n",
       "    .dataframe thead th {\n",
       "        text-align: right;\n",
       "    }\n",
       "</style>\n",
       "<table border=\"1\" class=\"dataframe\">\n",
       "  <thead>\n",
       "    <tr style=\"text-align: right;\">\n",
       "      <th></th>\n",
       "      <th>pulocationid</th>\n",
       "      <th>dolocationid</th>\n",
       "      <th>tmode</th>\n",
       "      <th>duration</th>\n",
       "      <th>price</th>\n",
       "      <th>ridership</th>\n",
       "    </tr>\n",
       "  </thead>\n",
       "  <tbody>\n",
       "    <tr>\n",
       "      <th>0</th>\n",
       "      <td>3</td>\n",
       "      <td>7</td>\n",
       "      <td>8</td>\n",
       "      <td>0.653356</td>\n",
       "      <td>12.721600</td>\n",
       "      <td>736</td>\n",
       "    </tr>\n",
       "    <tr>\n",
       "      <th>1</th>\n",
       "      <td>3</td>\n",
       "      <td>7</td>\n",
       "      <td>3</td>\n",
       "      <td>0.798016</td>\n",
       "      <td>43.157143</td>\n",
       "      <td>0</td>\n",
       "    </tr>\n",
       "    <tr>\n",
       "      <th>2</th>\n",
       "      <td>3</td>\n",
       "      <td>18</td>\n",
       "      <td>3</td>\n",
       "      <td>0.254000</td>\n",
       "      <td>12.900000</td>\n",
       "      <td>1748</td>\n",
       "    </tr>\n",
       "    <tr>\n",
       "      <th>3</th>\n",
       "      <td>3</td>\n",
       "      <td>18</td>\n",
       "      <td>5</td>\n",
       "      <td>1.084444</td>\n",
       "      <td>0.000000</td>\n",
       "      <td>3174</td>\n",
       "    </tr>\n",
       "    <tr>\n",
       "      <th>4</th>\n",
       "      <td>3</td>\n",
       "      <td>18</td>\n",
       "      <td>8</td>\n",
       "      <td>0.268923</td>\n",
       "      <td>7.432000</td>\n",
       "      <td>10879</td>\n",
       "    </tr>\n",
       "  </tbody>\n",
       "</table>\n",
       "</div>"
      ],
      "text/plain": [
       "   pulocationid  dolocationid  tmode  duration      price  ridership\n",
       "0             3             7      8  0.653356  12.721600        736\n",
       "1             3             7      3  0.798016  43.157143          0\n",
       "2             3            18      3  0.254000  12.900000       1748\n",
       "3             3            18      5  1.084444   0.000000       3174\n",
       "4             3            18      8  0.268923   7.432000      10879"
      ]
     },
     "execution_count": 2,
     "metadata": {},
     "output_type": "execute_result"
    }
   ],
   "source": [
    "# read the data\n",
    "\n",
    "path = 'https://raw.githubusercontent.com/CUSP-ADS2024/Data/master/'\n",
    "\n",
    "data = pd.read_csv(path + 'LEHD_commute.csv')\n",
    "data['duration'] = data['duration']/60  # convert time to hours\n",
    "data['ridership'] = data.iloc[:, 5:].sum(axis=1)  ## aggregate the ridership across income groups\n",
    "data = data[['pulocationid', 'dolocationid', 'tmode', 'duration', 'price', 'ridership']]\n",
    "data.head()"
   ]
  },
  {
   "cell_type": "code",
   "execution_count": 3,
   "metadata": {
    "colab": {
     "base_uri": "https://localhost:8080/"
    },
    "id": "zUnj4ncQhTPB",
    "outputId": "82715a96-930a-4368-9d16-b07e16d00fc8"
   },
   "outputs": [
    {
     "data": {
      "text/plain": [
       "191552556"
      ]
     },
     "execution_count": 3,
     "metadata": {},
     "output_type": "execute_result"
    }
   ],
   "source": [
    "data.ridership.sum() #Nearly 200 mln trips in total"
   ]
  },
  {
   "cell_type": "code",
   "execution_count": 4,
   "metadata": {
    "colab": {
     "base_uri": "https://localhost:8080/"
    },
    "id": "5c2L8g-wOP-n",
    "outputId": "738eab17-7971-4a61-e863-159a15891fe4"
   },
   "outputs": [
    {
     "data": {
      "text/plain": [
       "19152"
      ]
     },
     "execution_count": 4,
     "metadata": {},
     "output_type": "execute_result"
    }
   ],
   "source": [
    "# number of unique O-D pairs\n",
    "\n",
    "len(data[['pulocationid', 'dolocationid']].drop_duplicates())"
   ]
  },
  {
   "cell_type": "code",
   "execution_count": 5,
   "metadata": {
    "colab": {
     "base_uri": "https://localhost:8080/"
    },
    "id": "6ZJUgB-tOP-n",
    "outputId": "e374a3a7-0e1c-4efc-9cf1-13c8aa38c1b7"
   },
   "outputs": [
    {
     "data": {
      "text/plain": [
       "array([8, 3, 5, 2])"
      ]
     },
     "execution_count": 5,
     "metadata": {},
     "output_type": "execute_result"
    }
   ],
   "source": [
    "# unique modes\n",
    "\n",
    "data.tmode.unique()"
   ]
  },
  {
   "cell_type": "code",
   "execution_count": 6,
   "metadata": {
    "colab": {
     "base_uri": "https://localhost:8080/",
     "height": 585
    },
    "id": "rwPC5iPbW8GT",
    "outputId": "f772d7d2-e13f-4f48-bd3d-51ac797e1df1"
   },
   "outputs": [
    {
     "data": {
      "text/plain": [
       "([<matplotlib.axis.XTick at 0x13db01ad0>,\n",
       "  <matplotlib.axis.XTick at 0x13db00e90>,\n",
       "  <matplotlib.axis.XTick at 0x13c0ca610>,\n",
       "  <matplotlib.axis.XTick at 0x13db4d510>],\n",
       " [Text(0, 0, 'Transit'),\n",
       "  Text(1, 0, 'Taxi'),\n",
       "  Text(2, 0, 'Walking'),\n",
       "  Text(3, 0, 'Driving')])"
      ]
     },
     "execution_count": 6,
     "metadata": {},
     "output_type": "execute_result"
    },
    {
     "data": {
      "image/png": "[encoded data removed]",
      "text/plain": [
       "<Figure size 640x480 with 1 Axes>"
      ]
     },
     "metadata": {},
     "output_type": "display_data"
    }
   ],
   "source": [
    "## ridership by mode\n",
    "byMode = data.groupby(by='tmode', as_index=False).sum()[['tmode', 'ridership']]\n",
    "plt.bar(np.arange(len(byMode)), list(byMode.ridership), edgecolor = 'black')\n",
    "plt.xticks([r  for r in range(len(byMode))], ['Transit', 'Taxi',\n",
    "                                                      'Walking', 'Driving'], fontsize=12)"
   ]
  },
  {
   "cell_type": "markdown",
   "metadata": {
    "id": "t7gbqSVdOP-n"
   },
   "source": [
    "We use the Multinomial Logit (MNL) as the modeling framework for estimating the mode choice probabilities. MNL is broadly used in transportation choice modeling. It offers an advantage of estimating the mode-choice probabilities using closed-form formulas representing the aggregate-level choices.\n",
    "\n",
    "the probabilities for each of the four major transportation modes to be chosen as having the highest utility is defined as\n",
    "$$\n",
    "\\begin{equation}\n",
    "    P_{mode} = \\frac{e^{\\lambda U_{mode}}}{e^{\\lambda U_{taxi}} + e^{\\lambda U_{transit}} + e^{\\lambda U_{walk}} + e^{\\lambda U_{drive}}}\n",
    "\\end{equation} \\ (1)\n",
    "$$\n",
    "\n",
    "$\\lambda$ being subject to fit.\n",
    "\n",
    "Additionally, we define the utilily below.\n",
    "\n",
    "Mathematically, the utility score $U_j$ for alternative ${j}$ depends on the time taken $T_j$ between the O-D pair in consideration and the monetary cost $P_j$ for choosing the alternative, and a random component of error $\\epsilon_j$ , yielding a base utility function\n",
    "$$\n",
    "\\begin{equation}\n",
    "    U_j = -(CT_j + P_j)\n",
    "\\end{equation}$$\n",
    "\n",
    "where C is kept as a constant.\n",
    "\n",
    "The utility can be interpreted as perceived total 'value' of commuting between a o-d pair by the commuter, incorporating possible irrationality of individual decisions while combining it with the direct monetary cost to assess the overall utility. An additional random error term $\\epsilon$ can be added to the utility term following a particular distribution. This could be either an additive term or multiplicative term based on our preferences.\n",
    "Here we will proceed with the additive case, so the utility being defined as $\\begin{equation}\n",
    "    U_j = -(CT_j + P_j) + \\epsilon\n",
    "\\end{equation}$\n",
    "\n",
    "\n",
    "#### Likelihood estimation\n",
    "\n",
    "From the estimated probabilities $P_m$, we compute the likelihood of the observed LEHD data give the model for each set of $\\beta, \\sigma$ parameters. For mode choice probabilities $P_m(o,d,\\sigma,\\beta)$ for each set of origin(o) and destination(d), the log-likelihood for four modes given the observed LEHD ridership $R_m(o,d)$ is calculated as\n",
    "$$\n",
    "\\begin{equation}\n",
    "    L(\\sigma, \\beta) = \\sum_{o,d}\\sum_m R_m(o,d)\\ln P_m(o,d,\\sigma,\\beta)\n",
    "\\end{equation}\n",
    "$$\n",
    "\n",
    "\n",
    "One can simulate the results just for the max-likelihood parameters, however comprehensive parameter sampling provides assessment with respect to the model uncertainty.\n",
    "\n"
   ]
  },
  {
   "cell_type": "code",
   "execution_count": 7,
   "metadata": {
    "colab": {
     "base_uri": "https://localhost:8080/"
    },
    "id": "mk_1nzU_OP-p",
    "outputId": "88623303-c292-4856-efb3-9777a9b0313d"
   },
   "outputs": [
    {
     "data": {
      "text/plain": [
       "1.537962962962963"
      ]
     },
     "execution_count": 7,
     "metadata": {},
     "output_type": "execute_result"
    }
   ],
   "source": [
    "# choice for constant C - put as median hourly NYC income (assume all agents are rational and value their time as \"face value\"; in reality its not always the case and one may consider an additional parameter to scale the objective time value to a subjective estimate)\n",
    "# our study shows this \"rationality\" parameter could be as low as 10%!\n",
    "# NYC median income is ~ $33,220 per year\n",
    "\n",
    "C = 0.1 * 33220/(12 * 180); C"
   ]
  },
  {
   "cell_type": "code",
   "execution_count": 8,
   "metadata": {
    "id": "3gxH9VspKpYx"
   },
   "outputs": [],
   "source": [
    "data['U'] = - C * data['duration'] - data['price']"
   ]
  },
  {
   "cell_type": "markdown",
   "metadata": {
    "id": "w7pOdOBqX6kZ"
   },
   "source": [
    "As defined in the utility function, the coefficient C can be interpreted as a parameter incorporating irrationality of decisions based on time and cost.\n",
    "\n",
    "We use the total number of hours in a day instead of number of working hours to assess the cost of time as people often underestimate the value of time.  So we try a lower bound value (which apparently also provides a better fit to the data). It could be a good idea to fit C as another parameter of the model, but we keep it fixed to make fitting easier for the illustration purposes."
   ]
  },
  {
   "cell_type": "markdown",
   "metadata": {
    "id": "PI7A5gjuBoUM"
   },
   "source": [
    "# TASK 1.\n",
    "Now assume we know just part of the mobility flows, but not all of them (see training sample defined below). Assess the mobility flows with respect to the transportation mode for the reaming pairs of origin-detination locations"
   ]
  },
  {
   "cell_type": "code",
   "execution_count": 9,
   "metadata": {
    "colab": {
     "base_uri": "https://localhost:8080/",
     "height": 235
    },
    "id": "nitew0NVBWWW",
    "outputId": "e6f1439c-e674-439f-f80a-c06f1bfb8a7d"
   },
   "outputs": [
    {
     "data": {
      "text/html": [
       "<div>\n",
       "<style scoped>\n",
       "    .dataframe tbody tr th:only-of-type {\n",
       "        vertical-align: middle;\n",
       "    }\n",
       "\n",
       "    .dataframe tbody tr th {\n",
       "        vertical-align: top;\n",
       "    }\n",
       "\n",
       "    .dataframe thead th {\n",
       "        text-align: right;\n",
       "    }\n",
       "</style>\n",
       "<table border=\"1\" class=\"dataframe\">\n",
       "  <thead>\n",
       "    <tr style=\"text-align: right;\">\n",
       "      <th></th>\n",
       "      <th></th>\n",
       "      <th>total_commute</th>\n",
       "    </tr>\n",
       "    <tr>\n",
       "      <th>pulocationid</th>\n",
       "      <th>dolocationid</th>\n",
       "      <th></th>\n",
       "    </tr>\n",
       "  </thead>\n",
       "  <tbody>\n",
       "    <tr>\n",
       "      <th rowspan=\"5\" valign=\"top\">3</th>\n",
       "      <th>7</th>\n",
       "      <td>736</td>\n",
       "    </tr>\n",
       "    <tr>\n",
       "      <th>18</th>\n",
       "      <td>15801</td>\n",
       "    </tr>\n",
       "    <tr>\n",
       "      <th>20</th>\n",
       "      <td>8418</td>\n",
       "    </tr>\n",
       "    <tr>\n",
       "      <th>24</th>\n",
       "      <td>7429</td>\n",
       "    </tr>\n",
       "    <tr>\n",
       "      <th>31</th>\n",
       "      <td>483</td>\n",
       "    </tr>\n",
       "  </tbody>\n",
       "</table>\n",
       "</div>"
      ],
      "text/plain": [
       "                           total_commute\n",
       "pulocationid dolocationid               \n",
       "3            7                       736\n",
       "             18                    15801\n",
       "             20                     8418\n",
       "             24                     7429\n",
       "             31                      483"
      ]
     },
     "execution_count": 9,
     "metadata": {},
     "output_type": "execute_result"
    }
   ],
   "source": [
    "#define total number of commutes per origin - detination pair from the ground-truth data (aggregating all the modes together)\n",
    "ODflows = data[['pulocationid', 'dolocationid', 'ridership']].groupby(['pulocationid', 'dolocationid']).sum(); ODflows.rename(columns = {'ridership': 'total_commute'}, inplace = True); ODflows.head()"
   ]
  },
  {
   "cell_type": "code",
   "execution_count": 10,
   "metadata": {
    "id": "m9flhFs1EZcJ"
   },
   "outputs": [],
   "source": [
    "data = data.join(ODflows, on = ['pulocationid', 'dolocationid'])"
   ]
  },
  {
   "cell_type": "code",
   "execution_count": 11,
   "metadata": {
    "colab": {
     "base_uri": "https://localhost:8080/"
    },
    "id": "M1PLkBQPCS2u",
    "outputId": "44ca0d13-a21b-4f7b-cb3e-f955dfcd93f8"
   },
   "outputs": [
    {
     "data": {
      "text/plain": [
       "array([  7,  31,  38,  42,  55,  63,  72,  78,  83,  96, 101, 115, 119,\n",
       "       131, 186, 189, 191, 195, 197, 199, 223, 227, 229, 236, 237, 240,\n",
       "       254, 256, 260, 263])"
      ]
     },
     "execution_count": 11,
     "metadata": {},
     "output_type": "execute_result"
    }
   ],
   "source": [
    "#define the training set\n",
    "np.random.seed(1)\n",
    "train_locations = np.random.choice(np.unique(data['pulocationid']), size = 30, replace = False); train_locations.sort()\n",
    "train_locations"
   ]
  },
  {
   "cell_type": "code",
   "execution_count": 12,
   "metadata": {
    "id": "p6XUDKObFobK"
   },
   "outputs": [],
   "source": [
    "#leave only the flows from training set\n",
    "train_data = data.loc[data['pulocationid'].isin(train_locations) & data['dolocationid'].isin(train_locations)]\n",
    "test_data = data.loc[~data['pulocationid'].isin(train_locations) & ~data['dolocationid'].isin(train_locations)]"
   ]
  },
  {
   "cell_type": "code",
   "execution_count": 13,
   "metadata": {
    "colab": {
     "base_uri": "https://localhost:8080/",
     "height": 204
    },
    "id": "yl9vJomiHHc9",
    "outputId": "26baa6c3-dc23-4131-ee9b-b74fdf0ca393"
   },
   "outputs": [
    {
     "data": {
      "text/html": [
       "<div>\n",
       "<style scoped>\n",
       "    .dataframe tbody tr th:only-of-type {\n",
       "        vertical-align: middle;\n",
       "    }\n",
       "\n",
       "    .dataframe tbody tr th {\n",
       "        vertical-align: top;\n",
       "    }\n",
       "\n",
       "    .dataframe thead th {\n",
       "        text-align: right;\n",
       "    }\n",
       "</style>\n",
       "<table border=\"1\" class=\"dataframe\">\n",
       "  <thead>\n",
       "    <tr style=\"text-align: right;\">\n",
       "      <th></th>\n",
       "      <th>pulocationid</th>\n",
       "      <th>dolocationid</th>\n",
       "      <th>tmode</th>\n",
       "      <th>duration</th>\n",
       "      <th>price</th>\n",
       "      <th>ridership</th>\n",
       "      <th>U</th>\n",
       "      <th>total_commute</th>\n",
       "    </tr>\n",
       "  </thead>\n",
       "  <tbody>\n",
       "    <tr>\n",
       "      <th>533</th>\n",
       "      <td>7</td>\n",
       "      <td>83</td>\n",
       "      <td>8</td>\n",
       "      <td>0.299368</td>\n",
       "      <td>6.849358</td>\n",
       "      <td>5704</td>\n",
       "      <td>-7.309774</td>\n",
       "      <td>13731</td>\n",
       "    </tr>\n",
       "    <tr>\n",
       "      <th>534</th>\n",
       "      <td>7</td>\n",
       "      <td>83</td>\n",
       "      <td>5</td>\n",
       "      <td>3.913333</td>\n",
       "      <td>0.000000</td>\n",
       "      <td>713</td>\n",
       "      <td>-6.018562</td>\n",
       "      <td>13731</td>\n",
       "    </tr>\n",
       "    <tr>\n",
       "      <th>535</th>\n",
       "      <td>7</td>\n",
       "      <td>83</td>\n",
       "      <td>2</td>\n",
       "      <td>0.516667</td>\n",
       "      <td>2.750000</td>\n",
       "      <td>6808</td>\n",
       "      <td>-3.544614</td>\n",
       "      <td>13731</td>\n",
       "    </tr>\n",
       "    <tr>\n",
       "      <th>536</th>\n",
       "      <td>7</td>\n",
       "      <td>83</td>\n",
       "      <td>3</td>\n",
       "      <td>0.348206</td>\n",
       "      <td>12.691395</td>\n",
       "      <td>506</td>\n",
       "      <td>-13.226922</td>\n",
       "      <td>13731</td>\n",
       "    </tr>\n",
       "    <tr>\n",
       "      <th>555</th>\n",
       "      <td>7</td>\n",
       "      <td>101</td>\n",
       "      <td>3</td>\n",
       "      <td>0.708611</td>\n",
       "      <td>50.000000</td>\n",
       "      <td>23</td>\n",
       "      <td>-51.089818</td>\n",
       "      <td>2852</td>\n",
       "    </tr>\n",
       "  </tbody>\n",
       "</table>\n",
       "</div>"
      ],
      "text/plain": [
       "     pulocationid  dolocationid  tmode  duration      price  ridership  \\\n",
       "533             7            83      8  0.299368   6.849358       5704   \n",
       "534             7            83      5  3.913333   0.000000        713   \n",
       "535             7            83      2  0.516667   2.750000       6808   \n",
       "536             7            83      3  0.348206  12.691395        506   \n",
       "555             7           101      3  0.708611  50.000000         23   \n",
       "\n",
       "             U  total_commute  \n",
       "533  -7.309774          13731  \n",
       "534  -6.018562          13731  \n",
       "535  -3.544614          13731  \n",
       "536 -13.226922          13731  \n",
       "555 -51.089818           2852  "
      ]
     },
     "execution_count": 13,
     "metadata": {},
     "output_type": "execute_result"
    }
   ],
   "source": [
    "train_data.head()"
   ]
  },
  {
   "cell_type": "code",
   "execution_count": 14,
   "metadata": {
    "colab": {
     "base_uri": "https://localhost:8080/",
     "height": 204
    },
    "id": "qhRKUREQHLKp",
    "outputId": "19cc76d7-0329-4d9c-fb21-108c98240604"
   },
   "outputs": [
    {
     "data": {
      "text/html": [
       "<div>\n",
       "<style scoped>\n",
       "    .dataframe tbody tr th:only-of-type {\n",
       "        vertical-align: middle;\n",
       "    }\n",
       "\n",
       "    .dataframe tbody tr th {\n",
       "        vertical-align: top;\n",
       "    }\n",
       "\n",
       "    .dataframe thead th {\n",
       "        text-align: right;\n",
       "    }\n",
       "</style>\n",
       "<table border=\"1\" class=\"dataframe\">\n",
       "  <thead>\n",
       "    <tr style=\"text-align: right;\">\n",
       "      <th></th>\n",
       "      <th>pulocationid</th>\n",
       "      <th>dolocationid</th>\n",
       "      <th>tmode</th>\n",
       "      <th>duration</th>\n",
       "      <th>price</th>\n",
       "      <th>ridership</th>\n",
       "      <th>U</th>\n",
       "      <th>total_commute</th>\n",
       "    </tr>\n",
       "  </thead>\n",
       "  <tbody>\n",
       "    <tr>\n",
       "      <th>2</th>\n",
       "      <td>3</td>\n",
       "      <td>18</td>\n",
       "      <td>3</td>\n",
       "      <td>0.254000</td>\n",
       "      <td>12.900</td>\n",
       "      <td>1748</td>\n",
       "      <td>-13.290643</td>\n",
       "      <td>15801</td>\n",
       "    </tr>\n",
       "    <tr>\n",
       "      <th>3</th>\n",
       "      <td>3</td>\n",
       "      <td>18</td>\n",
       "      <td>5</td>\n",
       "      <td>1.084444</td>\n",
       "      <td>0.000</td>\n",
       "      <td>3174</td>\n",
       "      <td>-1.667835</td>\n",
       "      <td>15801</td>\n",
       "    </tr>\n",
       "    <tr>\n",
       "      <th>4</th>\n",
       "      <td>3</td>\n",
       "      <td>18</td>\n",
       "      <td>8</td>\n",
       "      <td>0.268923</td>\n",
       "      <td>7.432</td>\n",
       "      <td>10879</td>\n",
       "      <td>-7.845594</td>\n",
       "      <td>15801</td>\n",
       "    </tr>\n",
       "    <tr>\n",
       "      <th>5</th>\n",
       "      <td>3</td>\n",
       "      <td>20</td>\n",
       "      <td>5</td>\n",
       "      <td>1.086389</td>\n",
       "      <td>0.000</td>\n",
       "      <td>299</td>\n",
       "      <td>-1.670826</td>\n",
       "      <td>8418</td>\n",
       "    </tr>\n",
       "    <tr>\n",
       "      <th>6</th>\n",
       "      <td>3</td>\n",
       "      <td>20</td>\n",
       "      <td>2</td>\n",
       "      <td>0.600000</td>\n",
       "      <td>2.750</td>\n",
       "      <td>4577</td>\n",
       "      <td>-3.672778</td>\n",
       "      <td>8418</td>\n",
       "    </tr>\n",
       "  </tbody>\n",
       "</table>\n",
       "</div>"
      ],
      "text/plain": [
       "   pulocationid  dolocationid  tmode  duration   price  ridership          U  \\\n",
       "2             3            18      3  0.254000  12.900       1748 -13.290643   \n",
       "3             3            18      5  1.084444   0.000       3174  -1.667835   \n",
       "4             3            18      8  0.268923   7.432      10879  -7.845594   \n",
       "5             3            20      5  1.086389   0.000        299  -1.670826   \n",
       "6             3            20      2  0.600000   2.750       4577  -3.672778   \n",
       "\n",
       "   total_commute  \n",
       "2          15801  \n",
       "3          15801  \n",
       "4          15801  \n",
       "5           8418  \n",
       "6           8418  "
      ]
     },
     "execution_count": 14,
     "metadata": {},
     "output_type": "execute_result"
    }
   ],
   "source": [
    "test_data.head()"
   ]
  },
  {
   "cell_type": "markdown",
   "metadata": {
    "id": "E_LuYA-uHabi"
   },
   "source": [
    "## Task 1.1.\n",
    "\n",
    "Fit the model (1) for different values of $\\lambda$ over the given interval (uniform prior) $\\lambda \\in [0.1, 0.15]$. Sample $\\lambda$ with the step 0.00001. Plot the cumulative log-likelihood of the training data as a function of $\\lambda$ on this interval. Given the uniform prior, this log-likelihood also serves as a posterior log-likelihood of the $\\lambda$ estimate. Report the most likely $\\lambda$ from that interval.\n",
    "\n",
    "Further assess the mean and standard deviation of lambdas (likelihood$^*$-weighted), together with a 99.9\\% confidence interval for it.\n",
    "\n",
    "$^*$ Note that one should distinguish likelihood from log-likelihood. The first is the exp of the second. Also one may compute the relative likelihood $\\sim \\exp(loglikelihood - max(loglikelihood))$ in order to avoid highly negative exponents making all the likelihood scores computationally indistinguishable from zero."
   ]
  },
  {
   "cell_type": "code",
   "execution_count": 15,
   "metadata": {
    "id": "5KZLtStFItQy"
   },
   "outputs": [],
   "source": [
    "def calculate_log_likelihoods(lambdas, all_U):\n",
    "    results = []\n",
    "    for lambd in lambdas:\n",
    "        max_U = np.max(lambd * all_U)  # Max of scaled utilities\n",
    "        log_sum_exp = np.log(np.sum(np.exp(lambd * all_U - max_U)))  # Subtract max_U to stabilize\n",
    "        log_probs = lambd * all_U - (log_sum_exp + max_U)  # Calculate log-probabilities\n",
    "        cumulative_log_likelihood = np.sum(log_probs)\n",
    "        results.append(cumulative_log_likelihood)\n",
    "    return results"
   ]
  },
  {
   "cell_type": "code",
   "execution_count": 17,
   "metadata": {},
   "outputs": [
    {
     "data": {
      "image/png": "[encoded data removed]",
      "text/plain": [
       "<Figure size 1000x600 with 1 Axes>"
      ]
     },
     "metadata": {},
     "output_type": "display_data"
    },
    {
     "name": "stdout",
     "output_type": "stream",
     "text": [
      "Most likely lambda: 0.10000\n",
      "Weighted mean lambda: 0.10042\n",
      "Standard deviation of lambda: 0.00042\n",
      "99.9% Confidence Interval for Lambda: [0.10002 0.14998]\n"
     ]
    }
   ],
   "source": [
    "all_U = train_data['U'].values  \n",
    "lambdas = np.arange(0.1, 0.15001, 0.00001)\n",
    "\n",
    "ll = calculate_log_likelihoods(lambdas, all_U)\n",
    "\n",
    "# Plot\n",
    "plt.figure(figsize=(10, 6))\n",
    "plt.plot(lambdas, ll, label='Cumulative Log-Likelihood')\n",
    "plt.title('Cumulative Log-Likelihood vs. Lambda')\n",
    "plt.xlabel('Lambda')\n",
    "plt.ylabel('Cumulative Log-Likelihood')\n",
    "plt.legend()\n",
    "plt.grid(True)\n",
    "plt.show()\n",
    "\n",
    "max_index = np.argmax(ll)\n",
    "most_likely_lambda = lambdas[max_index]\n",
    "print(f\"Most likely lambda: {most_likely_lambda:.5f}\")\n",
    "\n",
    "exp_log_likelihoods = np.exp(ll - np.max(ll))\n",
    "weights = exp_log_likelihoods / np.sum(exp_log_likelihoods)\n",
    "mean_lambda = np.sum(weights * lambdas)\n",
    "std_lambda = np.sqrt(np.sum(weights * (lambdas - mean_lambda)**2))\n",
    "\n",
    "confidence_interval = np.percentile(lambdas, [0.05, 99.95], interpolation='nearest')\n",
    "\n",
    "print(f\"Weighted mean lambda: {mean_lambda:.5f}\")\n",
    "print(f\"Standard deviation of lambda: {std_lambda:.5f}\")\n",
    "print(f\"99.9% Confidence Interval for Lambda: {confidence_interval}\")"
   ]
  },
  {
   "cell_type": "markdown",
   "metadata": {
    "id": "xl7TPF5LwNdF"
   },
   "source": [
    "## Task 1.2.\n",
    "Given the posterior likelihood for the $\\lambda$ as defined above, assess the model choice prediction over the test set. Run the model for all $\\lambda$ from the above range and for all the O-D pairs from the test set compute the likelihood-weighted mean and standard deviation of the model predictions. Record those as \"est_ridership_mu\" and \"est_ridership_std\" columns into the test set dataframe, and output the first 20 rows of this dataframe."
   ]
  },
  {
   "cell_type": "code",
   "execution_count": 25,
   "metadata": {
    "id": "VKWiODomCfjb"
   },
   "outputs": [],
   "source": [
    "all_U = test_data['U'].values \n",
    "\n",
    "ll1 = calculate_log_likelihoods(lambdas, all_U)"
   ]
  },
  {
   "cell_type": "code",
   "execution_count": 31,
   "metadata": {},
   "outputs": [
    {
     "name": "stdout",
     "output_type": "stream",
     "text": [
      "Weighted mean lambda: 0.10000\n",
      "Standard deviation of lambda: 4.914216726168832e-06\n",
      "99.9% Confidence Interval for Lambda: [0.10002 0.14998]\n"
     ]
    }
   ],
   "source": [
    "exp_log_likelihoods = np.exp(ll1 - np.max(ll1))\n",
    "weights = exp_log_likelihoods / np.sum(exp_log_likelihoods)\n",
    "mean_lambda = np.sum(weights * lambdas)\n",
    "std_lambda = np.sqrt(np.sum(weights * (lambdas - mean_lambda)**2))\n",
    "\n",
    "confidence_interval = np.percentile(lambdas, [0.05, 99.95], interpolation='nearest')\n",
    "\n",
    "print(f\"Weighted mean lambda: {mean_lambda:.5f}\")\n",
    "print(f\"Standard deviation of lambda: {std_lambda}\")\n",
    "print(f\"99.9% Confidence Interval for Lambda: {confidence_interval}\")"
   ]
  },
  {
   "cell_type": "code",
   "execution_count": null,
   "metadata": {},
   "outputs": [],
   "source": []
  },
  {
   "cell_type": "markdown",
   "metadata": {
    "id": "SXNG2PKB8AzY"
   },
   "source": [
    "## Custom Neural Network model for mode-choice probabilities\n",
    "\n",
    "The Multinomial logit model above is based on having closed form solutions for mode probabilites under certain assumptions about the individual choice factors. However not depending on that allow us to have further flexibility in choosing the modeling framework.\n",
    "\n",
    "Let's introduce a simulation based approach for individual choice probabilities. Here, for each o-d pair we assess utility based on travel time and cost estimates as well as a random factor, representing individual preferences towards each mode as $U = -(T*C + P) * \\epsilon$, where T is the travel time estimate, P is the travel fare/cost estimate and C is the adjustment for hourly income for NYC. The random factor $\\epsilon$ is considered to be a random log-normally distributed variable, such that\n",
    "$$\n",
    "\\epsilon = e^\\varepsilon, \\varepsilon\\sim N(0, \\sigma^2)\n",
    "$$\n",
    "where $\\sigma$ defining the average relative \"strength\" of the individual choice factors is going to be a parameter of our model.\n",
    "\n",
    "The mode-choice probabilities are then directly determined by the maximum utilities of 4 modes in question for a given o-d pair.\n",
    "\n",
    "Unlike the multinomial logit model setting, the model formulation above might not have a closed-form analytic solution for the choice probabilities, so we may need to perform the choice simulations directly. However, performing parameter estimation through simulations might be computationally costly. In order to streamline the computational process, we first implement a neural network (NN) model fitting the mode-choice probabilities between the four transportation mode as the function of their utilities with model parameters.\n",
    "\n",
    "We'll simulate 50,000 random utilities to fit the NN, with the simulated utilities being the input to get probabilities as the outputs. The model architecture consists of three hidden layers with 8,12,8 neurons respectively, with a rectified linear unit (\"relu\") activation for hidden and sigmoid for the output layer trained on 'binary cross-entropy' objective function.\n",
    "\n",
    "We can then use this trained NN model for estimating mode-choice probabilities for the LEHD mobility data (calculating the mode utilities for each o-d) instead of using simulations or explicit analytic formulas."
   ]
  },
  {
   "cell_type": "code",
   "execution_count": null,
   "metadata": {
    "id": "YS8gRnbK8AzY"
   },
   "outputs": [],
   "source": [
    "! pip install --force-reinstall charset-normalizer==3.1.0\n",
    "! pip install chardet\n",
    "\n",
    "from scipy.stats import norm\n",
    "from keras.losses import KLDivergence\n",
    "from keras.models import Sequential\n",
    "from keras.layers import Dense\n",
    "from sklearn.metrics import mean_squared_error\n",
    "from numpy import nan\n",
    "\n",
    "import time"
   ]
  },
  {
   "cell_type": "code",
   "execution_count": null,
   "metadata": {
    "id": "n6ck4HKkialL"
   },
   "outputs": [],
   "source": [
    "#simulate sampleN random utility vectors for N modes\n",
    "def randomUS(N = 4, sampleN = 10000, muU = 0, sigmaU = 1, srange = [0, 1]):\n",
    "    U = np.random.normal(loc = muU, scale = sigmaU, size = (sampleN, N))\n",
    "    S = np.random.uniform(low = srange[0], high = srange[1], size = (sampleN, 1))\n",
    "    return np.concatenate([U, S], axis = 1)"
   ]
  },
  {
   "cell_type": "code",
   "execution_count": null,
   "metadata": {
    "id": "_24akzKGio8J"
   },
   "outputs": [],
   "source": [
    "#generate a random sample of U's and sigma's for further choice probability simulation and neural network training to model those\n",
    "np.random.seed(1)\n",
    "sampleN = 100000\n",
    "US_train = randomUS(N = 4, sampleN = sampleN, muU = train_data['U'].mean(), sigmaU = train_data['U'].std(), srange = [0, 3])"
   ]
  },
  {
   "cell_type": "code",
   "execution_count": null,
   "metadata": {
    "colab": {
     "base_uri": "https://localhost:8080/"
    },
    "id": "LQfO2JKFjBeK",
    "outputId": "1ef481da-fb43-428d-950d-0f74d12b4c4e"
   },
   "outputs": [],
   "source": [
    "US_train"
   ]
  },
  {
   "cell_type": "code",
   "execution_count": null,
   "metadata": {
    "id": "PMB-MCF38AzY"
   },
   "outputs": [],
   "source": [
    "#function simulated choices probabilities\n",
    "def simChoice(US, N):\n",
    "    #U - scenarios with utilities n x m array, n - number of scenarios, m - number of choices\n",
    "    #sigma - random component std\n",
    "    #N - number of simulations\n",
    "    n = US.shape[0]; m = US.shape[1] - 1 #number of scenarios choices\n",
    "    e = np.random.normal(loc = 0, scale = 1, size = (N, n, m)) * US[:, -1].reshape((1, -1, 1))\n",
    "    Usim = np.exp(e) * US[:, :-1] #simulated utilities\n",
    "    ch = np.argmax(Usim, axis = 2) #choices\n",
    "    p = []\n",
    "    for k in range(m):\n",
    "      p += [list((ch == k).sum(axis = 0))]\n",
    "    p = np.array(p).T\n",
    "    p = p / p.sum(axis = 1, keepdims = True) #choice probabilities\n",
    "    return p\n",
    "\n"
   ]
  },
  {
   "cell_type": "code",
   "execution_count": null,
   "metadata": {
    "id": "CDbGsEofjJfT"
   },
   "outputs": [],
   "source": [
    "#assess the choice probabilities over 10.000 chunks of the training set of U's and sigma's\n",
    "P_train = np.zeros((sampleN, 4))\n",
    "for i in range(sampleN // 10000 + 1):\n",
    "    P_train[(10000 * (i-1)) : (10000 * i), :] = simChoice(US = US_train[(10000 * (i-1)) : (10000 * i), :], N = 1000)"
   ]
  },
  {
   "cell_type": "code",
   "execution_count": null,
   "metadata": {
    "id": "tlCNcoKrsmy_"
   },
   "outputs": [],
   "source": [
    "US_test = randomUS(N = 4, sampleN = 1000, muU = train_data['U'].mean(), sigmaU = train_data['U'].std(), srange = [0, 3])\n",
    "P_test = simChoice(US = US_test, N = 1000)"
   ]
  },
  {
   "cell_type": "markdown",
   "metadata": {
    "id": "1Lz3eSnekKMJ"
   },
   "source": [
    "## Task 2.1 (extracredit)\n",
    "Given this training data above (array of simulated utilities and sigmas US_train and the corresponding choice probabilities P_train) train a Neural Network Model with an input layer of 5 neurons (receiving utilities U1,2,3,4 and sigma), 3 hidden layers 10 neurons each, softmax output layer with 4 neurons representing 4 mode choice probabilities, adam optimizer, kullback_leibler_divergence opjective function, 100 epochs, batches of size 100). You may use keras or pytorch.\n",
    "\n",
    "Apply the model to the test set, compare its output with actual probabilities for the first 10 rows of the training set. Compute the overall KL_divergence and MSE"
   ]
  },
  {
   "cell_type": "code",
   "execution_count": null,
   "metadata": {
    "id": "Sjyjb0WzoJDz"
   },
   "outputs": [],
   "source": []
  },
  {
   "cell_type": "markdown",
   "metadata": {
    "id": "LQv7uDMmoJtf"
   },
   "source": [
    "## Task 2.2(extracredit).\n",
    "Apply the model to training data from the task 1 for sigma = 1"
   ]
  },
  {
   "cell_type": "markdown",
   "metadata": {
    "id": "IkuYmE3vrO1u"
   },
   "source": [
    "##Task 2.3 (extracredit)\n",
    "\n",
    "Try different sigmas (try to pick the proper range). Identify the sigma maximizing the likelihood of the training data. Report it together with likelihood-weighted mean and standard deviation"
   ]
  },
  {
   "cell_type": "code",
   "execution_count": null,
   "metadata": {
    "id": "LJfYfZ9NrS7T"
   },
   "outputs": [],
   "source": []
  },
  {
   "cell_type": "markdown",
   "metadata": {
    "id": "8xHTqxeXrYpx"
   },
   "source": [
    "## Task 2.4(extracredit)\n",
    "\n",
    "Similar to task 1, run the model over the test data with different sigmas from your prior range, record the resulting likelihood-weighted mean and std into the dataframe, output the first 20 columns"
   ]
  },
  {
   "cell_type": "code",
   "execution_count": null,
   "metadata": {
    "id": "gmiRs2Otrvt1"
   },
   "outputs": [],
   "source": []
  }
 ],
 "metadata": {
  "colab": {
   "provenance": []
  },
  "kernelspec": {
   "display_name": "Python 3 (ipykernel)",
   "language": "python",
   "name": "python3"
  },
  "language_info": {
   "codemirror_mode": {
    "name": "ipython",
    "version": 3
   },
   "file_extension": ".py",
   "mimetype": "text/x-python",
   "name": "python",
   "nbconvert_exporter": "python",
   "pygments_lexer": "ipython3",
   "version": "3.11.4"
  }
 },
 "nbformat": 4,
 "nbformat_minor": 1
}
