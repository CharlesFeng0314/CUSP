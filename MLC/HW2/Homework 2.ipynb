{
 "cells": [
  {
   "cell_type": "markdown",
   "metadata": {},
   "source": [
    "Total points for this HW: 10\n",
    "\n",
    "Please note: Copying and pasting other people's work is absolutely prohibited. Any such cases will be reported to CUSP's education team and severely punished. Discussion is encouraged, and feel free to exchange ideas with your classmates, but please write your own code and do your own work."
   ]
  },
  {
   "cell_type": "code",
   "execution_count": 2,
   "metadata": {},
   "outputs": [],
   "source": [
    "import numpy as np\n",
    "import pandas as pd\n",
    "import matplotlib.pyplot as plt\n",
    "from matplotlib import rcParams\n",
    "rcParams['figure.figsize'] = 6, 4"
   ]
  },
  {
   "cell_type": "markdown",
   "metadata": {},
   "source": [
    "## Question 1 (25%)\n",
    "\n",
    "### Consider the dataset HW2_task1.csv, a binary classification problem with two real-valued input attributes.  As you can see from the plot, the dataset is linearly separable. Train a linear SVM (setting C=100000 just to emphasize that no slack variables are allowed) and  answer the following five questions: "
   ]
  },
  {
   "cell_type": "code",
   "execution_count": 3,
   "metadata": {
    "scrolled": false
   },
   "outputs": [
    {
     "name": "stderr",
     "output_type": "stream",
     "text": [
      "/var/folders/qp/9y56mfxx3zq2c_cjbvf9xg_w0000gn/T/ipykernel_64914/2134061249.py:6: MatplotlibDeprecationWarning: The get_cmap function was deprecated in Matplotlib 3.7 and will be removed two minor releases later. Use ``matplotlib.colormaps[name]`` or ``matplotlib.colormaps.get_cmap(obj)`` instead.\n",
      "  plt.scatter(X.iloc[:,0], X.iloc[:,1], s=50, c=Y, cmap=plt.cm.get_cmap('coolwarm', 2))\n"
     ]
    },
    {
     "data": {
      "image/png": "[encoded data removed]",
      "text/plain": [
       "<Figure size 600x400 with 1 Axes>"
      ]
     },
     "metadata": {},
     "output_type": "display_data"
    },
    {
     "data": {
      "text/html": [
       "<div>\n",
       "<style scoped>\n",
       "    .dataframe tbody tr th:only-of-type {\n",
       "        vertical-align: middle;\n",
       "    }\n",
       "\n",
       "    .dataframe tbody tr th {\n",
       "        vertical-align: top;\n",
       "    }\n",
       "\n",
       "    .dataframe thead th {\n",
       "        text-align: right;\n",
       "    }\n",
       "</style>\n",
       "<table border=\"1\" class=\"dataframe\">\n",
       "  <thead>\n",
       "    <tr style=\"text-align: right;\">\n",
       "      <th></th>\n",
       "      <th>x1</th>\n",
       "      <th>x2</th>\n",
       "      <th>y</th>\n",
       "    </tr>\n",
       "  </thead>\n",
       "  <tbody>\n",
       "    <tr>\n",
       "      <th>0</th>\n",
       "      <td>2.515039</td>\n",
       "      <td>-1.408103</td>\n",
       "      <td>0</td>\n",
       "    </tr>\n",
       "    <tr>\n",
       "      <th>1</th>\n",
       "      <td>1.952127</td>\n",
       "      <td>-2.488405</td>\n",
       "      <td>0</td>\n",
       "    </tr>\n",
       "    <tr>\n",
       "      <th>2</th>\n",
       "      <td>2.354953</td>\n",
       "      <td>-2.391813</td>\n",
       "      <td>0</td>\n",
       "    </tr>\n",
       "    <tr>\n",
       "      <th>3</th>\n",
       "      <td>0.135739</td>\n",
       "      <td>-3.371490</td>\n",
       "      <td>0</td>\n",
       "    </tr>\n",
       "    <tr>\n",
       "      <th>4</th>\n",
       "      <td>-0.226275</td>\n",
       "      <td>-2.118110</td>\n",
       "      <td>0</td>\n",
       "    </tr>\n",
       "    <tr>\n",
       "      <th>5</th>\n",
       "      <td>1.880152</td>\n",
       "      <td>-1.817401</td>\n",
       "      <td>0</td>\n",
       "    </tr>\n",
       "    <tr>\n",
       "      <th>6</th>\n",
       "      <td>2.657739</td>\n",
       "      <td>-3.646232</td>\n",
       "      <td>0</td>\n",
       "    </tr>\n",
       "    <tr>\n",
       "      <th>7</th>\n",
       "      <td>3.141584</td>\n",
       "      <td>-3.439089</td>\n",
       "      <td>0</td>\n",
       "    </tr>\n",
       "    <tr>\n",
       "      <th>8</th>\n",
       "      <td>1.255008</td>\n",
       "      <td>-3.739220</td>\n",
       "      <td>0</td>\n",
       "    </tr>\n",
       "    <tr>\n",
       "      <th>9</th>\n",
       "      <td>2.332197</td>\n",
       "      <td>-2.738413</td>\n",
       "      <td>0</td>\n",
       "    </tr>\n",
       "    <tr>\n",
       "      <th>10</th>\n",
       "      <td>2.233786</td>\n",
       "      <td>-1.753086</td>\n",
       "      <td>0</td>\n",
       "    </tr>\n",
       "    <tr>\n",
       "      <th>11</th>\n",
       "      <td>-0.822521</td>\n",
       "      <td>-2.969131</td>\n",
       "      <td>0</td>\n",
       "    </tr>\n",
       "    <tr>\n",
       "      <th>12</th>\n",
       "      <td>3.266186</td>\n",
       "      <td>0.017666</td>\n",
       "      <td>0</td>\n",
       "    </tr>\n",
       "    <tr>\n",
       "      <th>13</th>\n",
       "      <td>0.891194</td>\n",
       "      <td>-2.083854</td>\n",
       "      <td>0</td>\n",
       "    </tr>\n",
       "    <tr>\n",
       "      <th>14</th>\n",
       "      <td>3.198802</td>\n",
       "      <td>0.931705</td>\n",
       "      <td>0</td>\n",
       "    </tr>\n",
       "    <tr>\n",
       "      <th>15</th>\n",
       "      <td>1.117487</td>\n",
       "      <td>-3.782232</td>\n",
       "      <td>0</td>\n",
       "    </tr>\n",
       "    <tr>\n",
       "      <th>16</th>\n",
       "      <td>1.518036</td>\n",
       "      <td>-0.063994</td>\n",
       "      <td>0</td>\n",
       "    </tr>\n",
       "    <tr>\n",
       "      <th>17</th>\n",
       "      <td>1.992133</td>\n",
       "      <td>-1.988497</td>\n",
       "      <td>0</td>\n",
       "    </tr>\n",
       "    <tr>\n",
       "      <th>18</th>\n",
       "      <td>2.518604</td>\n",
       "      <td>-1.732058</td>\n",
       "      <td>0</td>\n",
       "    </tr>\n",
       "    <tr>\n",
       "      <th>19</th>\n",
       "      <td>2.132432</td>\n",
       "      <td>-3.443323</td>\n",
       "      <td>0</td>\n",
       "    </tr>\n",
       "    <tr>\n",
       "      <th>20</th>\n",
       "      <td>3.523134</td>\n",
       "      <td>-1.223233</td>\n",
       "      <td>0</td>\n",
       "    </tr>\n",
       "    <tr>\n",
       "      <th>21</th>\n",
       "      <td>1.111132</td>\n",
       "      <td>-3.999431</td>\n",
       "      <td>0</td>\n",
       "    </tr>\n",
       "    <tr>\n",
       "      <th>22</th>\n",
       "      <td>2.348388</td>\n",
       "      <td>-2.010521</td>\n",
       "      <td>0</td>\n",
       "    </tr>\n",
       "    <tr>\n",
       "      <th>23</th>\n",
       "      <td>-3.417350</td>\n",
       "      <td>3.250894</td>\n",
       "      <td>1</td>\n",
       "    </tr>\n",
       "    <tr>\n",
       "      <th>24</th>\n",
       "      <td>-1.238494</td>\n",
       "      <td>2.812948</td>\n",
       "      <td>1</td>\n",
       "    </tr>\n",
       "    <tr>\n",
       "      <th>25</th>\n",
       "      <td>-3.105345</td>\n",
       "      <td>0.151024</td>\n",
       "      <td>1</td>\n",
       "    </tr>\n",
       "    <tr>\n",
       "      <th>26</th>\n",
       "      <td>-3.314114</td>\n",
       "      <td>1.977965</td>\n",
       "      <td>1</td>\n",
       "    </tr>\n",
       "    <tr>\n",
       "      <th>27</th>\n",
       "      <td>-4.071989</td>\n",
       "      <td>2.037487</td>\n",
       "      <td>1</td>\n",
       "    </tr>\n",
       "    <tr>\n",
       "      <th>28</th>\n",
       "      <td>-1.375289</td>\n",
       "      <td>1.925039</td>\n",
       "      <td>1</td>\n",
       "    </tr>\n",
       "    <tr>\n",
       "      <th>29</th>\n",
       "      <td>-1.575828</td>\n",
       "      <td>2.103404</td>\n",
       "      <td>1</td>\n",
       "    </tr>\n",
       "    <tr>\n",
       "      <th>30</th>\n",
       "      <td>-2.242692</td>\n",
       "      <td>3.304826</td>\n",
       "      <td>1</td>\n",
       "    </tr>\n",
       "    <tr>\n",
       "      <th>31</th>\n",
       "      <td>-2.554947</td>\n",
       "      <td>0.782325</td>\n",
       "      <td>1</td>\n",
       "    </tr>\n",
       "    <tr>\n",
       "      <th>32</th>\n",
       "      <td>-1.306110</td>\n",
       "      <td>1.236800</td>\n",
       "      <td>1</td>\n",
       "    </tr>\n",
       "    <tr>\n",
       "      <th>33</th>\n",
       "      <td>-1.841750</td>\n",
       "      <td>1.935945</td>\n",
       "      <td>1</td>\n",
       "    </tr>\n",
       "    <tr>\n",
       "      <th>34</th>\n",
       "      <td>-3.754358</td>\n",
       "      <td>4.129561</td>\n",
       "      <td>1</td>\n",
       "    </tr>\n",
       "    <tr>\n",
       "      <th>35</th>\n",
       "      <td>-1.440116</td>\n",
       "      <td>1.184523</td>\n",
       "      <td>1</td>\n",
       "    </tr>\n",
       "    <tr>\n",
       "      <th>36</th>\n",
       "      <td>-1.648902</td>\n",
       "      <td>1.130231</td>\n",
       "      <td>1</td>\n",
       "    </tr>\n",
       "    <tr>\n",
       "      <th>37</th>\n",
       "      <td>-1.972468</td>\n",
       "      <td>1.556339</td>\n",
       "      <td>1</td>\n",
       "    </tr>\n",
       "    <tr>\n",
       "      <th>38</th>\n",
       "      <td>-0.292779</td>\n",
       "      <td>3.162470</td>\n",
       "      <td>1</td>\n",
       "    </tr>\n",
       "    <tr>\n",
       "      <th>39</th>\n",
       "      <td>-0.935646</td>\n",
       "      <td>0.596936</td>\n",
       "      <td>1</td>\n",
       "    </tr>\n",
       "    <tr>\n",
       "      <th>40</th>\n",
       "      <td>-2.023718</td>\n",
       "      <td>1.983579</td>\n",
       "      <td>1</td>\n",
       "    </tr>\n",
       "    <tr>\n",
       "      <th>41</th>\n",
       "      <td>-1.922335</td>\n",
       "      <td>1.163433</td>\n",
       "      <td>1</td>\n",
       "    </tr>\n",
       "    <tr>\n",
       "      <th>42</th>\n",
       "      <td>-0.572205</td>\n",
       "      <td>1.839095</td>\n",
       "      <td>1</td>\n",
       "    </tr>\n",
       "    <tr>\n",
       "      <th>43</th>\n",
       "      <td>-2.532430</td>\n",
       "      <td>1.111323</td>\n",
       "      <td>1</td>\n",
       "    </tr>\n",
       "    <tr>\n",
       "      <th>44</th>\n",
       "      <td>1.132324</td>\n",
       "      <td>2.500013</td>\n",
       "      <td>1</td>\n",
       "    </tr>\n",
       "    <tr>\n",
       "      <th>45</th>\n",
       "      <td>-1.531331</td>\n",
       "      <td>0.000012</td>\n",
       "      <td>1</td>\n",
       "    </tr>\n",
       "  </tbody>\n",
       "</table>\n",
       "</div>"
      ],
      "text/plain": [
       "          x1        x2  y\n",
       "0   2.515039 -1.408103  0\n",
       "1   1.952127 -2.488405  0\n",
       "2   2.354953 -2.391813  0\n",
       "3   0.135739 -3.371490  0\n",
       "4  -0.226275 -2.118110  0\n",
       "5   1.880152 -1.817401  0\n",
       "6   2.657739 -3.646232  0\n",
       "7   3.141584 -3.439089  0\n",
       "8   1.255008 -3.739220  0\n",
       "9   2.332197 -2.738413  0\n",
       "10  2.233786 -1.753086  0\n",
       "11 -0.822521 -2.969131  0\n",
       "12  3.266186  0.017666  0\n",
       "13  0.891194 -2.083854  0\n",
       "14  3.198802  0.931705  0\n",
       "15  1.117487 -3.782232  0\n",
       "16  1.518036 -0.063994  0\n",
       "17  1.992133 -1.988497  0\n",
       "18  2.518604 -1.732058  0\n",
       "19  2.132432 -3.443323  0\n",
       "20  3.523134 -1.223233  0\n",
       "21  1.111132 -3.999431  0\n",
       "22  2.348388 -2.010521  0\n",
       "23 -3.417350  3.250894  1\n",
       "24 -1.238494  2.812948  1\n",
       "25 -3.105345  0.151024  1\n",
       "26 -3.314114  1.977965  1\n",
       "27 -4.071989  2.037487  1\n",
       "28 -1.375289  1.925039  1\n",
       "29 -1.575828  2.103404  1\n",
       "30 -2.242692  3.304826  1\n",
       "31 -2.554947  0.782325  1\n",
       "32 -1.306110  1.236800  1\n",
       "33 -1.841750  1.935945  1\n",
       "34 -3.754358  4.129561  1\n",
       "35 -1.440116  1.184523  1\n",
       "36 -1.648902  1.130231  1\n",
       "37 -1.972468  1.556339  1\n",
       "38 -0.292779  3.162470  1\n",
       "39 -0.935646  0.596936  1\n",
       "40 -2.023718  1.983579  1\n",
       "41 -1.922335  1.163433  1\n",
       "42 -0.572205  1.839095  1\n",
       "43 -2.532430  1.111323  1\n",
       "44  1.132324  2.500013  1\n",
       "45 -1.531331  0.000012  1"
      ]
     },
     "execution_count": 3,
     "metadata": {},
     "output_type": "execute_result"
    }
   ],
   "source": [
    "# Data\n",
    "data1=pd.read_csv('HW2_task1.csv')\n",
    "X=data1.iloc[:,:2]\n",
    "Y=data1.iloc[:,2]\n",
    "plt.gca()\n",
    "plt.scatter(X.iloc[:,0], X.iloc[:,1], s=50, c=Y, cmap=plt.cm.get_cmap('coolwarm', 2))\n",
    "plt.show()\n",
    "data1"
   ]
  },
  {
   "cell_type": "markdown",
   "metadata": {},
   "source": [
    "### a. Report the separating hyperplane (line) (5%)."
   ]
  },
  {
   "cell_type": "code",
   "execution_count": 4,
   "metadata": {},
   "outputs": [
    {
     "name": "stderr",
     "output_type": "stream",
     "text": [
      "/var/folders/qp/9y56mfxx3zq2c_cjbvf9xg_w0000gn/T/ipykernel_64914/3125758283.py:15: MatplotlibDeprecationWarning: The get_cmap function was deprecated in Matplotlib 3.7 and will be removed two minor releases later. Use ``matplotlib.colormaps[name]`` or ``matplotlib.colormaps.get_cmap(obj)`` instead.\n",
      "  plt.scatter(X.iloc[:,0], X.iloc[:,1], s=50, c=Y, cmap=plt.cm.get_cmap('coolwarm', 2))\n"
     ]
    },
    {
     "data": {
      "text/plain": [
       "<function matplotlib.pyplot.show(close=None, block=None)>"
      ]
     },
     "execution_count": 4,
     "metadata": {},
     "output_type": "execute_result"
    },
    {
     "data": {
      "image/png": "[encoded data removed]",
      "text/plain": [
       "<Figure size 600x400 with 1 Axes>"
      ]
     },
     "metadata": {},
     "output_type": "display_data"
    }
   ],
   "source": [
    "# your code here\n",
    "from sklearn import svm\n",
    "clf = svm.SVC(kernel='linear', C=100000) # You can try other C; for this example the model is not too sensitive to choice of C.\n",
    "clf.fit(X, Y)\n",
    "# get the separating hyperplane w[0] x1 + w[1] x2 + intercept = 0\n",
    "# transform to slope-intercept form: x2 = (-w[0]/w[1])x1 - (intercept/w[1])\n",
    "w = clf.coef_[0]\n",
    "a = -w[0] / w[1]\n",
    "x1 = np.linspace(-2.5, 2.5)\n",
    "x2 = a * x1 - (clf.intercept_[0]) / w[1]\n",
    "\n",
    "# plot the parallels to the separating hyperplane (slope = a) that go through the support vectors.\n",
    "plt.plot(x1, x2, 'k-')\n",
    "plt.gca()\n",
    "plt.scatter(X.iloc[:,0], X.iloc[:,1], s=50, c=Y, cmap=plt.cm.get_cmap('coolwarm', 2))\n",
    "plt.show"
   ]
  },
  {
   "cell_type": "markdown",
   "metadata": {},
   "source": [
    "### b. List the support vectors (5%)."
   ]
  },
  {
   "cell_type": "code",
   "execution_count": 5,
   "metadata": {},
   "outputs": [
    {
     "data": {
      "text/plain": [
       "array([[ 1.5180363e+00, -6.3993825e-02],\n",
       "       [ 1.1323244e+00,  2.5000131e+00],\n",
       "       [-1.5313310e+00,  1.2000000e-05]])"
      ]
     },
     "execution_count": 5,
     "metadata": {},
     "output_type": "execute_result"
    }
   ],
   "source": [
    "# your code here\n",
    "b = clf.support_vectors_\n",
    "b"
   ]
  },
  {
   "cell_type": "markdown",
   "metadata": {},
   "source": [
    "### c. Calculate and report the upper and lower hyperplanes (lines) of the margin (5%)."
   ]
  },
  {
   "cell_type": "code",
   "execution_count": 6,
   "metadata": {},
   "outputs": [],
   "source": [
    "# your code here\n",
    "b1 = clf.support_vectors_[0]\n",
    "x2_down = a * x1 + (b1[1] - a * b1[0])\n",
    "\n",
    "b2 = clf.support_vectors_[-1]\n",
    "x2_up = a * x1 + (b2[1] - a * b2[0])"
   ]
  },
  {
   "cell_type": "markdown",
   "metadata": {},
   "source": [
    "### d. Compute and report the width of the margin (5%). \n",
    "\n",
    "#### Optional: you can also add a plot showing all points, the separating hyperplane that passes through the support vectors for 5% extra credit."
   ]
  },
  {
   "cell_type": "code",
   "execution_count": 7,
   "metadata": {},
   "outputs": [
    {
     "data": {
      "text/plain": [
       "2.133624846780697"
      ]
     },
     "execution_count": 7,
     "metadata": {},
     "output_type": "execute_result"
    }
   ],
   "source": [
    "# your code here\n",
    "w_margin = (abs(b2[1] - a * b2[0])-(b1[1] - a * b1[0]))/(np.sqrt(a**2+1))\n",
    "w_margin"
   ]
  },
  {
   "cell_type": "code",
   "execution_count": 8,
   "metadata": {},
   "outputs": [
    {
     "name": "stderr",
     "output_type": "stream",
     "text": [
      "/var/folders/qp/9y56mfxx3zq2c_cjbvf9xg_w0000gn/T/ipykernel_64914/1476129327.py:7: MatplotlibDeprecationWarning: The get_cmap function was deprecated in Matplotlib 3.7 and will be removed two minor releases later. Use ``matplotlib.colormaps[name]`` or ``matplotlib.colormaps.get_cmap(obj)`` instead.\n",
      "  plt.scatter(X.iloc[:,0], X.iloc[:,1], s=50, c=Y, cmap=plt.cm.get_cmap('coolwarm', 2))\n"
     ]
    },
    {
     "data": {
      "image/png": "[encoded data removed]",
      "text/plain": [
       "<Figure size 600x400 with 1 Axes>"
      ]
     },
     "metadata": {},
     "output_type": "display_data"
    }
   ],
   "source": [
    "# optional plot here\n",
    "plt.gca()\n",
    "plt.plot(x1, x2, 'k-')\n",
    "plt.plot(x1, x2_down, 'k--')\n",
    "plt.plot(x1, x2_up, 'k--')\n",
    "\n",
    "plt.scatter(X.iloc[:,0], X.iloc[:,1], s=50, c=Y, cmap=plt.cm.get_cmap('coolwarm', 2))\n",
    "\n",
    "\n",
    "plt.axis('tight')\n",
    "plt.show()"
   ]
  },
  {
   "cell_type": "markdown",
   "metadata": {},
   "source": [
    "### e. What would you expect to happen to the margin if the constant C was made very small? (5%)"
   ]
  },
  {
   "cell_type": "markdown",
   "metadata": {},
   "source": [
    "Your answer here.  You can justify your intuitions with code if you'd like, but this is not required."
   ]
  },
  {
   "cell_type": "markdown",
   "metadata": {},
   "source": [
    "Larger C make the model's hyperline more closely stcik with the data. It might caused the overfitting. And smaller C ignor the boundary of the data easily, so it might affact the accuracy of the prediction."
   ]
  },
  {
   "cell_type": "markdown",
   "metadata": {},
   "source": [
    "## Question 2 (25%)\n",
    "\n",
    "### Given the dataset provided below, answer the following questions:"
   ]
  },
  {
   "cell_type": "code",
   "execution_count": 9,
   "metadata": {},
   "outputs": [
    {
     "name": "stderr",
     "output_type": "stream",
     "text": [
      "/var/folders/qp/9y56mfxx3zq2c_cjbvf9xg_w0000gn/T/ipykernel_64914/1785234660.py:7: MatplotlibDeprecationWarning: The get_cmap function was deprecated in Matplotlib 3.7 and will be removed two minor releases later. Use ``matplotlib.colormaps[name]`` or ``matplotlib.colormaps.get_cmap(obj)`` instead.\n",
      "  plt.scatter(X.iloc[:,0], X.iloc[:,1], s=50, c=Y, cmap=plt.cm.get_cmap('coolwarm', 2));\n"
     ]
    },
    {
     "data": {
      "image/png": "[encoded data removed]",
      "text/plain": [
       "<Figure size 600x400 with 1 Axes>"
      ]
     },
     "metadata": {},
     "output_type": "display_data"
    }
   ],
   "source": [
    "# Data \n",
    "data2=pd.read_csv('HW2_task2.csv')\n",
    "X=data2.iloc[:,:2]\n",
    "Y=data2.iloc[:,2]\n",
    "\n",
    "plt.gca()\n",
    "plt.scatter(X.iloc[:,0], X.iloc[:,1], s=50, c=Y, cmap=plt.cm.get_cmap('coolwarm', 2));\n",
    "plt.show()\n",
    "\n",
    "# Generate training (X_train, Y_train) and testing (X_test, Y_test) datasets for out of sample test\n",
    "from sklearn.model_selection import train_test_split\n",
    "X_train, X_test, Y_train, Y_test = train_test_split(X, Y, test_size=0.33, random_state=1)"
   ]
  },
  {
   "cell_type": "markdown",
   "metadata": {},
   "source": [
    "### a. Train a polynomial SVM using the training set. Use the default arguments, and report both in-sample (training set) and out-of-sample (test set) classification accuracy (4%)."
   ]
  },
  {
   "cell_type": "code",
   "execution_count": 10,
   "metadata": {},
   "outputs": [
    {
     "name": "stdout",
     "output_type": "stream",
     "text": [
      "In sample, we successfully predict 84.92537313432837 percent of the data\n"
     ]
    }
   ],
   "source": [
    "from sklearn.model_selection import train_test_split\n",
    "IS = []\n",
    "\n",
    "\n",
    "clf = svm.SVC(kernel='poly') \n",
    "clf.fit(X_train, Y_train)\n",
    "\n",
    "correct=1.0*(clf.predict(X_train)==np.asarray(Y_train)).sum()/len(Y_train)\n",
    "IS.append(correct)\n",
    "    \n",
    "print(\"In sample, we successfully predict {} percent of the data\".format((np.mean(correct))*100))\n"
   ]
  },
  {
   "cell_type": "code",
   "execution_count": 11,
   "metadata": {},
   "outputs": [
    {
     "name": "stdout",
     "output_type": "stream",
     "text": [
      "Out of sample, we successfully predict 85.15151515151516 percent of the data\n"
     ]
    }
   ],
   "source": [
    "# Let's see how we do out of sample, dividing the dataset into training and test, and averaging over 10 random splits.\n",
    "from sklearn.model_selection import train_test_split\n",
    "OS = []\n",
    "\n",
    "\n",
    "clf = svm.SVC(kernel='poly') \n",
    "clf.fit(X_train, Y_train)\n",
    "\n",
    "correct=1.0*(clf.predict(X_test)==Y_test).sum()/len(Y_test)\n",
    "OS.append(correct)\n",
    "    \n",
    "print(\"Out of sample, we successfully predict {} percent of the data\".format((np.mean(correct))*100))\n"
   ]
  },
  {
   "cell_type": "markdown",
   "metadata": {},
   "source": [
    "### Next we will use the validation subset (part of the training set) in order to pick the optimal parameters for the polynomial model.\n",
    "\n",
    "### b. Try polynomials of degree 1,2,3,4. For each degree, consider a variety of regularization constants from the range C=[math.exp(i) for i in np.linspace(-10,2*degree,200)] in order to evaluate the classifier performance over the validation set defined below.  Plot the graph of \"Accuracy vs log(C)\" for each degree. (8%)\n"
   ]
  },
  {
   "cell_type": "code",
   "execution_count": 12,
   "metadata": {
    "scrolled": false
   },
   "outputs": [
    {
     "name": "stdout",
     "output_type": "stream",
     "text": [
      "For degree 1, max log(C) = 0.7471739273856247, max accuracy value is 0.8288288288288288\n",
      "\n",
      "For degree 2, max log(C) = 0.1705299699102887, max accuracy value is 0.7387387387387387\n",
      "\n",
      "For degree 3, max log(C) = 4.844719976266273, max accuracy value is 0.8648648648648649\n",
      "\n",
      "For degree 4, max log(C) = 0.18667391397680153, max accuracy value is 0.7297297297297297\n",
      "\n"
     ]
    },
    {
     "data": {
      "image/png": "[encoded data removed]",
      "text/plain": [
       "<Figure size 600x400 with 1 Axes>"
      ]
     },
     "metadata": {},
     "output_type": "display_data"
    }
   ],
   "source": [
    "# Next we generate validation data (X_vali, Y_vali) from the training dataset. \n",
    "# Denote the remaining training data by (X_train_1, Y_train_1).\n",
    "X_train_1,X_vali,Y_train_1,Y_vali = train_test_split(X_train, Y_train, test_size=0.33, random_state=99)\n",
    "\n",
    "# your code here\n",
    "import math\n",
    "for degree in range(1, 5):\n",
    "    C = [math.exp(i) for i in np.linspace(-10, 2*degree, 200)]\n",
    "    OS_validation = []\n",
    "    for c in C:\n",
    "        clf = svm.SVC(kernel='poly', degree=degree, C=c)\n",
    "        clf.fit(X_train_1, Y_train_1)\n",
    "        correct = 1.0 * (clf.predict(X_vali) == np.asarray(Y_vali)).sum() / len(Y_vali)  # OS score for validation set\n",
    "        OS_validation.append(correct)\n",
    "\n",
    "    temp = pd.DataFrame([C, OS_validation]).T  # put results together.\n",
    "\n",
    "    C_log = [np.log(y) for y in C]  # for a better graph\n",
    "\n",
    "    plt.plot(C_log, OS_validation, label=f'Degree{degree}')\n",
    "    print(f'For degree {degree}, max log(C) = {temp.iloc[temp[1].idxmax()][0]}, max accuracy value is {temp.iloc[temp[1].idxmax()][1]}\\n')\n",
    "\n",
    "\n",
    "plt.legend(loc='upper left')\n",
    "plt.ylabel('Accuracy')    \n",
    "plt.ylabel('Accuracy')\n",
    "plt.xlabel('log(C)')\n",
    "plt.show()\n"
   ]
  },
  {
   "cell_type": "markdown",
   "metadata": {},
   "source": [
    "### c. Explain how each of these selected parameters can impact the performance of the model. Provide insights into the consequences of choosing different values for these parameters, particularly in terms of overfitting, accuracy, generalization, and other (5%)."
   ]
  },
  {
   "cell_type": "markdown",
   "metadata": {},
   "source": [
    "Your answer here. You can justify your intuitions with examples if you want."
   ]
  },
  {
   "cell_type": "markdown",
   "metadata": {},
   "source": [
    "polynomial degrees can determine the the function of curve that fits the data, the more degree of the polynomial, the more curve the function has, how ever, it might casue the overfitting since the funciton is too complicated. The regularization parameter C influences the trade-off between simplicity and accuracy; lower C values promote generalization at the risk of underfitting, while higher C values aim for higher accuracy on the training data but may overfit."
   ]
  },
  {
   "cell_type": "markdown",
   "metadata": {},
   "source": [
    "### d. Choose the optimal degree and the optimal regularization constant C based on these graphs.  Use the optimal degree and C to compute and report the final out-of-sample accuracy of the best classification model selected (8%). "
   ]
  },
  {
   "cell_type": "code",
   "execution_count": 13,
   "metadata": {},
   "outputs": [
    {
     "name": "stdout",
     "output_type": "stream",
     "text": [
      "Out of sample, we successfully predict 86.36363636363636 percent of the data\n"
     ]
    }
   ],
   "source": [
    "# Let's see how we do out of sample, dividing the dataset into training and test, and averaging over 10 random splits.\n",
    "from sklearn.model_selection import train_test_split\n",
    "OS = []\n",
    "\n",
    "\n",
    "clf = svm.SVC(kernel='poly', degree=3, C=np.exp(4.844)) \n",
    "clf.fit(X_train, Y_train)\n",
    "\n",
    "correct=1.0*(clf.predict(X_test)==Y_test).sum()/len(Y_test)\n",
    "OS.append(correct)\n",
    "    \n",
    "print(\"Out of sample, we successfully predict {} percent of the data\".format((np.mean(correct))*100))\n"
   ]
  },
  {
   "cell_type": "markdown",
   "metadata": {},
   "source": [
    "## Question 3 (10%)\n",
    "\n",
    "### This task is to be done with manual calculations rather than using Python.\n",
    "\n",
    "Assume you have a data set as below. It contains records of cars with three features: the type of the car (sports or SUV), the color of the car (red or yellow), and the origin of the car (domestic or imported). And the labels for the data are yes (car was stolen) and no (car was not stolen).\n",
    "\n",
    "CarType,Color,Origin,Stolen?\n",
    "\n",
    "sports,red,domestic,yes\n",
    "\n",
    "sports,red,domestic,yes\n",
    "\n",
    "sports,red,domestic,yes\n",
    "\n",
    "sports,red,domestic,no\n",
    "\n",
    "SUV,red,domestic,no\n",
    "\n",
    "SUV,red,imported,yes\n",
    "\n",
    "SUV,yellow,imported,no\n",
    "\n",
    "SUV,yellow,imported,yes\n",
    "\n",
    "SUV,yellow,domestic,no\n",
    "\n",
    "sports,yellow,imported,no\n",
    "\n",
    "sports,red,imported,yes\n",
    "\n",
    "11 total"
   ]
  },
  {
   "cell_type": "markdown",
   "metadata": {},
   "source": [
    "### Questions (just add responses below, and show how you got this result):\n",
    "\n",
    "#### a. Calculate and repor the following sample probabilities (5%):\n",
    "\n",
    "P(Yes)= 6/11\n",
    "\n",
    "P(No)= 5/11\n",
    "\n",
    "P(Red|Yes)= 5/6\n",
    "\n",
    "P(SUV|Yes)= 1/3\n",
    "\n",
    "P(Domestic|Yes)= 1/2\n",
    "\n",
    "P(Red|No)= 2/5\n",
    "\n",
    "P(SUV|No)= 3/5\n",
    "\n",
    "P(Domestic|No)= 3/5\n",
    "\n",
    "#### b. Using naive Bayes classification, what is the probability that a red, domestic SUV will be stolen? Show your work (5%).\n",
    "\n",
    "Your answer here.\n",
    "\n",
    "P(Yes | red & domestic & SUV)=\n",
    "        ((5/6)(1/2)(1/3)(6/11))/((5/6)(1/2)(1/3)(6/11)+(2/5)(3/5)(3/5)(5/11))\n",
    "        =125/233\n"
   ]
  },
  {
   "cell_type": "markdown",
   "metadata": {},
   "source": [
    "## Question 4 (15%)\n",
    "\n",
    "Consider the following problem involving Gaussian Naive Bayes classification.  We use eight factors to predict if people have diabetes or not. The variables are:\n",
    "\n",
    "y: The label (0 - no diabetes, 1 - diabetes)\n",
    "\n",
    "t_pre: Number of times pregnant\n",
    "\n",
    "glu: Plasma glucose concentration a 2 hours in an oral glucose tolerance test\n",
    "\n",
    "blood_p: Diastolic blood pressure (mm Hg)\n",
    "\n",
    "triceps: Triceps skin fold thickness (mm)\n",
    "\n",
    "serum: 2-Hour serum insulin (mu U/ml)\n",
    "\n",
    "b_m: Body mass index (weight in kg/(height in m)^2)\n",
    "\n",
    "pedigree_f: Diabetes pedigree function\n",
    "\n",
    "age: Age (years)\n",
    "\n",
    "### Using the data provided below, learn a Naive Bayes classifier from the training data and answer the following questions: "
   ]
  },
  {
   "cell_type": "code",
   "execution_count": 14,
   "metadata": {},
   "outputs": [
    {
     "name": "stdout",
     "output_type": "stream",
     "text": [
      "   t_pre  glu  blood_p  triceps  serum   b_m  pedigree_f  age\n",
      "0      3  158       64       13    387  31.2       0.295   24\n",
      "1      0   84       64       22     66  35.8       0.545   21\n",
      "2      9  120       72       22     56  20.8       0.733   48\n",
      "3      4  110       76       20    100  28.4       0.118   27\n",
      "4      2  100       66       20     90  32.9       0.867   28\n"
     ]
    }
   ],
   "source": [
    "# Training data\n",
    "data_train=pd.read_csv(\"HW2_task4_train.csv\") \n",
    "y_train=data_train.iloc[:,1] \n",
    "X_train=data_train.iloc[:,2:] \n",
    "\n",
    "# Testing data\n",
    "data_test=pd.read_csv(\"HW2_task4_test.csv\")\n",
    "y_test=data_test.iloc[:,1]\n",
    "X_test=data_test.iloc[:,2:]\n",
    "\n",
    "print(X_train.head())"
   ]
  },
  {
   "cell_type": "markdown",
   "metadata": {},
   "source": [
    "### a. What is the prediction accuracy for Naive Bayes, both in-sample (on the training data) and out-of-sample (on the test data)? (3%)"
   ]
  },
  {
   "cell_type": "code",
   "execution_count": 15,
   "metadata": {},
   "outputs": [
    {
     "name": "stdout",
     "output_type": "stream",
     "text": [
      "In sample prediction accuracy: 0.7415254237288136\n",
      "Out of sample prediction accuracy: 0.7025316455696202\n"
     ]
    }
   ],
   "source": [
    "# your code here\n",
    "from sklearn.naive_bayes import GaussianNB\n",
    "gnb = GaussianNB()\n",
    "trained_model = gnb.fit(X_train,y_train)\n",
    "y_pred_train = trained_model.predict_proba(X_train)[:,1]\n",
    "y_pred_test = trained_model.predict_proba(X_test)[:,1]\n",
    "\n",
    "# measure accuracy for the binary prediction task\n",
    "print('In sample prediction accuracy:',1.0*sum((y_pred_train>0.5)==y_train)/len(y_train))\n",
    "print('Out of sample prediction accuracy:',1.0*sum((y_pred_test>0.5)==y_test)/len(y_test))\n"
   ]
  },
  {
   "cell_type": "markdown",
   "metadata": {},
   "source": [
    "### b. What is the prior probability of diabetes, learned from the training data? (3%)"
   ]
  },
  {
   "cell_type": "code",
   "execution_count": 16,
   "metadata": {},
   "outputs": [
    {
     "data": {
      "text/plain": [
       "0.326271186440678"
      ]
     },
     "execution_count": 16,
     "metadata": {},
     "output_type": "execute_result"
    }
   ],
   "source": [
    "# your code here\n",
    "d = len(data_train.loc[data_train['y']==1])/len(data_train)\n",
    "d"
   ]
  },
  {
   "cell_type": "markdown",
   "metadata": {},
   "source": [
    "### c. What is the mean and variance of each input variable for patients with diabetes? (3%)"
   ]
  },
  {
   "cell_type": "code",
   "execution_count": 17,
   "metadata": {},
   "outputs": [
    {
     "name": "stdout",
     "output_type": "stream",
     "text": [
      "Means:\n",
      " Unnamed: 0    372.818182\n",
      "y               1.000000\n",
      "t_pre           4.000000\n",
      "glu           142.064935\n",
      "blood_p        74.389610\n",
      "triceps        33.168831\n",
      "serum         200.220779\n",
      "b_m            34.890909\n",
      "pedigree_f      0.614195\n",
      "age            35.441558\n",
      "dtype: float64\n",
      "\n",
      "Variances:\n",
      " Unnamed: 0    48300.598086\n",
      "y                 0.000000\n",
      "t_pre            12.763158\n",
      "glu             977.429938\n",
      "blood_p         181.267259\n",
      "triceps         109.168489\n",
      "serum         16018.542720\n",
      "b_m              40.052153\n",
      "pedigree_f        0.187671\n",
      "age             110.934040\n",
      "dtype: float64\n"
     ]
    }
   ],
   "source": [
    "# your code here\n",
    "dia = data_train.loc[data_train['y']==1]\n",
    "\n",
    "means = dia.mean()\n",
    "variances = dia.var()\n",
    "\n",
    "\n",
    "print(\"Means:\\n\", means)\n",
    "print(\"\\nVariances:\\n\", variances)"
   ]
  },
  {
   "cell_type": "markdown",
   "metadata": {},
   "source": [
    "### d. What is the mean and variance of each input variable for patients without diabetes? (3%)"
   ]
  },
  {
   "cell_type": "code",
   "execution_count": 18,
   "metadata": {},
   "outputs": [
    {
     "name": "stdout",
     "output_type": "stream",
     "text": [
      "Means:\n",
      " Unnamed: 0    392.893082\n",
      "y               0.000000\n",
      "t_pre           2.672956\n",
      "glu           111.238994\n",
      "blood_p        69.088050\n",
      "triceps        27.113208\n",
      "serum         128.257862\n",
      "b_m            31.737736\n",
      "pedigree_f      0.474289\n",
      "age            28.283019\n",
      "dtype: float64\n",
      "\n",
      "Variances:\n",
      " Unnamed: 0    42351.323939\n",
      "y                 0.000000\n",
      "t_pre             6.436669\n",
      "glu             601.664039\n",
      "blood_p         139.371945\n",
      "triceps         103.126343\n",
      "serum          8542.065998\n",
      "b_m              40.395149\n",
      "pedigree_f        0.086169\n",
      "age              69.318128\n",
      "dtype: float64\n"
     ]
    }
   ],
   "source": [
    "# your code here\n",
    "non_dia = data_train.loc[data_train['y']!=1]\n",
    "\n",
    "means1 = non_dia.mean()\n",
    "variances1 = non_dia.var()\n",
    "\n",
    "\n",
    "print(\"Means:\\n\", means1)\n",
    "print(\"\\nVariances:\\n\", variances1)"
   ]
  },
  {
   "cell_type": "markdown",
   "metadata": {},
   "source": [
    "### e. What are some potential steps you may want to use to improve the prediction accuracy? (3%)"
   ]
  },
  {
   "cell_type": "markdown",
   "metadata": {},
   "source": [
    "Use differnet modles like CategoricalNB or MultinomialNB from sklearn.naive_bayes."
   ]
  },
  {
   "cell_type": "markdown",
   "metadata": {},
   "source": [
    "## Question 5 (25%)\n",
    "\n",
    "We have an artificial data set split, where the training set contains both labeled and unlabeled data. Column 'y' is the label, and columns '0','1','2' are categorical variables."
   ]
  },
  {
   "cell_type": "code",
   "execution_count": 19,
   "metadata": {},
   "outputs": [
    {
     "name": "stdout",
     "output_type": "stream",
     "text": [
      "   0  1  2\n",
      "0  4  6  6\n",
      "1  2  6  2\n",
      "2  2  6  2\n",
      "3  6  2  6\n",
      "4  1  2  2\n",
      "5  3  4  4\n",
      "6  6  1  6\n",
      "7  1  3  6\n",
      "8  5  1  1\n",
      "0    0\n",
      "1    1\n",
      "2    0\n",
      "3    1\n",
      "4    1\n",
      "5    0\n",
      "6    0\n",
      "7    0\n",
      "8    1\n",
      "Name: y, dtype: int64\n"
     ]
    }
   ],
   "source": [
    "data_train=pd.read_csv(\"HW2_task5_train.csv\")\n",
    "y_Labeled_train=data_train.iloc[:,1] \n",
    "X_Labeled_train=data_train.iloc[:,2:] \n",
    "\n",
    "data_test=pd.read_csv(\"HW2_task5_test.csv\")\n",
    "y_Labeled_test=data_test.iloc[:,1]\n",
    "X_Labeled_test=data_test.iloc[:,2:]\n",
    "\n",
    "data_Unlabeled=pd.read_csv(\"HW2_task5_unlabeled.csv\")\n",
    "X_Unlabeled_train=data_Unlabeled.iloc[:,1:]\n",
    "\n",
    "print(X_Labeled_train)\n",
    "print(y_Labeled_train)"
   ]
  },
  {
   "cell_type": "markdown",
   "metadata": {},
   "source": [
    "### a. Learn a discrete Naive Bayes classifier from  X_Labeled_train, use it to predict the labels of X_Labeled_test, and report the classification accuracy (10%)."
   ]
  },
  {
   "cell_type": "code",
   "execution_count": 20,
   "metadata": {},
   "outputs": [],
   "source": [
    "# Training a binary Gaussian Naive Bayes Classifier with real-valued input attributes.\n",
    "# Assume that the binary output variable takes on values 0 or 1. \n",
    "def trainNaiveBayesDiscrete(X,y):\n",
    "    prior = 1.*y.sum()/y.count()\n",
    "    nbc = {'prior':prior}\n",
    "    X_1 = X[y==1]\n",
    "    X_0 = X[y==0]\n",
    "    for j in X.columns:\n",
    "        nbc[j+'_1'] = X_1[j].value_counts(normalize=True)\n",
    "        nbc[j+'_0'] = X_0[j].value_counts(normalize=True)\n",
    "    return nbc\n",
    "\n",
    "def testNaiveBayesDiscrete(X,nbc):\n",
    "    y_pred = pd.Series(index=X.index,dtype='float64')\n",
    "    for i in X.index:\n",
    "        # compute odds of y=1\n",
    "        y_pred[i] = nbc['prior']/(1-nbc['prior']) # prior odds\n",
    "        for j in X.columns:\n",
    "            thevalue = X.loc[i,j]\n",
    "            if thevalue not in nbc[j+'_1']:\n",
    "                y_pred[i] = y_pred[i]*1E-3\n",
    "            if thevalue not in nbc[j+'_0']:\n",
    "                y_pred[i] = y_pred[i]*1E3\n",
    "            if (thevalue in nbc[j+'_1']) & (thevalue in nbc[j+'_0']):\n",
    "                y_pred[i] = y_pred[i]*(nbc[j+'_1'][thevalue]+1E-3)/(nbc[j+'_0'][thevalue]+1E-3)\n",
    "        # convert odds to probability of y=1\n",
    "        y_pred[i] = y_pred[i]/(1.0+y_pred[i])\n",
    "    return y_pred"
   ]
  },
  {
   "cell_type": "code",
   "execution_count": 21,
   "metadata": {},
   "outputs": [
    {
     "name": "stdout",
     "output_type": "stream",
     "text": [
      "In sample prediction accuracy: 0.8888888888888888\n",
      "Out of sample prediction accuracy: 0.6388888888888888\n"
     ]
    }
   ],
   "source": [
    "# your code here\n",
    "naive_bayes_classifier = trainNaiveBayesDiscrete(X_Labeled_train,y_Labeled_train)\n",
    "\n",
    "y_pred_train = testNaiveBayesDiscrete(X_Labeled_train,naive_bayes_classifier)\n",
    "y_pred_test = testNaiveBayesDiscrete(X_Labeled_test,naive_bayes_classifier)\n",
    "\n",
    "\n",
    "# measure accuracy for the binary prediction task\n",
    "print('In sample prediction accuracy:',1.0*sum((y_pred_train>0.5)==y_Labeled_train)/len(y_Labeled_train))\n",
    "print('Out of sample prediction accuracy:',1.0*sum((y_pred_test>0.5)==y_Labeled_test)/len(y_Labeled_test))"
   ]
  },
  {
   "cell_type": "markdown",
   "metadata": {},
   "source": [
    "### b. Improve the classification by using the unlabeled data, data_Unlabeled and the EM algorithm to predict labels of X_Labeled_test, and report the new accuracy by EM semi-supervised algorithm (Please feel free to use code from our lab sessions or any packages you prefer) (15%). "
   ]
  },
  {
   "cell_type": "code",
   "execution_count": 22,
   "metadata": {},
   "outputs": [],
   "source": [
    "# your code here\n",
    "def EM(X_Labeled,y_Labeled,X_Unlabeled,num_iters):\n",
    "\n",
    "    # initialize\n",
    "    \n",
    "    t = 0\n",
    "    \n",
    "    if len(y_Labeled) > 0:\n",
    "        nbc = trainNaiveBayesDiscrete(X_Labeled,y_Labeled)\n",
    "    else:\n",
    "        nbc = initializeNaiveBayesRandom(X_Unlabeled)\n",
    "    \n",
    "    while True:\n",
    "        t = t + 1\n",
    "        print('Iteration',t,'of',num_iters)\n",
    "        \n",
    "        # E step - classify with nbc for unlabeled data only\n",
    "        y_pred_Unlabeled = testNaiveBayesDiscrete(X_Unlabeled,nbc)\n",
    "        \n",
    "        # M step\n",
    "        X_for_M_step = pd.concat([X_Labeled,X_Unlabeled],ignore_index=True) \n",
    "        y_for_M_step = pd.concat([y_Labeled,y_pred_Unlabeled],ignore_index=True)\n",
    "        prior = 1.*y_for_M_step.sum()/y_for_M_step.count()\n",
    "        nbc = {'prior':prior}\n",
    "        for j in X_for_M_step.columns:\n",
    "            nbc[j+'_1'] = {}\n",
    "            nbc[j+'_0'] = {}\n",
    "            for theindex in X_for_M_step.index:\n",
    "                current_X = X_for_M_step.loc[theindex,j]\n",
    "                current_y = y_for_M_step.loc[theindex]\n",
    "                if current_X in nbc[j+'_1']:\n",
    "                    nbc[j+'_1'][current_X] += current_y\n",
    "                else:\n",
    "                    nbc[j+'_1'][current_X] = current_y\n",
    "                if current_X in nbc[j+'_0']:\n",
    "                    nbc[j+'_0'][current_X] += (1.0-current_y)\n",
    "                else:\n",
    "                    nbc[j+'_0'][current_X] = 1.0-current_y\n",
    "            # normalize probabilities\n",
    "            tempsum = 0.0\n",
    "            for k in nbc[j+'_1']:\n",
    "                tempsum += nbc[j+'_1'][k]\n",
    "            for k in nbc[j+'_1']:\n",
    "                nbc[j+'_1'][k] /= tempsum\n",
    "            tempsum = 0.0\n",
    "            for k in nbc[j+'_0']:\n",
    "                tempsum += nbc[j+'_0'][k]\n",
    "            for k in nbc[j+'_0']:\n",
    "                nbc[j+'_0'][k] /= tempsum            \n",
    "                       \n",
    "        if t==num_iters:\n",
    "            break\n",
    "            \n",
    "    return nbc"
   ]
  },
  {
   "cell_type": "markdown",
   "metadata": {},
   "source": [
    "b. Improve the classification by using the unlabeled data, data_Unlabeled and the EM algorithm to predict labels of X_Labeled_test, and report the new accuracy by EM semi-supervised algorithm (Please feel free to use code from our lab sessions or any packages you prefer) (15%). "
   ]
  },
  {
   "cell_type": "code",
   "execution_count": 23,
   "metadata": {},
   "outputs": [
    {
     "name": "stdout",
     "output_type": "stream",
     "text": [
      "Iteration 1 of 50\n",
      "Iteration 2 of 50\n",
      "Iteration 3 of 50\n",
      "Iteration 4 of 50\n",
      "Iteration 5 of 50\n",
      "Iteration 6 of 50\n",
      "Iteration 7 of 50\n",
      "Iteration 8 of 50\n",
      "Iteration 9 of 50\n",
      "Iteration 10 of 50\n",
      "Iteration 11 of 50\n",
      "Iteration 12 of 50\n",
      "Iteration 13 of 50\n",
      "Iteration 14 of 50\n",
      "Iteration 15 of 50\n",
      "Iteration 16 of 50\n",
      "Iteration 17 of 50\n",
      "Iteration 18 of 50\n",
      "Iteration 19 of 50\n",
      "Iteration 20 of 50\n",
      "Iteration 21 of 50\n",
      "Iteration 22 of 50\n",
      "Iteration 23 of 50\n",
      "Iteration 24 of 50\n",
      "Iteration 25 of 50\n",
      "Iteration 26 of 50\n",
      "Iteration 27 of 50\n",
      "Iteration 28 of 50\n",
      "Iteration 29 of 50\n",
      "Iteration 30 of 50\n",
      "Iteration 31 of 50\n",
      "Iteration 32 of 50\n",
      "Iteration 33 of 50\n",
      "Iteration 34 of 50\n",
      "Iteration 35 of 50\n",
      "Iteration 36 of 50\n",
      "Iteration 37 of 50\n",
      "Iteration 38 of 50\n",
      "Iteration 39 of 50\n",
      "Iteration 40 of 50\n",
      "Iteration 41 of 50\n",
      "Iteration 42 of 50\n",
      "Iteration 43 of 50\n",
      "Iteration 44 of 50\n",
      "Iteration 45 of 50\n",
      "Iteration 46 of 50\n",
      "Iteration 47 of 50\n",
      "Iteration 48 of 50\n",
      "Iteration 49 of 50\n",
      "Iteration 50 of 50\n",
      "In sample prediction accuracy: 0.6666666666666666\n",
      "Out of sample prediction accuracy: 0.8055555555555556\n"
     ]
    }
   ],
   "source": [
    "naive_bayes_classifier=EM(X_Labeled_train,y_Labeled_train,X_Unlabeled_train,num_iters=50)\n",
    "y_pred_train = testNaiveBayesDiscrete(X_Labeled_train,naive_bayes_classifier)\n",
    "y_pred_test = testNaiveBayesDiscrete(X_Labeled_test,naive_bayes_classifier)\n",
    "\n",
    "# measure accuracy for the binary prediction task\n",
    "print('In sample prediction accuracy:',1.0*sum((y_pred_train>0.5)==y_Labeled_train)/len(y_Labeled_train))\n",
    "print('Out of sample prediction accuracy:',1.0*sum((y_pred_test>0.5)==y_Labeled_test)/len(y_Labeled_test))"
   ]
  },
  {
   "cell_type": "code",
   "execution_count": null,
   "metadata": {},
   "outputs": [],
   "source": []
  }
 ],
 "metadata": {
  "kernelspec": {
   "display_name": "Python 3 (ipykernel)",
   "language": "python",
   "name": "python3"
  },
  "language_info": {
   "codemirror_mode": {
    "name": "ipython",
    "version": 3
   },
   "file_extension": ".py",
   "mimetype": "text/x-python",
   "name": "python",
   "nbconvert_exporter": "python",
   "pygments_lexer": "ipython3",
   "version": "3.11.4"
  }
 },
 "nbformat": 4,
 "nbformat_minor": 1
}
