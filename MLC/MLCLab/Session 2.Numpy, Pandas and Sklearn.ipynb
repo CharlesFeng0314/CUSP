{
 "cells": [
  {
   "cell_type": "code",
   "execution_count": 1,
   "metadata": {},
   "outputs": [],
   "source": [
    "import numpy as np\n",
    "import pandas as pd"
   ]
  },
  {
   "cell_type": "markdown",
   "metadata": {},
   "source": [
    "### Numpy\n",
    "\n",
    "Quickstart tutorial: https://numpy.org/doc/stable/user/quickstart.html"
   ]
  },
  {
   "cell_type": "markdown",
   "metadata": {},
   "source": [
    "NumPy’s main object is the homogeneous multidimensional array. It is a table of elements (usually numbers), all of the same type, indexed by a tuple of positive integers. In NumPy dimensions are called axes. The number of axes is rank."
   ]
  },
  {
   "cell_type": "code",
   "execution_count": 2,
   "metadata": {},
   "outputs": [
    {
     "name": "stdout",
     "output_type": "stream",
     "text": [
      "[[1.  2.5 3. ]\n",
      " [4.  5.  6. ]]\n",
      "2\n",
      "(2, 3)\n",
      "\n",
      "[[1.  4. ]\n",
      " [2.5 5. ]\n",
      " [3.  6. ]]\n",
      "2\n",
      "(3, 2)\n"
     ]
    }
   ],
   "source": [
    "# create a 2 (row) x 3 (column) array from a list of lists. Type can be specified or inferred.\n",
    "a=np.asarray([[1,2.5,3],[4,5,6]],dtype='float32')\n",
    "print(a)\n",
    "print(a.ndim)\n",
    "print(a.shape)\n",
    "\n",
    "print()\n",
    "\n",
    "# a's transpose is a 3 x 2 array. The value of a is not changed by this.\n",
    "aT = a.transpose()\n",
    "print(aT)\n",
    "print(aT.ndim)\n",
    "print(aT.shape)"
   ]
  },
  {
   "cell_type": "code",
   "execution_count": 3,
   "metadata": {},
   "outputs": [
    {
     "data": {
      "text/plain": [
       "dtype('float32')"
      ]
     },
     "execution_count": 3,
     "metadata": {},
     "output_type": "execute_result"
    }
   ],
   "source": [
    "a.dtype"
   ]
  },
  {
   "cell_type": "code",
   "execution_count": 4,
   "metadata": {},
   "outputs": [
    {
     "data": {
      "text/plain": [
       "dtype('int64')"
      ]
     },
     "execution_count": 4,
     "metadata": {},
     "output_type": "execute_result"
    }
   ],
   "source": [
    "# Example of inferred type.  Here it assumes that these are integers... \n",
    "np.asarray([1,2]).dtype"
   ]
  },
  {
   "cell_type": "code",
   "execution_count": 5,
   "metadata": {},
   "outputs": [
    {
     "data": {
      "text/plain": [
       "array([1.+0.j, 2.+0.j])"
      ]
     },
     "execution_count": 5,
     "metadata": {},
     "output_type": "execute_result"
    }
   ],
   "source": [
    "# ... unless you specify otherwise\n",
    "np.asarray([1,2],dtype=\"complex\")"
   ]
  },
  {
   "cell_type": "code",
   "execution_count": 6,
   "metadata": {},
   "outputs": [
    {
     "name": "stdout",
     "output_type": "stream",
     "text": [
      "2.718281828459045\n",
      "1.0\n"
     ]
    }
   ],
   "source": [
    "# exponential and logarithm (base e)\n",
    "print(np.exp(1))\n",
    "print(np.log(np.exp(1)))"
   ]
  },
  {
   "cell_type": "code",
   "execution_count": 7,
   "metadata": {},
   "outputs": [
    {
     "data": {
      "text/plain": [
       "3.141592653589793"
      ]
     },
     "execution_count": 7,
     "metadata": {},
     "output_type": "execute_result"
    }
   ],
   "source": [
    "# built-in constants\n",
    "np.pi"
   ]
  },
  {
   "cell_type": "code",
   "execution_count": 8,
   "metadata": {},
   "outputs": [
    {
     "data": {
      "text/plain": [
       "array([[0.4234983 , 0.37689607],\n",
       "       [0.46055412, 0.13738208],\n",
       "       [0.9055978 , 0.61184153],\n",
       "       [0.40573677, 0.98094182]])"
      ]
     },
     "execution_count": 8,
     "metadata": {},
     "output_type": "execute_result"
    }
   ],
   "source": [
    "# generate an m x n array of random numbers, uniform on [0,1]\n",
    "np.random.rand(4,2)"
   ]
  },
  {
   "cell_type": "code",
   "execution_count": 9,
   "metadata": {},
   "outputs": [
    {
     "data": {
      "text/plain": [
       "1.0"
      ]
     },
     "execution_count": 9,
     "metadata": {},
     "output_type": "execute_result"
    }
   ],
   "source": [
    "# standard trigonmetric operations\n",
    "np.sin(np.pi/2)"
   ]
  },
  {
   "cell_type": "code",
   "execution_count": 10,
   "metadata": {},
   "outputs": [
    {
     "data": {
      "text/plain": [
       "array([0.  , 0.25, 0.5 , 0.75, 1.  , 1.25, 1.5 , 1.75, 2.  ])"
      ]
     },
     "execution_count": 10,
     "metadata": {},
     "output_type": "execute_result"
    }
   ],
   "source": [
    "# generate a uniformly spaced 1-D array (start,end,number of elements)\n",
    "# notice that both endpoints are included by default\n",
    "np.linspace(0,2,9)"
   ]
  },
  {
   "cell_type": "code",
   "execution_count": 11,
   "metadata": {},
   "outputs": [
    {
     "data": {
      "text/plain": [
       "array([  1.        ,   1.77827941,   3.16227766,   5.62341325,\n",
       "        10.        ,  17.7827941 ,  31.6227766 ,  56.23413252,\n",
       "       100.        ])"
      ]
     },
     "execution_count": 11,
     "metadata": {},
     "output_type": "execute_result"
    }
   ],
   "source": [
    "# same idea, but take base to that power\n",
    "# again, both endpoints are included by default\n",
    "np.logspace(0,2,9,base=10)"
   ]
  },
  {
   "cell_type": "code",
   "execution_count": 12,
   "metadata": {},
   "outputs": [
    {
     "data": {
      "text/plain": [
       "array([[1., 1., 1.],\n",
       "       [1., 1., 1.]])"
      ]
     },
     "execution_count": 12,
     "metadata": {},
     "output_type": "execute_result"
    }
   ],
   "source": [
    "# array of ones (input is a tuple of dimensions)\n",
    "np.ones((2,3))"
   ]
  },
  {
   "cell_type": "code",
   "execution_count": 13,
   "metadata": {},
   "outputs": [
    {
     "name": "stdout",
     "output_type": "stream",
     "text": [
      "[[2. 2. 2.]\n",
      " [2. 2. 2.]]\n",
      "\n",
      "[[1. 1. 1.]\n",
      " [1. 1. 1.]]\n",
      "\n",
      "[[2. 2. 2.]\n",
      " [2. 2. 2.]]\n",
      "\n",
      "[[5. 5. 5.]\n",
      " [5. 5. 5.]]\n"
     ]
    }
   ],
   "source": [
    "# element-wise operations\n",
    "\n",
    "# add or multiply two matrices elementwise; returns ValueError if sizes do not match\n",
    "print(np.ones((2,3))+np.ones((2,3)))\n",
    "print()\n",
    "print(np.ones((2,3))*np.ones((2,3)))\n",
    "print()\n",
    "\n",
    "# casts the constant into an appropriately sized matrix\n",
    "print(np.ones((2,3))+1)\n",
    "print()\n",
    "\n",
    "print(np.ones((2,3))*5)"
   ]
  },
  {
   "cell_type": "code",
   "execution_count": 14,
   "metadata": {},
   "outputs": [
    {
     "data": {
      "text/plain": [
       "array([[False, False, False, False, False],\n",
       "       [False, False, False, False, False],\n",
       "       [ True, False, False, False, False],\n",
       "       [False,  True,  True, False, False],\n",
       "       [False, False, False,  True,  True]])"
      ]
     },
     "execution_count": 14,
     "metadata": {},
     "output_type": "execute_result"
    }
   ],
   "source": [
    "# comparison operation is also performed element-wise; can compare to constant\n",
    "np.random.rand(5,5) > 0.8"
   ]
  },
  {
   "cell_type": "code",
   "execution_count": 15,
   "metadata": {},
   "outputs": [
    {
     "data": {
      "text/plain": [
       "array([[0.68578447, 0.04257091],\n",
       "       [0.65831239, 0.21495348]])"
      ]
     },
     "execution_count": 15,
     "metadata": {},
     "output_type": "execute_result"
    }
   ],
   "source": [
    "# again, sin is performed element-wise\n",
    "np.sin(np.random.rand(2,2))"
   ]
  },
  {
   "cell_type": "code",
   "execution_count": 16,
   "metadata": {},
   "outputs": [
    {
     "name": "stdout",
     "output_type": "stream",
     "text": [
      "[0.1 0.2]\n",
      "\n",
      "[[10.  5.]\n",
      " [10.  5.]]\n"
     ]
    }
   ],
   "source": [
    "# So is division.  Vector is cast into matrix with appropriate number of rows  \n",
    "print(np.asarray([0.1,0.2]))\n",
    "print()\n",
    "print(np.ones((2,2))/np.asarray([0.1,0.2]))"
   ]
  },
  {
   "cell_type": "code",
   "execution_count": 17,
   "metadata": {},
   "outputs": [
    {
     "name": "stdout",
     "output_type": "stream",
     "text": [
      "[[0.1]\n",
      " [0.2]]\n",
      "\n",
      "[[10. 10.]\n",
      " [ 5.  5.]]\n"
     ]
    }
   ],
   "source": [
    "# The new shape should be compatible with the original shape. \n",
    "# If an integer, then the result will be a 1-D array of that length. \n",
    "# One shape dimension can be -1. In this case, the value is inferred from the length of the array and remaining dimension\n",
    "print(np.asarray([0.1,0.2]).reshape(-1,1))\n",
    "print()\n",
    "print(np.ones((2,2))/np.asarray([0.1,0.2]).reshape(-1,1))"
   ]
  },
  {
   "cell_type": "code",
   "execution_count": 18,
   "metadata": {},
   "outputs": [
    {
     "name": "stdout",
     "output_type": "stream",
     "text": [
      "[5. 5.]\n",
      "[10.  5.]\n"
     ]
    }
   ],
   "source": [
    "q = np.ones((2,2))/np.asarray([0.1,0.2]).reshape(-1,1)\n",
    "\n",
    "# min of each column\n",
    "print(q.min(axis=0))\n",
    "\n",
    "# min of each row\n",
    "print(q.min(axis=1))\n"
   ]
  },
  {
   "cell_type": "code",
   "execution_count": 19,
   "metadata": {},
   "outputs": [
    {
     "data": {
      "text/plain": [
       "array([[2., 2., 2.],\n",
       "       [2., 2., 2.],\n",
       "       [2., 2., 2.]])"
      ]
     },
     "execution_count": 19,
     "metadata": {},
     "output_type": "execute_result"
    }
   ],
   "source": [
    "tmp=np.ones((3,3))*2\n",
    "tmp"
   ]
  },
  {
   "cell_type": "code",
   "execution_count": 20,
   "metadata": {},
   "outputs": [
    {
     "data": {
      "text/plain": [
       "array([[2., 2., 2.],\n",
       "       [4., 4., 4.],\n",
       "       [6., 6., 6.]])"
      ]
     },
     "execution_count": 20,
     "metadata": {},
     "output_type": "execute_result"
    }
   ],
   "source": [
    "tmp.cumsum(axis=0)"
   ]
  },
  {
   "cell_type": "code",
   "execution_count": 21,
   "metadata": {},
   "outputs": [
    {
     "data": {
      "text/plain": [
       "array([[2., 4., 8.],\n",
       "       [2., 4., 8.],\n",
       "       [2., 4., 8.]])"
      ]
     },
     "execution_count": 21,
     "metadata": {},
     "output_type": "execute_result"
    }
   ],
   "source": [
    "tmp.cumprod(axis=1)"
   ]
  },
  {
   "cell_type": "code",
   "execution_count": 22,
   "metadata": {},
   "outputs": [
    {
     "data": {
      "text/plain": [
       "array([2., 2., 2., 2., 2., 2., 2., 2., 2.])"
      ]
     },
     "execution_count": 22,
     "metadata": {},
     "output_type": "execute_result"
    }
   ],
   "source": [
    "# reshape into 1-D vector\n",
    "tmp.reshape(-1)"
   ]
  },
  {
   "cell_type": "code",
   "execution_count": 23,
   "metadata": {},
   "outputs": [
    {
     "data": {
      "text/plain": [
       "array([[[[0.32970639, 0.65710298],\n",
       "         [0.95356986, 0.43478444]],\n",
       "\n",
       "        [[0.77176522, 0.47348459],\n",
       "         [0.56648799, 0.6750343 ]]],\n",
       "\n",
       "\n",
       "       [[[0.14021142, 0.09985012],\n",
       "         [0.89529147, 0.72639876]],\n",
       "\n",
       "        [[0.06671772, 0.11825251],\n",
       "         [0.60239102, 0.94662303]]]])"
      ]
     },
     "execution_count": 23,
     "metadata": {},
     "output_type": "execute_result"
    }
   ],
   "source": [
    "# turn a 4 x 4 into a 2 x 2 x 2 x 2\n",
    "np.random.rand(4,4).reshape((2,2,2,2))"
   ]
  },
  {
   "cell_type": "code",
   "execution_count": 24,
   "metadata": {},
   "outputs": [
    {
     "name": "stdout",
     "output_type": "stream",
     "text": [
      "[[0.61251778 0.69481483 0.53536078 0.34951077]\n",
      " [0.04074578 0.02107799 0.7733813  0.26459013]\n",
      " [0.92856296 0.0484834  0.54946275 0.89253744]\n",
      " [0.75800575 0.46726955 0.18297051 0.5752995 ]]\n",
      "\n",
      "[0.53536078 0.34951077 0.04074578 0.02107799]\n"
     ]
    }
   ],
   "source": [
    "# selection of elements from array\n",
    "tmp= np.random.rand(4,4)\n",
    "print(tmp)\n",
    "print()\n",
    "print(tmp.reshape(-1)[np.asarray([2,3,4,5])])"
   ]
  },
  {
   "cell_type": "code",
   "execution_count": 25,
   "metadata": {},
   "outputs": [
    {
     "data": {
      "text/plain": [
       "array([[0.02107799, 0.7733813 ],\n",
       "       [0.0484834 , 0.54946275],\n",
       "       [0.46726955, 0.18297051]])"
      ]
     },
     "execution_count": 25,
     "metadata": {},
     "output_type": "execute_result"
    }
   ],
   "source": [
    "# slice\n",
    "tmp[1:4,1:3]"
   ]
  },
  {
   "cell_type": "code",
   "execution_count": 26,
   "metadata": {},
   "outputs": [
    {
     "data": {
      "text/plain": [
       "array([0.61251778, 0.69481483, 0.53536078, 0.7733813 , 0.92856296,\n",
       "       0.54946275, 0.89253744, 0.75800575, 0.5752995 ])"
      ]
     },
     "execution_count": 26,
     "metadata": {},
     "output_type": "execute_result"
    }
   ],
   "source": [
    "# pick out all elements satisfying condition as 1-D array\n",
    "tmp[tmp>0.5]"
   ]
  },
  {
   "cell_type": "code",
   "execution_count": 27,
   "metadata": {},
   "outputs": [
    {
     "data": {
      "text/plain": [
       "array([[0.61251778, 0.69481483, 0.53536078, 0.34951077],\n",
       "       [0.92856296, 0.0484834 , 0.54946275, 0.89253744],\n",
       "       [0.75800575, 0.46726955, 0.18297051, 0.5752995 ]])"
      ]
     },
     "execution_count": 27,
     "metadata": {},
     "output_type": "execute_result"
    }
   ],
   "source": [
    "# pick out rows where first element is >0.5\n",
    "tmp[tmp[:,0]>0.5,:]"
   ]
  },
  {
   "cell_type": "code",
   "execution_count": 28,
   "metadata": {},
   "outputs": [
    {
     "data": {
      "text/plain": [
       "array([[0.61251778, 0.69481483, 0.53536078, 0.34951077],\n",
       "       [0.04074578, 0.02107799, 0.7733813 , 0.26459013],\n",
       "       [0.92856296, 0.0484834 , 0.54946275, 0.89253744],\n",
       "       [0.75800575, 0.46726955, 0.18297051, 0.5752995 ]])"
      ]
     },
     "execution_count": 28,
     "metadata": {},
     "output_type": "execute_result"
    }
   ],
   "source": [
    "tmp"
   ]
  },
  {
   "cell_type": "code",
   "execution_count": 29,
   "metadata": {},
   "outputs": [],
   "source": [
    "# Assign values to a subset of array elements.  Note that this happens in place (i.e., the value of tmp is changed)\n",
    "tmp.reshape(-1)[[1,2,3,4]]=0"
   ]
  },
  {
   "cell_type": "code",
   "execution_count": 30,
   "metadata": {},
   "outputs": [
    {
     "data": {
      "text/plain": [
       "array([[0.61251778, 0.        , 0.        , 0.        ],\n",
       "       [0.        , 0.02107799, 0.7733813 , 0.26459013],\n",
       "       [0.92856296, 0.0484834 , 0.54946275, 0.89253744],\n",
       "       [0.75800575, 0.46726955, 0.18297051, 0.5752995 ]])"
      ]
     },
     "execution_count": 30,
     "metadata": {},
     "output_type": "execute_result"
    }
   ],
   "source": [
    "tmp"
   ]
  },
  {
   "cell_type": "code",
   "execution_count": 31,
   "metadata": {},
   "outputs": [],
   "source": [
    "# Linear Algebra\n",
    "a = np.array([[1.0, 2.0], [3.0, 4.0]])"
   ]
  },
  {
   "cell_type": "code",
   "execution_count": 32,
   "metadata": {},
   "outputs": [
    {
     "data": {
      "text/plain": [
       "array([[ 1.,  4.],\n",
       "       [ 9., 16.]])"
      ]
     },
     "execution_count": 32,
     "metadata": {},
     "output_type": "execute_result"
    }
   ],
   "source": [
    "# element-wise\n",
    "a*a"
   ]
  },
  {
   "cell_type": "code",
   "execution_count": 33,
   "metadata": {},
   "outputs": [
    {
     "data": {
      "text/plain": [
       "array([[1., 1.],\n",
       "       [1., 1.]])"
      ]
     },
     "execution_count": 33,
     "metadata": {},
     "output_type": "execute_result"
    }
   ],
   "source": [
    "# element-wise\n",
    "a/a"
   ]
  },
  {
   "cell_type": "code",
   "execution_count": 34,
   "metadata": {},
   "outputs": [
    {
     "data": {
      "text/plain": [
       "array([[ 7., 10.],\n",
       "       [15., 22.]])"
      ]
     },
     "execution_count": 34,
     "metadata": {},
     "output_type": "execute_result"
    }
   ],
   "source": [
    "# Standard matrix multiplication.  Not element-wise!\n",
    "np.dot(a,a)"
   ]
  },
  {
   "cell_type": "code",
   "execution_count": 35,
   "metadata": {},
   "outputs": [
    {
     "data": {
      "text/plain": [
       "array([[1., 0.],\n",
       "       [0., 1.]])"
      ]
     },
     "execution_count": 35,
     "metadata": {},
     "output_type": "execute_result"
    }
   ],
   "source": [
    "np.eye(2)"
   ]
  },
  {
   "cell_type": "code",
   "execution_count": 36,
   "metadata": {},
   "outputs": [
    {
     "name": "stdout",
     "output_type": "stream",
     "text": [
      "[[1. 2.]\n",
      " [3. 4.]]\n"
     ]
    },
    {
     "data": {
      "text/plain": [
       "5.0"
      ]
     },
     "execution_count": 36,
     "metadata": {},
     "output_type": "execute_result"
    }
   ],
   "source": [
    "print(a)\n",
    "np.trace(a)"
   ]
  },
  {
   "cell_type": "markdown",
   "metadata": {},
   "source": [
    "### Pandas \n",
    "\n",
    "10 Minutes to pandas: http://pandas.pydata.org/pandas-docs/stable/10min.html\n",
    "\n"
   ]
  },
  {
   "cell_type": "code",
   "execution_count": 37,
   "metadata": {},
   "outputs": [],
   "source": [
    "# Object Creation:\n",
    "\n",
    "# series\n",
    "s = pd.Series([1,3,5,np.nan,6,8])\n",
    "\n",
    "# dataframe\n",
    "dates = pd.date_range('20240101', periods=6)\n",
    "df = pd.DataFrame(np.random.randn(6,4), index=dates, columns=list('ABCD'))"
   ]
  },
  {
   "cell_type": "code",
   "execution_count": 38,
   "metadata": {},
   "outputs": [
    {
     "data": {
      "text/plain": [
       "0    1.0\n",
       "1    3.0\n",
       "2    5.0\n",
       "3    NaN\n",
       "4    6.0\n",
       "5    8.0\n",
       "dtype: float64"
      ]
     },
     "execution_count": 38,
     "metadata": {},
     "output_type": "execute_result"
    }
   ],
   "source": [
    "s"
   ]
  },
  {
   "cell_type": "code",
   "execution_count": 39,
   "metadata": {},
   "outputs": [
    {
     "data": {
      "text/html": [
       "<div>\n",
       "<style scoped>\n",
       "    .dataframe tbody tr th:only-of-type {\n",
       "        vertical-align: middle;\n",
       "    }\n",
       "\n",
       "    .dataframe tbody tr th {\n",
       "        vertical-align: top;\n",
       "    }\n",
       "\n",
       "    .dataframe thead th {\n",
       "        text-align: right;\n",
       "    }\n",
       "</style>\n",
       "<table border=\"1\" class=\"dataframe\">\n",
       "  <thead>\n",
       "    <tr style=\"text-align: right;\">\n",
       "      <th></th>\n",
       "      <th>A</th>\n",
       "      <th>B</th>\n",
       "      <th>C</th>\n",
       "      <th>D</th>\n",
       "    </tr>\n",
       "  </thead>\n",
       "  <tbody>\n",
       "    <tr>\n",
       "      <th>2024-01-01</th>\n",
       "      <td>0.805956</td>\n",
       "      <td>-0.305918</td>\n",
       "      <td>0.983338</td>\n",
       "      <td>-2.441024</td>\n",
       "    </tr>\n",
       "    <tr>\n",
       "      <th>2024-01-02</th>\n",
       "      <td>-1.151119</td>\n",
       "      <td>0.958722</td>\n",
       "      <td>0.149249</td>\n",
       "      <td>0.621109</td>\n",
       "    </tr>\n",
       "    <tr>\n",
       "      <th>2024-01-03</th>\n",
       "      <td>0.068950</td>\n",
       "      <td>0.192157</td>\n",
       "      <td>-0.133623</td>\n",
       "      <td>-0.262616</td>\n",
       "    </tr>\n",
       "    <tr>\n",
       "      <th>2024-01-04</th>\n",
       "      <td>0.116208</td>\n",
       "      <td>1.537014</td>\n",
       "      <td>0.836505</td>\n",
       "      <td>0.558891</td>\n",
       "    </tr>\n",
       "    <tr>\n",
       "      <th>2024-01-05</th>\n",
       "      <td>-1.966089</td>\n",
       "      <td>-2.214610</td>\n",
       "      <td>-0.237079</td>\n",
       "      <td>0.165809</td>\n",
       "    </tr>\n",
       "    <tr>\n",
       "      <th>2024-01-06</th>\n",
       "      <td>-0.569517</td>\n",
       "      <td>-0.039374</td>\n",
       "      <td>0.557603</td>\n",
       "      <td>-1.189776</td>\n",
       "    </tr>\n",
       "  </tbody>\n",
       "</table>\n",
       "</div>"
      ],
      "text/plain": [
       "                   A         B         C         D\n",
       "2024-01-01  0.805956 -0.305918  0.983338 -2.441024\n",
       "2024-01-02 -1.151119  0.958722  0.149249  0.621109\n",
       "2024-01-03  0.068950  0.192157 -0.133623 -0.262616\n",
       "2024-01-04  0.116208  1.537014  0.836505  0.558891\n",
       "2024-01-05 -1.966089 -2.214610 -0.237079  0.165809\n",
       "2024-01-06 -0.569517 -0.039374  0.557603 -1.189776"
      ]
     },
     "execution_count": 39,
     "metadata": {},
     "output_type": "execute_result"
    }
   ],
   "source": [
    "df"
   ]
  },
  {
   "cell_type": "code",
   "execution_count": 40,
   "metadata": {},
   "outputs": [
    {
     "data": {
      "text/html": [
       "<div>\n",
       "<style scoped>\n",
       "    .dataframe tbody tr th:only-of-type {\n",
       "        vertical-align: middle;\n",
       "    }\n",
       "\n",
       "    .dataframe tbody tr th {\n",
       "        vertical-align: top;\n",
       "    }\n",
       "\n",
       "    .dataframe thead th {\n",
       "        text-align: right;\n",
       "    }\n",
       "</style>\n",
       "<table border=\"1\" class=\"dataframe\">\n",
       "  <thead>\n",
       "    <tr style=\"text-align: right;\">\n",
       "      <th></th>\n",
       "      <th>A</th>\n",
       "      <th>B</th>\n",
       "      <th>C</th>\n",
       "      <th>D</th>\n",
       "      <th>E</th>\n",
       "      <th>F</th>\n",
       "    </tr>\n",
       "  </thead>\n",
       "  <tbody>\n",
       "    <tr>\n",
       "      <th>0</th>\n",
       "      <td>1.0</td>\n",
       "      <td>2024-01-02</td>\n",
       "      <td>1.0</td>\n",
       "      <td>3</td>\n",
       "      <td>test</td>\n",
       "      <td>foo</td>\n",
       "    </tr>\n",
       "    <tr>\n",
       "      <th>1</th>\n",
       "      <td>1.0</td>\n",
       "      <td>2024-01-02</td>\n",
       "      <td>1.0</td>\n",
       "      <td>3</td>\n",
       "      <td>train</td>\n",
       "      <td>foo</td>\n",
       "    </tr>\n",
       "    <tr>\n",
       "      <th>2</th>\n",
       "      <td>1.0</td>\n",
       "      <td>2024-01-02</td>\n",
       "      <td>1.0</td>\n",
       "      <td>3</td>\n",
       "      <td>test</td>\n",
       "      <td>foo</td>\n",
       "    </tr>\n",
       "    <tr>\n",
       "      <th>3</th>\n",
       "      <td>1.0</td>\n",
       "      <td>2024-01-02</td>\n",
       "      <td>1.0</td>\n",
       "      <td>3</td>\n",
       "      <td>train</td>\n",
       "      <td>foo</td>\n",
       "    </tr>\n",
       "  </tbody>\n",
       "</table>\n",
       "</div>"
      ],
      "text/plain": [
       "     A          B    C  D      E    F\n",
       "0  1.0 2024-01-02  1.0  3   test  foo\n",
       "1  1.0 2024-01-02  1.0  3  train  foo\n",
       "2  1.0 2024-01-02  1.0  3   test  foo\n",
       "3  1.0 2024-01-02  1.0  3  train  foo"
      ]
     },
     "execution_count": 40,
     "metadata": {},
     "output_type": "execute_result"
    }
   ],
   "source": [
    "df2 = pd.DataFrame({ 'A' : 1.,\n",
    "   ....:                      'B' : pd.Timestamp('20240102'),\n",
    "   ....:                      'C' : pd.Series(1,index=list(range(4)),dtype='float32'),\n",
    "   ....:                      'D' : np.array([3] * 4,dtype='int32'),\n",
    "   ....:                      'E' : pd.Categorical([\"test\",\"train\",\"test\",\"train\"]),\n",
    "   ....:                      'F' : 'foo' })\n",
    "df2"
   ]
  },
  {
   "cell_type": "code",
   "execution_count": 41,
   "metadata": {},
   "outputs": [
    {
     "data": {
      "text/html": [
       "<div>\n",
       "<style scoped>\n",
       "    .dataframe tbody tr th:only-of-type {\n",
       "        vertical-align: middle;\n",
       "    }\n",
       "\n",
       "    .dataframe tbody tr th {\n",
       "        vertical-align: top;\n",
       "    }\n",
       "\n",
       "    .dataframe thead th {\n",
       "        text-align: right;\n",
       "    }\n",
       "</style>\n",
       "<table border=\"1\" class=\"dataframe\">\n",
       "  <thead>\n",
       "    <tr style=\"text-align: right;\">\n",
       "      <th></th>\n",
       "      <th>A</th>\n",
       "      <th>B</th>\n",
       "      <th>C</th>\n",
       "      <th>D</th>\n",
       "    </tr>\n",
       "  </thead>\n",
       "  <tbody>\n",
       "    <tr>\n",
       "      <th>2024-01-01</th>\n",
       "      <td>0.805956</td>\n",
       "      <td>-0.305918</td>\n",
       "      <td>0.983338</td>\n",
       "      <td>-2.441024</td>\n",
       "    </tr>\n",
       "    <tr>\n",
       "      <th>2024-01-02</th>\n",
       "      <td>-1.151119</td>\n",
       "      <td>0.958722</td>\n",
       "      <td>0.149249</td>\n",
       "      <td>0.621109</td>\n",
       "    </tr>\n",
       "  </tbody>\n",
       "</table>\n",
       "</div>"
      ],
      "text/plain": [
       "                   A         B         C         D\n",
       "2024-01-01  0.805956 -0.305918  0.983338 -2.441024\n",
       "2024-01-02 -1.151119  0.958722  0.149249  0.621109"
      ]
     },
     "execution_count": 41,
     "metadata": {},
     "output_type": "execute_result"
    }
   ],
   "source": [
    "#Viewing Data\n",
    "df.head(2)"
   ]
  },
  {
   "cell_type": "code",
   "execution_count": 42,
   "metadata": {},
   "outputs": [
    {
     "data": {
      "text/plain": [
       "DatetimeIndex(['2024-01-01', '2024-01-02', '2024-01-03', '2024-01-04',\n",
       "               '2024-01-05', '2024-01-06'],\n",
       "              dtype='datetime64[ns]', freq='D')"
      ]
     },
     "execution_count": 42,
     "metadata": {},
     "output_type": "execute_result"
    }
   ],
   "source": [
    "df.index"
   ]
  },
  {
   "cell_type": "code",
   "execution_count": 43,
   "metadata": {},
   "outputs": [
    {
     "data": {
      "text/plain": [
       "Index(['A', 'B', 'C', 'D'], dtype='object')"
      ]
     },
     "execution_count": 43,
     "metadata": {},
     "output_type": "execute_result"
    }
   ],
   "source": [
    "df.columns"
   ]
  },
  {
   "cell_type": "code",
   "execution_count": 44,
   "metadata": {},
   "outputs": [
    {
     "name": "stdout",
     "output_type": "stream",
     "text": [
      "                   A         B         C         D\n",
      "2024-01-01  0.805956 -0.305918  0.983338 -2.441024\n",
      "2024-01-02 -1.151119  0.958722  0.149249  0.621109\n",
      "2024-01-03  0.068950  0.192157 -0.133623 -0.262616\n",
      "2024-01-04  0.116208  1.537014  0.836505  0.558891\n",
      "2024-01-05 -1.966089 -2.214610 -0.237079  0.165809\n",
      "2024-01-06 -0.569517 -0.039374  0.557603 -1.189776\n",
      "\n",
      "                   A         B         C         D\n",
      "2024-01-06 -0.569517 -0.039374  0.557603 -1.189776\n",
      "2024-01-05 -1.966089 -2.214610 -0.237079  0.165809\n",
      "2024-01-04  0.116208  1.537014  0.836505  0.558891\n",
      "2024-01-03  0.068950  0.192157 -0.133623 -0.262616\n",
      "2024-01-02 -1.151119  0.958722  0.149249  0.621109\n",
      "2024-01-01  0.805956 -0.305918  0.983338 -2.441024\n",
      "\n",
      "                   D         C         B         A\n",
      "2024-01-01 -2.441024  0.983338 -0.305918  0.805956\n",
      "2024-01-02  0.621109  0.149249  0.958722 -1.151119\n",
      "2024-01-03 -0.262616 -0.133623  0.192157  0.068950\n",
      "2024-01-04  0.558891  0.836505  1.537014  0.116208\n",
      "2024-01-05  0.165809 -0.237079 -2.214610 -1.966089\n",
      "2024-01-06 -1.189776  0.557603 -0.039374 -0.569517\n"
     ]
    }
   ],
   "source": [
    "# Sorting\n",
    "print(df)\n",
    "print()\n",
    "\n",
    "# these operations do not change the value of df\n",
    "\n",
    "# sort rows by index\n",
    "print(df.sort_index(axis=0, ascending=False)) \n",
    "print()\n",
    "\n",
    "# sort columns by column header\n",
    "print(df.sort_index(axis=1, ascending=False))"
   ]
  },
  {
   "cell_type": "code",
   "execution_count": 45,
   "metadata": {},
   "outputs": [
    {
     "name": "stdout",
     "output_type": "stream",
     "text": [
      "                   A         B         C         D\n",
      "2024-01-01  0.805956 -0.305918  0.983338 -2.441024\n",
      "2024-01-02 -1.151119  0.958722  0.149249  0.621109\n",
      "2024-01-03  0.068950  0.192157 -0.133623 -0.262616\n",
      "2024-01-04  0.116208  1.537014  0.836505  0.558891\n",
      "2024-01-05 -1.966089 -2.214610 -0.237079  0.165809\n",
      "2024-01-06 -0.569517 -0.039374  0.557603 -1.189776\n",
      "\n",
      "                   A         B         C         D\n",
      "2024-01-05 -1.966089 -2.214610 -0.237079  0.165809\n",
      "2024-01-01  0.805956 -0.305918  0.983338 -2.441024\n",
      "2024-01-06 -0.569517 -0.039374  0.557603 -1.189776\n",
      "2024-01-03  0.068950  0.192157 -0.133623 -0.262616\n",
      "2024-01-02 -1.151119  0.958722  0.149249  0.621109\n",
      "2024-01-04  0.116208  1.537014  0.836505  0.558891\n",
      "\n",
      "                   D         C         A         B\n",
      "2024-01-01 -2.441024  0.983338  0.805956 -0.305918\n",
      "2024-01-02  0.621109  0.149249 -1.151119  0.958722\n",
      "2024-01-03 -0.262616 -0.133623  0.068950  0.192157\n",
      "2024-01-04  0.558891  0.836505  0.116208  1.537014\n",
      "2024-01-05  0.165809 -0.237079 -1.966089 -2.214610\n",
      "2024-01-06 -1.189776  0.557603 -0.569517 -0.039374\n"
     ]
    }
   ],
   "source": [
    "print(df)\n",
    "print()\n",
    "\n",
    "# sort rows using values in a particular column\n",
    "print(df.sort_values(by='B')) # axis defaults to 0\n",
    "print()\n",
    "\n",
    "# sort columns using values corresponding to a particular row index\n",
    "print(df.sort_values(axis=1,by='2024-01-03'))"
   ]
  },
  {
   "cell_type": "code",
   "execution_count": 46,
   "metadata": {},
   "outputs": [
    {
     "data": {
      "text/html": [
       "<div>\n",
       "<style scoped>\n",
       "    .dataframe tbody tr th:only-of-type {\n",
       "        vertical-align: middle;\n",
       "    }\n",
       "\n",
       "    .dataframe tbody tr th {\n",
       "        vertical-align: top;\n",
       "    }\n",
       "\n",
       "    .dataframe thead th {\n",
       "        text-align: right;\n",
       "    }\n",
       "</style>\n",
       "<table border=\"1\" class=\"dataframe\">\n",
       "  <thead>\n",
       "    <tr style=\"text-align: right;\">\n",
       "      <th></th>\n",
       "      <th>A</th>\n",
       "      <th>B</th>\n",
       "      <th>C</th>\n",
       "      <th>D</th>\n",
       "    </tr>\n",
       "  </thead>\n",
       "  <tbody>\n",
       "    <tr>\n",
       "      <th>count</th>\n",
       "      <td>6.000000</td>\n",
       "      <td>6.000000</td>\n",
       "      <td>6.000000</td>\n",
       "      <td>6.000000</td>\n",
       "    </tr>\n",
       "    <tr>\n",
       "      <th>mean</th>\n",
       "      <td>-0.449269</td>\n",
       "      <td>0.021332</td>\n",
       "      <td>0.359332</td>\n",
       "      <td>-0.424601</td>\n",
       "    </tr>\n",
       "    <tr>\n",
       "      <th>std</th>\n",
       "      <td>0.997166</td>\n",
       "      <td>1.289604</td>\n",
       "      <td>0.509752</td>\n",
       "      <td>1.190550</td>\n",
       "    </tr>\n",
       "    <tr>\n",
       "      <th>min</th>\n",
       "      <td>-1.966089</td>\n",
       "      <td>-2.214610</td>\n",
       "      <td>-0.237079</td>\n",
       "      <td>-2.441024</td>\n",
       "    </tr>\n",
       "    <tr>\n",
       "      <th>25%</th>\n",
       "      <td>-1.005718</td>\n",
       "      <td>-0.239282</td>\n",
       "      <td>-0.062905</td>\n",
       "      <td>-0.957986</td>\n",
       "    </tr>\n",
       "    <tr>\n",
       "      <th>50%</th>\n",
       "      <td>-0.250284</td>\n",
       "      <td>0.076392</td>\n",
       "      <td>0.353426</td>\n",
       "      <td>-0.048404</td>\n",
       "    </tr>\n",
       "    <tr>\n",
       "      <th>75%</th>\n",
       "      <td>0.104393</td>\n",
       "      <td>0.767081</td>\n",
       "      <td>0.766779</td>\n",
       "      <td>0.460621</td>\n",
       "    </tr>\n",
       "    <tr>\n",
       "      <th>max</th>\n",
       "      <td>0.805956</td>\n",
       "      <td>1.537014</td>\n",
       "      <td>0.983338</td>\n",
       "      <td>0.621109</td>\n",
       "    </tr>\n",
       "  </tbody>\n",
       "</table>\n",
       "</div>"
      ],
      "text/plain": [
       "              A         B         C         D\n",
       "count  6.000000  6.000000  6.000000  6.000000\n",
       "mean  -0.449269  0.021332  0.359332 -0.424601\n",
       "std    0.997166  1.289604  0.509752  1.190550\n",
       "min   -1.966089 -2.214610 -0.237079 -2.441024\n",
       "25%   -1.005718 -0.239282 -0.062905 -0.957986\n",
       "50%   -0.250284  0.076392  0.353426 -0.048404\n",
       "75%    0.104393  0.767081  0.766779  0.460621\n",
       "max    0.805956  1.537014  0.983338  0.621109"
      ]
     },
     "execution_count": 46,
     "metadata": {},
     "output_type": "execute_result"
    }
   ],
   "source": [
    "# Descriptive statistics of each column\n",
    "df.describe()"
   ]
  },
  {
   "cell_type": "code",
   "execution_count": 47,
   "metadata": {},
   "outputs": [
    {
     "data": {
      "text/plain": [
       "2024-01-01    0.805956\n",
       "2024-01-02   -1.151119\n",
       "2024-01-03    0.068950\n",
       "2024-01-04    0.116208\n",
       "2024-01-05   -1.966089\n",
       "2024-01-06   -0.569517\n",
       "Freq: D, Name: A, dtype: float64"
      ]
     },
     "execution_count": 47,
     "metadata": {},
     "output_type": "execute_result"
    }
   ],
   "source": [
    "# Selection\n",
    "\n",
    "# select a particular column (with row index) \n",
    "df['A']"
   ]
  },
  {
   "cell_type": "code",
   "execution_count": 48,
   "metadata": {},
   "outputs": [
    {
     "name": "stdout",
     "output_type": "stream",
     "text": [
      "                   A         B         C         D\n",
      "2024-01-02 -1.151119  0.958722  0.149249  0.621109\n",
      "2024-01-03  0.068950  0.192157 -0.133623 -0.262616\n",
      "\n",
      "                   A         B         C         D\n",
      "2024-01-02 -1.151119  0.958722  0.149249  0.621109\n",
      "2024-01-03  0.068950  0.192157 -0.133623 -0.262616\n",
      "\n",
      "                   B         D\n",
      "2024-01-02  0.958722  0.621109\n",
      "2024-01-03  0.192157 -0.262616\n"
     ]
    }
   ],
   "source": [
    "# select rows by slicing\n",
    "print(df[1:3])\n",
    "print()\n",
    "\n",
    "# equivalent but more flexible; select rows by integer positions\n",
    "print(df.iloc[1:3,:])\n",
    "print()\n",
    "\n",
    "# subsets of rows and columns, can slice or list\n",
    "print(df.iloc[1:3,[1,3]])"
   ]
  },
  {
   "cell_type": "code",
   "execution_count": 49,
   "metadata": {},
   "outputs": [
    {
     "data": {
      "text/plain": [
       "A    0.805956\n",
       "B   -0.305918\n",
       "C    0.983338\n",
       "D   -2.441024\n",
       "Name: 2024-01-01 00:00:00, dtype: float64"
      ]
     },
     "execution_count": 49,
     "metadata": {},
     "output_type": "execute_result"
    }
   ],
   "source": [
    "# select rows or columns by value\n",
    "df.loc[dates[0]] # equivalent to df.loc['2013-01-01']"
   ]
  },
  {
   "cell_type": "code",
   "execution_count": 50,
   "metadata": {},
   "outputs": [
    {
     "data": {
      "text/html": [
       "<div>\n",
       "<style scoped>\n",
       "    .dataframe tbody tr th:only-of-type {\n",
       "        vertical-align: middle;\n",
       "    }\n",
       "\n",
       "    .dataframe tbody tr th {\n",
       "        vertical-align: top;\n",
       "    }\n",
       "\n",
       "    .dataframe thead th {\n",
       "        text-align: right;\n",
       "    }\n",
       "</style>\n",
       "<table border=\"1\" class=\"dataframe\">\n",
       "  <thead>\n",
       "    <tr style=\"text-align: right;\">\n",
       "      <th></th>\n",
       "      <th>A</th>\n",
       "      <th>C</th>\n",
       "    </tr>\n",
       "  </thead>\n",
       "  <tbody>\n",
       "    <tr>\n",
       "      <th>2024-01-01</th>\n",
       "      <td>0.805956</td>\n",
       "      <td>0.983338</td>\n",
       "    </tr>\n",
       "    <tr>\n",
       "      <th>2024-01-02</th>\n",
       "      <td>-1.151119</td>\n",
       "      <td>0.149249</td>\n",
       "    </tr>\n",
       "    <tr>\n",
       "      <th>2024-01-03</th>\n",
       "      <td>0.068950</td>\n",
       "      <td>-0.133623</td>\n",
       "    </tr>\n",
       "    <tr>\n",
       "      <th>2024-01-04</th>\n",
       "      <td>0.116208</td>\n",
       "      <td>0.836505</td>\n",
       "    </tr>\n",
       "    <tr>\n",
       "      <th>2024-01-05</th>\n",
       "      <td>-1.966089</td>\n",
       "      <td>-0.237079</td>\n",
       "    </tr>\n",
       "    <tr>\n",
       "      <th>2024-01-06</th>\n",
       "      <td>-0.569517</td>\n",
       "      <td>0.557603</td>\n",
       "    </tr>\n",
       "  </tbody>\n",
       "</table>\n",
       "</div>"
      ],
      "text/plain": [
       "                   A         C\n",
       "2024-01-01  0.805956  0.983338\n",
       "2024-01-02 -1.151119  0.149249\n",
       "2024-01-03  0.068950 -0.133623\n",
       "2024-01-04  0.116208  0.836505\n",
       "2024-01-05 -1.966089 -0.237079\n",
       "2024-01-06 -0.569517  0.557603"
      ]
     },
     "execution_count": 50,
     "metadata": {},
     "output_type": "execute_result"
    }
   ],
   "source": [
    "# can select row and column values\n",
    "df.loc[:,['A','C']]"
   ]
  },
  {
   "cell_type": "code",
   "execution_count": 51,
   "metadata": {},
   "outputs": [
    {
     "data": {
      "text/html": [
       "<div>\n",
       "<style scoped>\n",
       "    .dataframe tbody tr th:only-of-type {\n",
       "        vertical-align: middle;\n",
       "    }\n",
       "\n",
       "    .dataframe tbody tr th {\n",
       "        vertical-align: top;\n",
       "    }\n",
       "\n",
       "    .dataframe thead th {\n",
       "        text-align: right;\n",
       "    }\n",
       "</style>\n",
       "<table border=\"1\" class=\"dataframe\">\n",
       "  <thead>\n",
       "    <tr style=\"text-align: right;\">\n",
       "      <th></th>\n",
       "      <th>A</th>\n",
       "      <th>B</th>\n",
       "    </tr>\n",
       "  </thead>\n",
       "  <tbody>\n",
       "    <tr>\n",
       "      <th>2024-01-02</th>\n",
       "      <td>-1.151119</td>\n",
       "      <td>0.958722</td>\n",
       "    </tr>\n",
       "    <tr>\n",
       "      <th>2024-01-03</th>\n",
       "      <td>0.068950</td>\n",
       "      <td>0.192157</td>\n",
       "    </tr>\n",
       "    <tr>\n",
       "      <th>2024-01-04</th>\n",
       "      <td>0.116208</td>\n",
       "      <td>1.537014</td>\n",
       "    </tr>\n",
       "  </tbody>\n",
       "</table>\n",
       "</div>"
      ],
      "text/plain": [
       "                   A         B\n",
       "2024-01-02 -1.151119  0.958722\n",
       "2024-01-03  0.068950  0.192157\n",
       "2024-01-04  0.116208  1.537014"
      ]
     },
     "execution_count": 51,
     "metadata": {},
     "output_type": "execute_result"
    }
   ],
   "source": [
    "# note that the end value is included for loc...\n",
    "df.loc['20240102':'20240104',['A','B']]"
   ]
  },
  {
   "cell_type": "code",
   "execution_count": 52,
   "metadata": {},
   "outputs": [
    {
     "data": {
      "text/html": [
       "<div>\n",
       "<style scoped>\n",
       "    .dataframe tbody tr th:only-of-type {\n",
       "        vertical-align: middle;\n",
       "    }\n",
       "\n",
       "    .dataframe tbody tr th {\n",
       "        vertical-align: top;\n",
       "    }\n",
       "\n",
       "    .dataframe thead th {\n",
       "        text-align: right;\n",
       "    }\n",
       "</style>\n",
       "<table border=\"1\" class=\"dataframe\">\n",
       "  <thead>\n",
       "    <tr style=\"text-align: right;\">\n",
       "      <th></th>\n",
       "      <th>A</th>\n",
       "      <th>B</th>\n",
       "    </tr>\n",
       "  </thead>\n",
       "  <tbody>\n",
       "    <tr>\n",
       "      <th>2024-01-02</th>\n",
       "      <td>-1.151119</td>\n",
       "      <td>0.958722</td>\n",
       "    </tr>\n",
       "    <tr>\n",
       "      <th>2024-01-03</th>\n",
       "      <td>0.068950</td>\n",
       "      <td>0.192157</td>\n",
       "    </tr>\n",
       "    <tr>\n",
       "      <th>2024-01-04</th>\n",
       "      <td>0.116208</td>\n",
       "      <td>1.537014</td>\n",
       "    </tr>\n",
       "  </tbody>\n",
       "</table>\n",
       "</div>"
      ],
      "text/plain": [
       "                   A         B\n",
       "2024-01-02 -1.151119  0.958722\n",
       "2024-01-03  0.068950  0.192157\n",
       "2024-01-04  0.116208  1.537014"
      ]
     },
     "execution_count": 52,
     "metadata": {},
     "output_type": "execute_result"
    }
   ],
   "source": [
    "# ... but not for iloc\n",
    "df.iloc[1:4,0:2]"
   ]
  },
  {
   "cell_type": "code",
   "execution_count": 53,
   "metadata": {},
   "outputs": [
    {
     "data": {
      "text/html": [
       "<div>\n",
       "<style scoped>\n",
       "    .dataframe tbody tr th:only-of-type {\n",
       "        vertical-align: middle;\n",
       "    }\n",
       "\n",
       "    .dataframe tbody tr th {\n",
       "        vertical-align: top;\n",
       "    }\n",
       "\n",
       "    .dataframe thead th {\n",
       "        text-align: right;\n",
       "    }\n",
       "</style>\n",
       "<table border=\"1\" class=\"dataframe\">\n",
       "  <thead>\n",
       "    <tr style=\"text-align: right;\">\n",
       "      <th></th>\n",
       "      <th>A</th>\n",
       "      <th>B</th>\n",
       "      <th>C</th>\n",
       "      <th>D</th>\n",
       "    </tr>\n",
       "  </thead>\n",
       "  <tbody>\n",
       "    <tr>\n",
       "      <th>2024-01-01</th>\n",
       "      <td>0.805956</td>\n",
       "      <td>-0.305918</td>\n",
       "      <td>0.983338</td>\n",
       "      <td>-2.441024</td>\n",
       "    </tr>\n",
       "    <tr>\n",
       "      <th>2024-01-03</th>\n",
       "      <td>0.068950</td>\n",
       "      <td>0.192157</td>\n",
       "      <td>-0.133623</td>\n",
       "      <td>-0.262616</td>\n",
       "    </tr>\n",
       "    <tr>\n",
       "      <th>2024-01-04</th>\n",
       "      <td>0.116208</td>\n",
       "      <td>1.537014</td>\n",
       "      <td>0.836505</td>\n",
       "      <td>0.558891</td>\n",
       "    </tr>\n",
       "  </tbody>\n",
       "</table>\n",
       "</div>"
      ],
      "text/plain": [
       "                   A         B         C         D\n",
       "2024-01-01  0.805956 -0.305918  0.983338 -2.441024\n",
       "2024-01-03  0.068950  0.192157 -0.133623 -0.262616\n",
       "2024-01-04  0.116208  1.537014  0.836505  0.558891"
      ]
     },
     "execution_count": 53,
     "metadata": {},
     "output_type": "execute_result"
    }
   ],
   "source": [
    "# Boolean Indexing\n",
    "\n",
    "# select all rows where a condition is met\n",
    "df[df.A > 0]"
   ]
  },
  {
   "cell_type": "code",
   "execution_count": 54,
   "metadata": {},
   "outputs": [],
   "source": [
    "# Filling in missing values\n",
    "df1 = df.reindex(index=dates[0:4], columns=list(df.columns) + ['E'])\n",
    "df1.loc[dates[1]:dates[2],'E'] = 1\n",
    "df1.loc[[dates[0],dates[3]],'E'] = 2"
   ]
  },
  {
   "cell_type": "code",
   "execution_count": 55,
   "metadata": {},
   "outputs": [
    {
     "data": {
      "text/html": [
       "<div>\n",
       "<style scoped>\n",
       "    .dataframe tbody tr th:only-of-type {\n",
       "        vertical-align: middle;\n",
       "    }\n",
       "\n",
       "    .dataframe tbody tr th {\n",
       "        vertical-align: top;\n",
       "    }\n",
       "\n",
       "    .dataframe thead th {\n",
       "        text-align: right;\n",
       "    }\n",
       "</style>\n",
       "<table border=\"1\" class=\"dataframe\">\n",
       "  <thead>\n",
       "    <tr style=\"text-align: right;\">\n",
       "      <th></th>\n",
       "      <th>A</th>\n",
       "      <th>B</th>\n",
       "      <th>C</th>\n",
       "      <th>D</th>\n",
       "      <th>E</th>\n",
       "    </tr>\n",
       "  </thead>\n",
       "  <tbody>\n",
       "    <tr>\n",
       "      <th>2024-01-01</th>\n",
       "      <td>0.805956</td>\n",
       "      <td>-0.305918</td>\n",
       "      <td>0.983338</td>\n",
       "      <td>-2.441024</td>\n",
       "      <td>2.0</td>\n",
       "    </tr>\n",
       "    <tr>\n",
       "      <th>2024-01-02</th>\n",
       "      <td>-1.151119</td>\n",
       "      <td>0.958722</td>\n",
       "      <td>0.149249</td>\n",
       "      <td>0.621109</td>\n",
       "      <td>1.0</td>\n",
       "    </tr>\n",
       "    <tr>\n",
       "      <th>2024-01-03</th>\n",
       "      <td>0.068950</td>\n",
       "      <td>0.192157</td>\n",
       "      <td>-0.133623</td>\n",
       "      <td>-0.262616</td>\n",
       "      <td>1.0</td>\n",
       "    </tr>\n",
       "    <tr>\n",
       "      <th>2024-01-04</th>\n",
       "      <td>0.116208</td>\n",
       "      <td>1.537014</td>\n",
       "      <td>0.836505</td>\n",
       "      <td>0.558891</td>\n",
       "      <td>2.0</td>\n",
       "    </tr>\n",
       "  </tbody>\n",
       "</table>\n",
       "</div>"
      ],
      "text/plain": [
       "                   A         B         C         D    E\n",
       "2024-01-01  0.805956 -0.305918  0.983338 -2.441024  2.0\n",
       "2024-01-02 -1.151119  0.958722  0.149249  0.621109  1.0\n",
       "2024-01-03  0.068950  0.192157 -0.133623 -0.262616  1.0\n",
       "2024-01-04  0.116208  1.537014  0.836505  0.558891  2.0"
      ]
     },
     "execution_count": 55,
     "metadata": {},
     "output_type": "execute_result"
    }
   ],
   "source": [
    "df1"
   ]
  },
  {
   "cell_type": "code",
   "execution_count": 56,
   "metadata": {},
   "outputs": [
    {
     "name": "stdout",
     "output_type": "stream",
     "text": [
      "                   A         B         C         D    E\n",
      "2024-01-01  0.805956 -0.305918  0.983338 -2.441024  NaN\n",
      "2024-01-02 -1.151119  0.958722  0.149249  0.621109  1.0\n",
      "2024-01-03  0.068950  0.192157 -0.133623 -0.262616  1.0\n",
      "2024-01-04  0.116208  1.537014  0.836505  0.558891  NaN\n",
      "\n",
      "                   A         B         C         D    E\n",
      "2024-01-02 -1.151119  0.958722  0.149249  0.621109  1.0\n",
      "2024-01-03  0.068950  0.192157 -0.133623 -0.262616  1.0\n"
     ]
    }
   ],
   "source": [
    "# Dropping rows with any missing values\n",
    "df1 = df.reindex(index=dates[0:4], columns=list(df.columns) + ['E'])\n",
    "df1.loc[dates[1]:dates[2],'E'] = 1\n",
    "print(df1)\n",
    "print()\n",
    "print(df1.dropna(how='any'))"
   ]
  },
  {
   "cell_type": "code",
   "execution_count": 57,
   "metadata": {},
   "outputs": [
    {
     "data": {
      "text/html": [
       "<div>\n",
       "<style scoped>\n",
       "    .dataframe tbody tr th:only-of-type {\n",
       "        vertical-align: middle;\n",
       "    }\n",
       "\n",
       "    .dataframe tbody tr th {\n",
       "        vertical-align: top;\n",
       "    }\n",
       "\n",
       "    .dataframe thead th {\n",
       "        text-align: right;\n",
       "    }\n",
       "</style>\n",
       "<table border=\"1\" class=\"dataframe\">\n",
       "  <thead>\n",
       "    <tr style=\"text-align: right;\">\n",
       "      <th></th>\n",
       "      <th>A</th>\n",
       "      <th>B</th>\n",
       "      <th>C</th>\n",
       "      <th>D</th>\n",
       "      <th>E</th>\n",
       "    </tr>\n",
       "  </thead>\n",
       "  <tbody>\n",
       "    <tr>\n",
       "      <th>2024-01-01</th>\n",
       "      <td>0.805956</td>\n",
       "      <td>-0.305918</td>\n",
       "      <td>0.983338</td>\n",
       "      <td>-2.441024</td>\n",
       "      <td>5.0</td>\n",
       "    </tr>\n",
       "    <tr>\n",
       "      <th>2024-01-02</th>\n",
       "      <td>-1.151119</td>\n",
       "      <td>0.958722</td>\n",
       "      <td>0.149249</td>\n",
       "      <td>0.621109</td>\n",
       "      <td>1.0</td>\n",
       "    </tr>\n",
       "    <tr>\n",
       "      <th>2024-01-03</th>\n",
       "      <td>0.068950</td>\n",
       "      <td>0.192157</td>\n",
       "      <td>-0.133623</td>\n",
       "      <td>-0.262616</td>\n",
       "      <td>1.0</td>\n",
       "    </tr>\n",
       "    <tr>\n",
       "      <th>2024-01-04</th>\n",
       "      <td>0.116208</td>\n",
       "      <td>1.537014</td>\n",
       "      <td>0.836505</td>\n",
       "      <td>0.558891</td>\n",
       "      <td>5.0</td>\n",
       "    </tr>\n",
       "  </tbody>\n",
       "</table>\n",
       "</div>"
      ],
      "text/plain": [
       "                   A         B         C         D    E\n",
       "2024-01-01  0.805956 -0.305918  0.983338 -2.441024  5.0\n",
       "2024-01-02 -1.151119  0.958722  0.149249  0.621109  1.0\n",
       "2024-01-03  0.068950  0.192157 -0.133623 -0.262616  1.0\n",
       "2024-01-04  0.116208  1.537014  0.836505  0.558891  5.0"
      ]
     },
     "execution_count": 57,
     "metadata": {},
     "output_type": "execute_result"
    }
   ],
   "source": [
    "# Fill in all missing values with a given value\n",
    "df1 = df.reindex(index=dates[0:4], columns=list(df.columns) + ['E'])\n",
    "df1.loc[dates[1]:dates[2],'E'] = 1\n",
    "df1.fillna(value=5)"
   ]
  },
  {
   "cell_type": "code",
   "execution_count": 58,
   "metadata": {},
   "outputs": [
    {
     "name": "stdout",
     "output_type": "stream",
     "text": [
      "                   A         B         C         D    E\n",
      "2024-01-01  0.805956 -0.305918  0.983338 -2.441024  NaN\n",
      "2024-01-02 -1.151119  0.958722  0.149249  0.621109  1.0\n",
      "2024-01-03  0.068950  0.192157 -0.133623 -0.262616  1.0\n",
      "2024-01-04  0.116208  1.537014  0.836505  0.558891  NaN\n",
      "\n"
     ]
    },
    {
     "data": {
      "text/html": [
       "<div>\n",
       "<style scoped>\n",
       "    .dataframe tbody tr th:only-of-type {\n",
       "        vertical-align: middle;\n",
       "    }\n",
       "\n",
       "    .dataframe tbody tr th {\n",
       "        vertical-align: top;\n",
       "    }\n",
       "\n",
       "    .dataframe thead th {\n",
       "        text-align: right;\n",
       "    }\n",
       "</style>\n",
       "<table border=\"1\" class=\"dataframe\">\n",
       "  <thead>\n",
       "    <tr style=\"text-align: right;\">\n",
       "      <th></th>\n",
       "      <th>A</th>\n",
       "      <th>B</th>\n",
       "      <th>C</th>\n",
       "      <th>D</th>\n",
       "      <th>E</th>\n",
       "    </tr>\n",
       "  </thead>\n",
       "  <tbody>\n",
       "    <tr>\n",
       "      <th>2024-01-01</th>\n",
       "      <td>False</td>\n",
       "      <td>False</td>\n",
       "      <td>False</td>\n",
       "      <td>False</td>\n",
       "      <td>True</td>\n",
       "    </tr>\n",
       "    <tr>\n",
       "      <th>2024-01-02</th>\n",
       "      <td>False</td>\n",
       "      <td>False</td>\n",
       "      <td>False</td>\n",
       "      <td>False</td>\n",
       "      <td>False</td>\n",
       "    </tr>\n",
       "    <tr>\n",
       "      <th>2024-01-03</th>\n",
       "      <td>False</td>\n",
       "      <td>False</td>\n",
       "      <td>False</td>\n",
       "      <td>False</td>\n",
       "      <td>False</td>\n",
       "    </tr>\n",
       "    <tr>\n",
       "      <th>2024-01-04</th>\n",
       "      <td>False</td>\n",
       "      <td>False</td>\n",
       "      <td>False</td>\n",
       "      <td>False</td>\n",
       "      <td>True</td>\n",
       "    </tr>\n",
       "  </tbody>\n",
       "</table>\n",
       "</div>"
      ],
      "text/plain": [
       "                A      B      C      D      E\n",
       "2024-01-01  False  False  False  False   True\n",
       "2024-01-02  False  False  False  False  False\n",
       "2024-01-03  False  False  False  False  False\n",
       "2024-01-04  False  False  False  False   True"
      ]
     },
     "execution_count": 58,
     "metadata": {},
     "output_type": "execute_result"
    }
   ],
   "source": [
    "# element-wise: is each value missing?\n",
    "print(df1)\n",
    "print()\n",
    "pd.isnull(df1)"
   ]
  },
  {
   "cell_type": "code",
   "execution_count": 59,
   "metadata": {},
   "outputs": [
    {
     "name": "stdout",
     "output_type": "stream",
     "text": [
      "                   A         B         C         D\n",
      "2024-01-01  0.805956 -0.305918  0.983338 -2.441024\n",
      "2024-01-02 -1.151119  0.958722  0.149249  0.621109\n",
      "2024-01-03  0.068950  0.192157 -0.133623 -0.262616\n",
      "2024-01-04  0.116208  1.537014  0.836505  0.558891\n",
      "2024-01-05 -1.966089 -2.214610 -0.237079  0.165809\n",
      "2024-01-06 -0.569517 -0.039374  0.557603 -1.189776\n",
      "\n"
     ]
    },
    {
     "data": {
      "text/plain": [
       "A   -2.695612\n",
       "B    0.127991\n",
       "C    2.155993\n",
       "D   -2.547607\n",
       "dtype: float64"
      ]
     },
     "execution_count": 59,
     "metadata": {},
     "output_type": "execute_result"
    }
   ],
   "source": [
    "# Apply an operation to each column (e.g., sum across all rows for that column)\n",
    "print(df)\n",
    "print()\n",
    "df.apply(sum,axis=0)"
   ]
  },
  {
   "cell_type": "code",
   "execution_count": 60,
   "metadata": {},
   "outputs": [
    {
     "data": {
      "text/plain": [
       "2024-01-01   -0.957648\n",
       "2024-01-02    0.577961\n",
       "2024-01-03   -0.135132\n",
       "2024-01-04    3.048617\n",
       "2024-01-05   -4.251969\n",
       "2024-01-06   -1.241064\n",
       "Freq: D, dtype: float64"
      ]
     },
     "execution_count": 60,
     "metadata": {},
     "output_type": "execute_result"
    }
   ],
   "source": [
    "# Apply an operation to each row (e.g., sum across all columns for that row)\n",
    "df.apply(sum,axis=1)"
   ]
  },
  {
   "cell_type": "code",
   "execution_count": 61,
   "metadata": {},
   "outputs": [
    {
     "data": {
      "text/html": [
       "<div>\n",
       "<style scoped>\n",
       "    .dataframe tbody tr th:only-of-type {\n",
       "        vertical-align: middle;\n",
       "    }\n",
       "\n",
       "    .dataframe tbody tr th {\n",
       "        vertical-align: top;\n",
       "    }\n",
       "\n",
       "    .dataframe thead th {\n",
       "        text-align: right;\n",
       "    }\n",
       "</style>\n",
       "<table border=\"1\" class=\"dataframe\">\n",
       "  <thead>\n",
       "    <tr style=\"text-align: right;\">\n",
       "      <th></th>\n",
       "      <th>A</th>\n",
       "      <th>B</th>\n",
       "      <th>C</th>\n",
       "      <th>D</th>\n",
       "    </tr>\n",
       "  </thead>\n",
       "  <tbody>\n",
       "    <tr>\n",
       "      <th>2024-01-01</th>\n",
       "      <td>805.955785</td>\n",
       "      <td>-305.917703</td>\n",
       "      <td>983.337807</td>\n",
       "      <td>-2441.024092</td>\n",
       "    </tr>\n",
       "    <tr>\n",
       "      <th>2024-01-02</th>\n",
       "      <td>-1151.118735</td>\n",
       "      <td>958.721709</td>\n",
       "      <td>149.249072</td>\n",
       "      <td>621.109095</td>\n",
       "    </tr>\n",
       "    <tr>\n",
       "      <th>2024-01-03</th>\n",
       "      <td>68.949763</td>\n",
       "      <td>192.157261</td>\n",
       "      <td>-133.623347</td>\n",
       "      <td>-262.616110</td>\n",
       "    </tr>\n",
       "    <tr>\n",
       "      <th>2024-01-04</th>\n",
       "      <td>116.207622</td>\n",
       "      <td>1537.013968</td>\n",
       "      <td>836.504737</td>\n",
       "      <td>558.891008</td>\n",
       "    </tr>\n",
       "    <tr>\n",
       "      <th>2024-01-05</th>\n",
       "      <td>-1966.088861</td>\n",
       "      <td>-2214.610293</td>\n",
       "      <td>-237.079096</td>\n",
       "      <td>165.809037</td>\n",
       "    </tr>\n",
       "    <tr>\n",
       "      <th>2024-01-06</th>\n",
       "      <td>-569.517083</td>\n",
       "      <td>-39.373977</td>\n",
       "      <td>557.603331</td>\n",
       "      <td>-1189.776297</td>\n",
       "    </tr>\n",
       "  </tbody>\n",
       "</table>\n",
       "</div>"
      ],
      "text/plain": [
       "                      A            B           C            D\n",
       "2024-01-01   805.955785  -305.917703  983.337807 -2441.024092\n",
       "2024-01-02 -1151.118735   958.721709  149.249072   621.109095\n",
       "2024-01-03    68.949763   192.157261 -133.623347  -262.616110\n",
       "2024-01-04   116.207622  1537.013968  836.504737   558.891008\n",
       "2024-01-05 -1966.088861 -2214.610293 -237.079096   165.809037\n",
       "2024-01-06  -569.517083   -39.373977  557.603331 -1189.776297"
      ]
     },
     "execution_count": 61,
     "metadata": {},
     "output_type": "execute_result"
    }
   ],
   "source": [
    "# Apply an operation element-wise\n",
    "df.applymap(lambda x: x*1000)"
   ]
  },
  {
   "cell_type": "code",
   "execution_count": 62,
   "metadata": {},
   "outputs": [
    {
     "data": {
      "text/html": [
       "<div>\n",
       "<style scoped>\n",
       "    .dataframe tbody tr th:only-of-type {\n",
       "        vertical-align: middle;\n",
       "    }\n",
       "\n",
       "    .dataframe tbody tr th {\n",
       "        vertical-align: top;\n",
       "    }\n",
       "\n",
       "    .dataframe thead th {\n",
       "        text-align: right;\n",
       "    }\n",
       "</style>\n",
       "<table border=\"1\" class=\"dataframe\">\n",
       "  <thead>\n",
       "    <tr style=\"text-align: right;\">\n",
       "      <th></th>\n",
       "      <th>A</th>\n",
       "      <th>B</th>\n",
       "      <th>C</th>\n",
       "      <th>D</th>\n",
       "      <th>E</th>\n",
       "    </tr>\n",
       "  </thead>\n",
       "  <tbody>\n",
       "    <tr>\n",
       "      <th>2024-01-01</th>\n",
       "      <td>805.955785</td>\n",
       "      <td>-305.917703</td>\n",
       "      <td>983.337807</td>\n",
       "      <td>-2441.024092</td>\n",
       "      <td>hellohellohellohellohellohellohellohellohelloh...</td>\n",
       "    </tr>\n",
       "    <tr>\n",
       "      <th>2024-01-02</th>\n",
       "      <td>-1151.118735</td>\n",
       "      <td>958.721709</td>\n",
       "      <td>149.249072</td>\n",
       "      <td>621.109095</td>\n",
       "      <td>hellohellohellohellohellohellohellohellohelloh...</td>\n",
       "    </tr>\n",
       "    <tr>\n",
       "      <th>2024-01-03</th>\n",
       "      <td>68.949763</td>\n",
       "      <td>192.157261</td>\n",
       "      <td>-133.623347</td>\n",
       "      <td>-262.616110</td>\n",
       "      <td>hellohellohellohellohellohellohellohellohelloh...</td>\n",
       "    </tr>\n",
       "    <tr>\n",
       "      <th>2024-01-04</th>\n",
       "      <td>116.207622</td>\n",
       "      <td>1537.013968</td>\n",
       "      <td>836.504737</td>\n",
       "      <td>558.891008</td>\n",
       "      <td>hellohellohellohellohellohellohellohellohelloh...</td>\n",
       "    </tr>\n",
       "    <tr>\n",
       "      <th>2024-01-05</th>\n",
       "      <td>-1966.088861</td>\n",
       "      <td>-2214.610293</td>\n",
       "      <td>-237.079096</td>\n",
       "      <td>165.809037</td>\n",
       "      <td>hellohellohellohellohellohellohellohellohelloh...</td>\n",
       "    </tr>\n",
       "    <tr>\n",
       "      <th>2024-01-06</th>\n",
       "      <td>-569.517083</td>\n",
       "      <td>-39.373977</td>\n",
       "      <td>557.603331</td>\n",
       "      <td>-1189.776297</td>\n",
       "      <td>hellohellohellohellohellohellohellohellohelloh...</td>\n",
       "    </tr>\n",
       "  </tbody>\n",
       "</table>\n",
       "</div>"
      ],
      "text/plain": [
       "                      A            B           C            D  \\\n",
       "2024-01-01   805.955785  -305.917703  983.337807 -2441.024092   \n",
       "2024-01-02 -1151.118735   958.721709  149.249072   621.109095   \n",
       "2024-01-03    68.949763   192.157261 -133.623347  -262.616110   \n",
       "2024-01-04   116.207622  1537.013968  836.504737   558.891008   \n",
       "2024-01-05 -1966.088861 -2214.610293 -237.079096   165.809037   \n",
       "2024-01-06  -569.517083   -39.373977  557.603331 -1189.776297   \n",
       "\n",
       "                                                            E  \n",
       "2024-01-01  hellohellohellohellohellohellohellohellohelloh...  \n",
       "2024-01-02  hellohellohellohellohellohellohellohellohelloh...  \n",
       "2024-01-03  hellohellohellohellohellohellohellohellohelloh...  \n",
       "2024-01-04  hellohellohellohellohellohellohellohellohelloh...  \n",
       "2024-01-05  hellohellohellohellohellohellohellohellohelloh...  \n",
       "2024-01-06  hellohellohellohellohellohellohellohellohelloh...  "
      ]
     },
     "execution_count": 62,
     "metadata": {},
     "output_type": "execute_result"
    }
   ],
   "source": [
    "df3 = df\n",
    "df3['E'] = 'hello'\n",
    "df3*1000"
   ]
  },
  {
   "cell_type": "code",
   "execution_count": 63,
   "metadata": {},
   "outputs": [
    {
     "name": "stdout",
     "output_type": "stream",
     "text": [
      "          0         1         2         3\n",
      "0  1.297479  0.552868  0.331574  0.303177\n",
      "1  1.474777 -0.992602 -1.962705  0.421097\n",
      "2  1.464510  2.063716  1.176080  0.426864\n",
      "3  1.180471  0.342904  1.103002 -0.092893\n",
      "4 -0.008583 -0.476841  0.486512  1.253410\n",
      "5  0.333194 -0.800232 -0.042639 -0.892017\n",
      "6 -1.029743 -0.763131 -0.805096 -1.353255\n",
      "7  0.457657 -0.832801 -0.805734  0.523561\n",
      "8 -0.077121 -0.308866  0.290847  1.348396\n",
      "9 -1.358964 -1.492602  0.319448 -0.203169\n",
      "\n",
      "          0         1         2         3\n",
      "0  1.297479  0.552868  0.331574  0.303177\n",
      "1  1.474777 -0.992602 -1.962705  0.421097\n",
      "5  0.333194 -0.800232 -0.042639 -0.892017\n",
      "6 -1.029743 -0.763131 -0.805096 -1.353255\n",
      "8 -0.077121 -0.308866  0.290847  1.348396\n",
      "9 -1.358964 -1.492602  0.319448 -0.203169\n",
      "\n",
      "          0         1         3\n",
      "0  1.297479  0.552868  0.303177\n",
      "1  1.474777 -0.992602  0.421097\n",
      "2  1.464510  2.063716  0.426864\n",
      "3  1.180471  0.342904 -0.092893\n",
      "4 -0.008583 -0.476841  1.253410\n",
      "5  0.333194 -0.800232 -0.892017\n",
      "6 -1.029743 -0.763131 -1.353255\n",
      "7  0.457657 -0.832801  0.523561\n",
      "8 -0.077121 -0.308866  1.348396\n",
      "9 -1.358964 -1.492602 -0.203169\n",
      "\n"
     ]
    }
   ],
   "source": [
    "#Concat, Join, Append.\n",
    "\n",
    "# concatenate rows together\n",
    "df = pd.DataFrame(np.random.randn(10, 4))\n",
    "print(df)\n",
    "print()\n",
    "\n",
    "pieces = [df[:2], df[5:7], df[8:]]\n",
    "print(pd.concat(pieces))\n",
    "print()\n",
    "\n",
    "# concatenate columns together\n",
    "pieces = [df.iloc[:,0:2], df.iloc[:,3]]\n",
    "print(pd.concat(pieces,axis=1))\n",
    "print()\n"
   ]
  },
  {
   "cell_type": "code",
   "execution_count": 64,
   "metadata": {},
   "outputs": [
    {
     "name": "stdout",
     "output_type": "stream",
     "text": [
      "  key  xval\n",
      "0   B     2\n",
      "1   A     1\n",
      "\n",
      "  key  yval\n",
      "0   A     4\n",
      "1   B     5\n",
      "2   C     6\n"
     ]
    }
   ],
   "source": [
    "x = pd.DataFrame({'key': ['B', 'A'], 'xval': [2, 1]})\n",
    "y = pd.DataFrame({'key': ['A', 'B','C'], 'yval': [4, 5,6]})\n",
    "print(x)\n",
    "print()\n",
    "print(y)"
   ]
  },
  {
   "cell_type": "code",
   "execution_count": 65,
   "metadata": {},
   "outputs": [
    {
     "name": "stdout",
     "output_type": "stream",
     "text": [
      "  key  yval  xval\n",
      "0   A     4   1.0\n",
      "1   B     5   2.0\n",
      "2   C     6   NaN\n",
      "\n",
      "  key  xval  yval\n",
      "0   B     2     5\n",
      "1   A     1     4\n",
      "\n",
      "  key  xval  yval\n",
      "0   A   1.0     4\n",
      "1   B   2.0     5\n",
      "2   C   NaN     6\n"
     ]
    }
   ],
   "source": [
    "print(y.merge(x,left_on=\"key\",right_on=\"key\",how=\"left\"))\n",
    "print()\n",
    "print(x.merge(y,left_on=\"key\",right_on=\"key\",how=\"left\"))\n",
    "print()\n",
    "print(x.merge(y,left_on=\"key\",right_on=\"key\",how=\"right\"))"
   ]
  },
  {
   "cell_type": "code",
   "execution_count": 66,
   "metadata": {},
   "outputs": [
    {
     "name": "stdout",
     "output_type": "stream",
     "text": [
      "  key  yval  xval\n",
      "0   A   4.0   NaN\n",
      "1   B   5.0   NaN\n",
      "2   C   6.0   NaN\n",
      "3   B   NaN   2.0\n",
      "4   A   NaN   1.0\n",
      "\n",
      "  key  yval  xval\n",
      "0   A   4.0   NaN\n",
      "1   B   5.0   NaN\n",
      "2   C   6.0   NaN\n",
      "3   B   NaN   2.0\n",
      "4   A   NaN   1.0\n"
     ]
    },
    {
     "name": "stderr",
     "output_type": "stream",
     "text": [
      "/var/folders/qp/9y56mfxx3zq2c_cjbvf9xg_w0000gn/T/ipykernel_35532/3046326276.py:2: FutureWarning: The frame.append method is deprecated and will be removed from pandas in a future version. Use pandas.concat instead.\n",
      "  print(y.append(x, ignore_index=True)) # deprecated\n"
     ]
    }
   ],
   "source": [
    "# Append\n",
    "print(y.append(x, ignore_index=True)) # deprecated\n",
    "print()\n",
    "print(pd.concat([y,x],ignore_index=True))"
   ]
  },
  {
   "cell_type": "code",
   "execution_count": 67,
   "metadata": {},
   "outputs": [
    {
     "data": {
      "text/html": [
       "<div>\n",
       "<style scoped>\n",
       "    .dataframe tbody tr th:only-of-type {\n",
       "        vertical-align: middle;\n",
       "    }\n",
       "\n",
       "    .dataframe tbody tr th {\n",
       "        vertical-align: top;\n",
       "    }\n",
       "\n",
       "    .dataframe thead th {\n",
       "        text-align: right;\n",
       "    }\n",
       "</style>\n",
       "<table border=\"1\" class=\"dataframe\">\n",
       "  <thead>\n",
       "    <tr style=\"text-align: right;\">\n",
       "      <th></th>\n",
       "      <th>A</th>\n",
       "      <th>B</th>\n",
       "      <th>C</th>\n",
       "      <th>D</th>\n",
       "    </tr>\n",
       "  </thead>\n",
       "  <tbody>\n",
       "    <tr>\n",
       "      <th>0</th>\n",
       "      <td>foo</td>\n",
       "      <td>one</td>\n",
       "      <td>0.799766</td>\n",
       "      <td>0.428196</td>\n",
       "    </tr>\n",
       "    <tr>\n",
       "      <th>1</th>\n",
       "      <td>bar</td>\n",
       "      <td>one</td>\n",
       "      <td>-0.336669</td>\n",
       "      <td>-1.102145</td>\n",
       "    </tr>\n",
       "    <tr>\n",
       "      <th>2</th>\n",
       "      <td>foo</td>\n",
       "      <td>two</td>\n",
       "      <td>0.983664</td>\n",
       "      <td>-0.486665</td>\n",
       "    </tr>\n",
       "    <tr>\n",
       "      <th>3</th>\n",
       "      <td>bar</td>\n",
       "      <td>three</td>\n",
       "      <td>0.367893</td>\n",
       "      <td>-0.738516</td>\n",
       "    </tr>\n",
       "    <tr>\n",
       "      <th>4</th>\n",
       "      <td>foo</td>\n",
       "      <td>two</td>\n",
       "      <td>-0.470600</td>\n",
       "      <td>-0.008783</td>\n",
       "    </tr>\n",
       "    <tr>\n",
       "      <th>5</th>\n",
       "      <td>bar</td>\n",
       "      <td>two</td>\n",
       "      <td>2.066251</td>\n",
       "      <td>-0.435960</td>\n",
       "    </tr>\n",
       "    <tr>\n",
       "      <th>6</th>\n",
       "      <td>foo</td>\n",
       "      <td>one</td>\n",
       "      <td>1.670782</td>\n",
       "      <td>-1.044065</td>\n",
       "    </tr>\n",
       "    <tr>\n",
       "      <th>7</th>\n",
       "      <td>foo</td>\n",
       "      <td>three</td>\n",
       "      <td>-1.382524</td>\n",
       "      <td>-0.163221</td>\n",
       "    </tr>\n",
       "  </tbody>\n",
       "</table>\n",
       "</div>"
      ],
      "text/plain": [
       "     A      B         C         D\n",
       "0  foo    one  0.799766  0.428196\n",
       "1  bar    one -0.336669 -1.102145\n",
       "2  foo    two  0.983664 -0.486665\n",
       "3  bar  three  0.367893 -0.738516\n",
       "4  foo    two -0.470600 -0.008783\n",
       "5  bar    two  2.066251 -0.435960\n",
       "6  foo    one  1.670782 -1.044065\n",
       "7  foo  three -1.382524 -0.163221"
      ]
     },
     "execution_count": 67,
     "metadata": {},
     "output_type": "execute_result"
    }
   ],
   "source": [
    "# Grouping\n",
    "df = pd.DataFrame({'A' : ['foo', 'bar', 'foo', 'bar','foo', 'bar', 'foo', 'foo'],'B' : ['one', 'one', 'two', 'three','two', 'two', 'one', 'three'],\n",
    "'C' : np.random.randn(8),'D' : np.random.randn(8)})\n",
    "df"
   ]
  },
  {
   "cell_type": "code",
   "execution_count": 68,
   "metadata": {},
   "outputs": [
    {
     "data": {
      "text/plain": [
       "A\n",
       "bar   -2.276621\n",
       "foo   -1.274538\n",
       "dtype: float64"
      ]
     },
     "execution_count": 68,
     "metadata": {},
     "output_type": "execute_result"
    }
   ],
   "source": [
    "df.groupby(\"A\").apply(lambda x: x.loc[:,\"D\"].sum())"
   ]
  },
  {
   "cell_type": "code",
   "execution_count": 69,
   "metadata": {},
   "outputs": [
    {
     "data": {
      "text/html": [
       "<div>\n",
       "<style scoped>\n",
       "    .dataframe tbody tr th:only-of-type {\n",
       "        vertical-align: middle;\n",
       "    }\n",
       "\n",
       "    .dataframe tbody tr th {\n",
       "        vertical-align: top;\n",
       "    }\n",
       "\n",
       "    .dataframe thead th {\n",
       "        text-align: right;\n",
       "    }\n",
       "</style>\n",
       "<table border=\"1\" class=\"dataframe\">\n",
       "  <thead>\n",
       "    <tr style=\"text-align: right;\">\n",
       "      <th></th>\n",
       "      <th></th>\n",
       "      <th>C</th>\n",
       "      <th>D</th>\n",
       "    </tr>\n",
       "    <tr>\n",
       "      <th>A</th>\n",
       "      <th>B</th>\n",
       "      <th></th>\n",
       "      <th></th>\n",
       "    </tr>\n",
       "  </thead>\n",
       "  <tbody>\n",
       "    <tr>\n",
       "      <th rowspan=\"3\" valign=\"top\">bar</th>\n",
       "      <th>one</th>\n",
       "      <td>-0.336669</td>\n",
       "      <td>-1.102145</td>\n",
       "    </tr>\n",
       "    <tr>\n",
       "      <th>three</th>\n",
       "      <td>0.367893</td>\n",
       "      <td>-0.738516</td>\n",
       "    </tr>\n",
       "    <tr>\n",
       "      <th>two</th>\n",
       "      <td>2.066251</td>\n",
       "      <td>-0.435960</td>\n",
       "    </tr>\n",
       "    <tr>\n",
       "      <th rowspan=\"3\" valign=\"top\">foo</th>\n",
       "      <th>one</th>\n",
       "      <td>2.470548</td>\n",
       "      <td>-0.615869</td>\n",
       "    </tr>\n",
       "    <tr>\n",
       "      <th>three</th>\n",
       "      <td>-1.382524</td>\n",
       "      <td>-0.163221</td>\n",
       "    </tr>\n",
       "    <tr>\n",
       "      <th>two</th>\n",
       "      <td>0.513063</td>\n",
       "      <td>-0.495448</td>\n",
       "    </tr>\n",
       "  </tbody>\n",
       "</table>\n",
       "</div>"
      ],
      "text/plain": [
       "                  C         D\n",
       "A   B                        \n",
       "bar one   -0.336669 -1.102145\n",
       "    three  0.367893 -0.738516\n",
       "    two    2.066251 -0.435960\n",
       "foo one    2.470548 -0.615869\n",
       "    three -1.382524 -0.163221\n",
       "    two    0.513063 -0.495448"
      ]
     },
     "execution_count": 69,
     "metadata": {},
     "output_type": "execute_result"
    }
   ],
   "source": [
    "tmp=df.groupby(['A','B']).sum()\n",
    "tmp"
   ]
  },
  {
   "cell_type": "code",
   "execution_count": 70,
   "metadata": {},
   "outputs": [
    {
     "name": "stdout",
     "output_type": "stream",
     "text": [
      "                  C         D\n",
      "A   B                        \n",
      "bar one   -0.336669 -1.102145\n",
      "    three  0.367893 -0.738516\n",
      "    two    2.066251 -0.435960\n",
      "foo one    2.470548 -0.615869\n",
      "    three -1.382524 -0.163221\n",
      "    two    0.513063 -0.495448\n",
      "\n",
      "A    B       \n",
      "bar  one    C   -0.336669\n",
      "            D   -1.102145\n",
      "     three  C    0.367893\n",
      "            D   -0.738516\n",
      "     two    C    2.066251\n",
      "            D   -0.435960\n",
      "foo  one    C    2.470548\n",
      "            D   -0.615869\n",
      "     three  C   -1.382524\n",
      "            D   -0.163221\n",
      "     two    C    0.513063\n",
      "            D   -0.495448\n",
      "dtype: float64\n",
      "\n",
      "                  C         D\n",
      "A   B                        \n",
      "bar one   -0.336669 -1.102145\n",
      "    three  0.367893 -0.738516\n",
      "    two    2.066251 -0.435960\n",
      "foo one    2.470548 -0.615869\n",
      "    three -1.382524 -0.163221\n",
      "    two    0.513063 -0.495448\n"
     ]
    }
   ],
   "source": [
    "# Stack and unstack\n",
    "print(tmp)\n",
    "print()\n",
    "\n",
    "stacked=tmp.stack(level=-1) # -1, i.e., the last column, is the default level\n",
    "print(stacked)\n",
    "print()\n",
    "\n",
    "unstacked = stacked.unstack(level=-1) # -1, i.e., the last column, is the default level\n",
    "print(unstacked)"
   ]
  },
  {
   "cell_type": "markdown",
   "metadata": {},
   "source": [
    "# Sklearn\n",
    "\n",
    "1.Preprocessing.\n",
    "\n",
    "2.Supervised Learning.\n",
    "\n",
    "3.Model selection.\n"
   ]
  },
  {
   "cell_type": "code",
   "execution_count": 71,
   "metadata": {},
   "outputs": [
    {
     "data": {
      "text/plain": [
       "'1.3.0'"
      ]
     },
     "execution_count": 71,
     "metadata": {},
     "output_type": "execute_result"
    }
   ],
   "source": [
    "# Check your version and make sure >0.18\n",
    "import sklearn\n",
    "sklearn.__version__"
   ]
  },
  {
   "cell_type": "markdown",
   "metadata": {
    "collapsed": true
   },
   "source": [
    "### 1. Preprocessing."
   ]
  },
  {
   "cell_type": "markdown",
   "metadata": {},
   "source": [
    "#### Scale,  Normalization, Binarization, and so on."
   ]
  },
  {
   "cell_type": "code",
   "execution_count": 72,
   "metadata": {},
   "outputs": [],
   "source": [
    "from sklearn import preprocessing"
   ]
  },
  {
   "cell_type": "code",
   "execution_count": 73,
   "metadata": {},
   "outputs": [
    {
     "data": {
      "text/plain": [
       "array([[ 1., -1.,  2.],\n",
       "       [ 2.,  0.,  0.],\n",
       "       [ 0.,  1., -1.]])"
      ]
     },
     "execution_count": 73,
     "metadata": {},
     "output_type": "execute_result"
    }
   ],
   "source": [
    "import numpy as np\n",
    "X = np.array([[ 1., -1.,  2.],\n",
    "               [ 2.,  0.,  0.],\n",
    "             [ 0.,  1., -1.]])\n",
    "X"
   ]
  },
  {
   "cell_type": "code",
   "execution_count": 74,
   "metadata": {},
   "outputs": [
    {
     "data": {
      "text/plain": [
       "array([[ 0.        , -1.22474487,  1.33630621],\n",
       "       [ 1.22474487,  0.        , -0.26726124],\n",
       "       [-1.22474487,  1.22474487, -1.06904497]])"
      ]
     },
     "execution_count": 74,
     "metadata": {},
     "output_type": "execute_result"
    }
   ],
   "source": [
    "# make each column have mean = 0 and std dev = 1\n",
    "X_scaled = preprocessing.scale(X)\n",
    "X_scaled"
   ]
  },
  {
   "cell_type": "code",
   "execution_count": 75,
   "metadata": {},
   "outputs": [
    {
     "data": {
      "text/plain": [
       "array([0., 0., 0.])"
      ]
     },
     "execution_count": 75,
     "metadata": {},
     "output_type": "execute_result"
    }
   ],
   "source": [
    "X_scaled.mean(axis=0)"
   ]
  },
  {
   "cell_type": "code",
   "execution_count": 76,
   "metadata": {},
   "outputs": [
    {
     "data": {
      "text/plain": [
       "array([1., 1., 1.])"
      ]
     },
     "execution_count": 76,
     "metadata": {},
     "output_type": "execute_result"
    }
   ],
   "source": [
    "X_scaled.std(axis=0)"
   ]
  },
  {
   "cell_type": "code",
   "execution_count": 77,
   "metadata": {},
   "outputs": [
    {
     "data": {
      "text/plain": [
       "array([[ 0.        , -1.22474487,  1.33630621],\n",
       "       [ 1.22474487,  0.        , -0.26726124],\n",
       "       [-1.22474487,  1.22474487, -1.06904497]])"
      ]
     },
     "execution_count": 77,
     "metadata": {},
     "output_type": "execute_result"
    }
   ],
   "source": [
    "# Equivalently, we could use:\n",
    "(X-X.mean(axis=0))/X.std(axis=0)"
   ]
  },
  {
   "cell_type": "markdown",
   "metadata": {},
   "source": [
    "#### Normalize \n",
    "\n",
    "Normalization is the process of scaling individual samples to have unit norm. This process can be useful if you plan to use a quadratic form such as the dot-product or any other kernel to quantify the similarity of any pair of samples."
   ]
  },
  {
   "cell_type": "code",
   "execution_count": 78,
   "metadata": {},
   "outputs": [
    {
     "name": "stdout",
     "output_type": "stream",
     "text": [
      "[[ 0.40824829 -0.40824829  0.81649658]\n",
      " [ 1.          0.          0.        ]\n",
      " [ 0.          0.70710678 -0.70710678]]\n",
      "\n",
      "[[ 0.40824829 -0.40824829  0.81649658]\n",
      " [ 1.          0.          0.        ]\n",
      " [ 0.          0.70710678 -0.70710678]]\n"
     ]
    }
   ],
   "source": [
    "print(preprocessing.normalize(X))\n",
    "print()\n",
    "\n",
    "# alternatively, we could manually compute:\n",
    "print(X/np.sqrt((X*X).sum(axis=1)).reshape(-1,1))"
   ]
  },
  {
   "cell_type": "markdown",
   "metadata": {},
   "source": [
    "Sklearn has a ton of methods implemented, many of which we will see later in the course!\n",
    "\n",
    "### Supervised Learning \n",
    "\n",
    "(Regression/Classification)\n",
    "\n",
    "Linear Models (Ordinary Least Squares, Logistic Regression, Lasso and Ridge...)\n",
    "\n",
    "Kernel regression\n",
    "\n",
    "SVM\n",
    "\n",
    "Gaussian Processes\n",
    "\n",
    "Decision Trees and Random Forests (next class)\n",
    "\n",
    "Naive Bayes\n",
    "\n",
    "Supervised Neural Network models (incl. Deep Learning)\n",
    "\n",
    "### Unsupervised Learning\n",
    "\n",
    "Clustering.\n",
    "\n",
    "Dimension Reduction.\n",
    "\n",
    "Representation in Neural Networks such as RBM"
   ]
  },
  {
   "cell_type": "markdown",
   "metadata": {},
   "source": [
    "### Tips: How to use packages from sklearn.\n",
    "\n",
    "Step one: What is the problem we want to solve and what is the model we want to fit. \n",
    "\n",
    "Step two: What are the hyper-parameters related to model structure.\n",
    "\n",
    "Step three: What are the inputs dataframe and what are the parameters we want to tune.\n",
    "\n",
    "Step four: What are hyper-parameters for training process. (learning rate, iteration max...)\n",
    "\n",
    "Step five: What are the outputs and tuned parameters."
   ]
  },
  {
   "cell_type": "code",
   "execution_count": null,
   "metadata": {},
   "outputs": [],
   "source": []
  }
 ],
 "metadata": {
  "anaconda-cloud": {},
  "kernelspec": {
   "display_name": "Python 3 (ipykernel)",
   "language": "python",
   "name": "python3"
  },
  "language_info": {
   "codemirror_mode": {
    "name": "ipython",
    "version": 3
   },
   "file_extension": ".py",
   "mimetype": "text/x-python",
   "name": "python",
   "nbconvert_exporter": "python",
   "pygments_lexer": "ipython3",
   "version": "3.11.4"
  }
 },
 "nbformat": 4,
 "nbformat_minor": 2
}
