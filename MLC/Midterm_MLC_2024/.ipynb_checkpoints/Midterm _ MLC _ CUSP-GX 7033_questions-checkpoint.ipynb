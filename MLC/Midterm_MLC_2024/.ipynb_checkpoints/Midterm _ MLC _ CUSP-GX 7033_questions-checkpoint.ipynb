{
 "cells": [
  {
   "cell_type": "markdown",
   "metadata": {},
   "source": [
    "# Midterm Exam - MLC Fall 2024"
   ]
  },
  {
   "cell_type": "markdown",
   "metadata": {},
   "source": [
    "Total points for the midterm exam: 15. More detailed instructions are in the PDF file in Brightspace.\n",
    "\n",
    "Please note: Copying and pasting other people's work is absolutely prohibited. Any such cases will be reported to CUSP's education team and severely punished. Discussion is encouraged, and feel free to exchange ideas with your classmates, but please write your own code and do your own work."
   ]
  },
  {
   "cell_type": "markdown",
   "metadata": {},
   "source": [
    "## Part A - Ensemble Methods (30% + 10% with optional extra)"
   ]
  },
  {
   "cell_type": "markdown",
   "metadata": {},
   "source": [
    "### Task 1: Create and Visualize Decision Trees (extra 10%)\n",
    "\n",
    "##### This task 1 (decision trees) is optional, and you can get an extra 10% if you decide to do this task."
   ]
  },
  {
   "cell_type": "code",
   "execution_count": 232,
   "metadata": {},
   "outputs": [],
   "source": [
    "import pandas as pd\n",
    "from sklearn.model_selection import train_test_split\n",
    "from sklearn.tree import DecisionTreeClassifier\n",
    "from sklearn.metrics import accuracy_score\n",
    "import matplotlib.pyplot as plt\n",
    "from sklearn.tree import plot_tree"
   ]
  },
  {
   "cell_type": "markdown",
   "metadata": {},
   "source": [
    "The provided **Telecom dataset** encompasses diverse parameters associated with telecom customers and aims to predict whether a customer is likely to stay (Contract Closure = 0) or leave (Contract Closure = 1) the telecom service provider. Each row represents a customer, and the columns include various features such state, total miutes of usage internet service, and more. The target variable, \"Contract Closure,\" serves as the binary indicator for customer churn prediction, with 0 indicating the customer stays and 1 indicating the customer leaves the telecom service."
   ]
  },
  {
   "cell_type": "code",
   "execution_count": 233,
   "metadata": {},
   "outputs": [
    {
     "data": {
      "text/html": [
       "<div>\n",
       "<style scoped>\n",
       "    .dataframe tbody tr th:only-of-type {\n",
       "        vertical-align: middle;\n",
       "    }\n",
       "\n",
       "    .dataframe tbody tr th {\n",
       "        vertical-align: top;\n",
       "    }\n",
       "\n",
       "    .dataframe thead th {\n",
       "        text-align: right;\n",
       "    }\n",
       "</style>\n",
       "<table border=\"1\" class=\"dataframe\">\n",
       "  <thead>\n",
       "    <tr style=\"text-align: right;\">\n",
       "      <th></th>\n",
       "      <th>State_FIPS</th>\n",
       "      <th>Account length</th>\n",
       "      <th>Area code</th>\n",
       "      <th>Number vmail messages</th>\n",
       "      <th>Total day minutes</th>\n",
       "      <th>Total day calls</th>\n",
       "      <th>Total day charge</th>\n",
       "      <th>Total eve minutes</th>\n",
       "      <th>Total eve calls</th>\n",
       "      <th>Total eve charge</th>\n",
       "      <th>Total night minutes</th>\n",
       "      <th>Total night calls</th>\n",
       "      <th>Total night charge</th>\n",
       "      <th>Total intl minutes</th>\n",
       "      <th>Total intl calls</th>\n",
       "      <th>Total intl charge</th>\n",
       "      <th>Customer service calls</th>\n",
       "      <th>Contract Closure</th>\n",
       "    </tr>\n",
       "  </thead>\n",
       "  <tbody>\n",
       "    <tr>\n",
       "      <th>0</th>\n",
       "      <td>1</td>\n",
       "      <td>118</td>\n",
       "      <td>510</td>\n",
       "      <td>0</td>\n",
       "      <td>223.4</td>\n",
       "      <td>98</td>\n",
       "      <td>37.98</td>\n",
       "      <td>220.6</td>\n",
       "      <td>101</td>\n",
       "      <td>18.75</td>\n",
       "      <td>203.9</td>\n",
       "      <td>118</td>\n",
       "      <td>9.18</td>\n",
       "      <td>6.3</td>\n",
       "      <td>6</td>\n",
       "      <td>1.70</td>\n",
       "      <td>0</td>\n",
       "      <td>0</td>\n",
       "    </tr>\n",
       "    <tr>\n",
       "      <th>1</th>\n",
       "      <td>1</td>\n",
       "      <td>98</td>\n",
       "      <td>408</td>\n",
       "      <td>0</td>\n",
       "      <td>161.0</td>\n",
       "      <td>117</td>\n",
       "      <td>27.37</td>\n",
       "      <td>190.9</td>\n",
       "      <td>113</td>\n",
       "      <td>16.23</td>\n",
       "      <td>227.7</td>\n",
       "      <td>113</td>\n",
       "      <td>10.25</td>\n",
       "      <td>12.1</td>\n",
       "      <td>4</td>\n",
       "      <td>3.27</td>\n",
       "      <td>4</td>\n",
       "      <td>0</td>\n",
       "    </tr>\n",
       "    <tr>\n",
       "      <th>2</th>\n",
       "      <td>1</td>\n",
       "      <td>91</td>\n",
       "      <td>510</td>\n",
       "      <td>0</td>\n",
       "      <td>129.9</td>\n",
       "      <td>112</td>\n",
       "      <td>22.08</td>\n",
       "      <td>173.3</td>\n",
       "      <td>83</td>\n",
       "      <td>14.73</td>\n",
       "      <td>247.2</td>\n",
       "      <td>130</td>\n",
       "      <td>11.12</td>\n",
       "      <td>11.2</td>\n",
       "      <td>3</td>\n",
       "      <td>3.02</td>\n",
       "      <td>3</td>\n",
       "      <td>0</td>\n",
       "    </tr>\n",
       "    <tr>\n",
       "      <th>3</th>\n",
       "      <td>1</td>\n",
       "      <td>106</td>\n",
       "      <td>415</td>\n",
       "      <td>0</td>\n",
       "      <td>223.0</td>\n",
       "      <td>121</td>\n",
       "      <td>37.91</td>\n",
       "      <td>110.1</td>\n",
       "      <td>98</td>\n",
       "      <td>9.36</td>\n",
       "      <td>188.7</td>\n",
       "      <td>107</td>\n",
       "      <td>8.49</td>\n",
       "      <td>7.1</td>\n",
       "      <td>12</td>\n",
       "      <td>1.92</td>\n",
       "      <td>0</td>\n",
       "      <td>0</td>\n",
       "    </tr>\n",
       "    <tr>\n",
       "      <th>4</th>\n",
       "      <td>1</td>\n",
       "      <td>73</td>\n",
       "      <td>415</td>\n",
       "      <td>0</td>\n",
       "      <td>192.2</td>\n",
       "      <td>86</td>\n",
       "      <td>32.67</td>\n",
       "      <td>168.6</td>\n",
       "      <td>116</td>\n",
       "      <td>14.33</td>\n",
       "      <td>139.8</td>\n",
       "      <td>87</td>\n",
       "      <td>6.29</td>\n",
       "      <td>9.4</td>\n",
       "      <td>6</td>\n",
       "      <td>2.54</td>\n",
       "      <td>1</td>\n",
       "      <td>0</td>\n",
       "    </tr>\n",
       "    <tr>\n",
       "      <th>...</th>\n",
       "      <td>...</td>\n",
       "      <td>...</td>\n",
       "      <td>...</td>\n",
       "      <td>...</td>\n",
       "      <td>...</td>\n",
       "      <td>...</td>\n",
       "      <td>...</td>\n",
       "      <td>...</td>\n",
       "      <td>...</td>\n",
       "      <td>...</td>\n",
       "      <td>...</td>\n",
       "      <td>...</td>\n",
       "      <td>...</td>\n",
       "      <td>...</td>\n",
       "      <td>...</td>\n",
       "      <td>...</td>\n",
       "      <td>...</td>\n",
       "      <td>...</td>\n",
       "    </tr>\n",
       "    <tr>\n",
       "      <th>2573</th>\n",
       "      <td>56</td>\n",
       "      <td>106</td>\n",
       "      <td>415</td>\n",
       "      <td>26</td>\n",
       "      <td>270.3</td>\n",
       "      <td>111</td>\n",
       "      <td>45.95</td>\n",
       "      <td>215.2</td>\n",
       "      <td>90</td>\n",
       "      <td>18.29</td>\n",
       "      <td>254.0</td>\n",
       "      <td>133</td>\n",
       "      <td>11.43</td>\n",
       "      <td>14.4</td>\n",
       "      <td>7</td>\n",
       "      <td>3.89</td>\n",
       "      <td>1</td>\n",
       "      <td>1</td>\n",
       "    </tr>\n",
       "    <tr>\n",
       "      <th>2574</th>\n",
       "      <td>56</td>\n",
       "      <td>97</td>\n",
       "      <td>510</td>\n",
       "      <td>0</td>\n",
       "      <td>236.9</td>\n",
       "      <td>107</td>\n",
       "      <td>40.27</td>\n",
       "      <td>157.6</td>\n",
       "      <td>105</td>\n",
       "      <td>13.40</td>\n",
       "      <td>241.0</td>\n",
       "      <td>120</td>\n",
       "      <td>10.85</td>\n",
       "      <td>7.3</td>\n",
       "      <td>2</td>\n",
       "      <td>1.97</td>\n",
       "      <td>0</td>\n",
       "      <td>1</td>\n",
       "    </tr>\n",
       "    <tr>\n",
       "      <th>2575</th>\n",
       "      <td>56</td>\n",
       "      <td>127</td>\n",
       "      <td>510</td>\n",
       "      <td>0</td>\n",
       "      <td>242.2</td>\n",
       "      <td>102</td>\n",
       "      <td>41.17</td>\n",
       "      <td>226.1</td>\n",
       "      <td>80</td>\n",
       "      <td>19.22</td>\n",
       "      <td>252.0</td>\n",
       "      <td>96</td>\n",
       "      <td>11.34</td>\n",
       "      <td>13.9</td>\n",
       "      <td>5</td>\n",
       "      <td>3.75</td>\n",
       "      <td>2</td>\n",
       "      <td>1</td>\n",
       "    </tr>\n",
       "    <tr>\n",
       "      <th>2576</th>\n",
       "      <td>56</td>\n",
       "      <td>159</td>\n",
       "      <td>415</td>\n",
       "      <td>0</td>\n",
       "      <td>167.4</td>\n",
       "      <td>68</td>\n",
       "      <td>28.46</td>\n",
       "      <td>143.8</td>\n",
       "      <td>74</td>\n",
       "      <td>12.22</td>\n",
       "      <td>140.1</td>\n",
       "      <td>111</td>\n",
       "      <td>6.30</td>\n",
       "      <td>10.3</td>\n",
       "      <td>3</td>\n",
       "      <td>2.78</td>\n",
       "      <td>0</td>\n",
       "      <td>1</td>\n",
       "    </tr>\n",
       "    <tr>\n",
       "      <th>2577</th>\n",
       "      <td>56</td>\n",
       "      <td>123</td>\n",
       "      <td>415</td>\n",
       "      <td>0</td>\n",
       "      <td>242.2</td>\n",
       "      <td>87</td>\n",
       "      <td>41.17</td>\n",
       "      <td>226.1</td>\n",
       "      <td>101</td>\n",
       "      <td>19.22</td>\n",
       "      <td>268.6</td>\n",
       "      <td>121</td>\n",
       "      <td>12.09</td>\n",
       "      <td>8.2</td>\n",
       "      <td>3</td>\n",
       "      <td>2.21</td>\n",
       "      <td>5</td>\n",
       "      <td>1</td>\n",
       "    </tr>\n",
       "  </tbody>\n",
       "</table>\n",
       "<p>2578 rows × 18 columns</p>\n",
       "</div>"
      ],
      "text/plain": [
       "      State_FIPS  Account length  Area code  Number vmail messages  \\\n",
       "0              1             118        510                      0   \n",
       "1              1              98        408                      0   \n",
       "2              1              91        510                      0   \n",
       "3              1             106        415                      0   \n",
       "4              1              73        415                      0   \n",
       "...          ...             ...        ...                    ...   \n",
       "2573          56             106        415                     26   \n",
       "2574          56              97        510                      0   \n",
       "2575          56             127        510                      0   \n",
       "2576          56             159        415                      0   \n",
       "2577          56             123        415                      0   \n",
       "\n",
       "      Total day minutes  Total day calls  Total day charge  Total eve minutes  \\\n",
       "0                 223.4               98             37.98              220.6   \n",
       "1                 161.0              117             27.37              190.9   \n",
       "2                 129.9              112             22.08              173.3   \n",
       "3                 223.0              121             37.91              110.1   \n",
       "4                 192.2               86             32.67              168.6   \n",
       "...                 ...              ...               ...                ...   \n",
       "2573              270.3              111             45.95              215.2   \n",
       "2574              236.9              107             40.27              157.6   \n",
       "2575              242.2              102             41.17              226.1   \n",
       "2576              167.4               68             28.46              143.8   \n",
       "2577              242.2               87             41.17              226.1   \n",
       "\n",
       "      Total eve calls  Total eve charge  Total night minutes  \\\n",
       "0                 101             18.75                203.9   \n",
       "1                 113             16.23                227.7   \n",
       "2                  83             14.73                247.2   \n",
       "3                  98              9.36                188.7   \n",
       "4                 116             14.33                139.8   \n",
       "...               ...               ...                  ...   \n",
       "2573               90             18.29                254.0   \n",
       "2574              105             13.40                241.0   \n",
       "2575               80             19.22                252.0   \n",
       "2576               74             12.22                140.1   \n",
       "2577              101             19.22                268.6   \n",
       "\n",
       "      Total night calls  Total night charge  Total intl minutes  \\\n",
       "0                   118                9.18                 6.3   \n",
       "1                   113               10.25                12.1   \n",
       "2                   130               11.12                11.2   \n",
       "3                   107                8.49                 7.1   \n",
       "4                    87                6.29                 9.4   \n",
       "...                 ...                 ...                 ...   \n",
       "2573                133               11.43                14.4   \n",
       "2574                120               10.85                 7.3   \n",
       "2575                 96               11.34                13.9   \n",
       "2576                111                6.30                10.3   \n",
       "2577                121               12.09                 8.2   \n",
       "\n",
       "      Total intl calls  Total intl charge  Customer service calls  \\\n",
       "0                    6               1.70                       0   \n",
       "1                    4               3.27                       4   \n",
       "2                    3               3.02                       3   \n",
       "3                   12               1.92                       0   \n",
       "4                    6               2.54                       1   \n",
       "...                ...                ...                     ...   \n",
       "2573                 7               3.89                       1   \n",
       "2574                 2               1.97                       0   \n",
       "2575                 5               3.75                       2   \n",
       "2576                 3               2.78                       0   \n",
       "2577                 3               2.21                       5   \n",
       "\n",
       "      Contract Closure  \n",
       "0                    0  \n",
       "1                    0  \n",
       "2                    0  \n",
       "3                    0  \n",
       "4                    0  \n",
       "...                ...  \n",
       "2573                 1  \n",
       "2574                 1  \n",
       "2575                 1  \n",
       "2576                 1  \n",
       "2577                 1  \n",
       "\n",
       "[2578 rows x 18 columns]"
      ]
     },
     "execution_count": 233,
     "metadata": {},
     "output_type": "execute_result"
    }
   ],
   "source": [
    "# Load the dataset\n",
    "\n",
    "data = pd.read_csv(\"telecom_dataset.csv\")\n",
    "data=data.dropna()\n",
    "data"
   ]
  },
  {
   "cell_type": "code",
   "execution_count": 234,
   "metadata": {},
   "outputs": [],
   "source": [
    "# Split the dataset into features and target variable (\"Contract Closure\")\n",
    "# your code here\n",
    "X = data.iloc[:,:17]\n",
    "X=pd.get_dummies(X)\n",
    "Y = data.iloc[:,17]"
   ]
  },
  {
   "cell_type": "code",
   "execution_count": 235,
   "metadata": {},
   "outputs": [
    {
     "name": "stdout",
     "output_type": "stream",
     "text": [
      "X_train head:\n",
      "      State_FIPS  Account length  Area code  Number vmail messages  \\\n",
      "1193          27             173        510                      0   \n",
      "2512          56              57        408                     39   \n",
      "2383          51             138        415                      0   \n",
      "1743          38              82        415                     29   \n",
      "1396          32             130        510                      0   \n",
      "\n",
      "      Total day minutes  Total day calls  Total day charge  Total eve minutes  \\\n",
      "1193              291.8              143             49.61              214.3   \n",
      "2512              213.0              115             36.21              191.1   \n",
      "2383              251.0              119             42.67               91.2   \n",
      "1743              163.8               77             27.85              134.9   \n",
      "1396              154.2              119             26.21              110.2   \n",
      "\n",
      "      Total eve calls  Total eve charge  Total night minutes  \\\n",
      "1193              134             18.22                151.2   \n",
      "2512              112             16.24                182.7   \n",
      "2383               96              7.75                142.2   \n",
      "1743              112             11.47                 79.3   \n",
      "1396               98              9.37                227.4   \n",
      "\n",
      "      Total night calls  Total night charge  Total intl minutes  \\\n",
      "1193                119                6.80                 9.9   \n",
      "2512                115                8.22                 9.5   \n",
      "2383                 87                6.40                13.8   \n",
      "1743                 95                3.57                 8.8   \n",
      "1396                117               10.23                 9.2   \n",
      "\n",
      "      Total intl calls  Total intl charge  Customer service calls  \n",
      "1193                 2               2.67                       0  \n",
      "2512                 3               2.57                       0  \n",
      "2383                 3               3.73                       3  \n",
      "1743                 2               2.38                       2  \n",
      "1396                 5               2.48                       2  \n",
      "\n",
      "X_test head:\n",
      "      State_FIPS  Account length  Area code  Number vmail messages  \\\n",
      "618           16             114        408                     19   \n",
      "1327          30              80        408                     15   \n",
      "2104          46             103        510                      0   \n",
      "2274          49             133        408                     44   \n",
      "2483          55              63        510                     34   \n",
      "\n",
      "      Total day minutes  Total day calls  Total day charge  Total eve minutes  \\\n",
      "618               154.6              100             26.28              241.6   \n",
      "1327              159.3              110             27.08              170.6   \n",
      "2104              206.5              125             35.11              180.2   \n",
      "2274              174.0               80             29.58              209.4   \n",
      "2483              152.2              119             25.87              227.1   \n",
      "\n",
      "      Total eve calls  Total eve charge  Total night minutes  \\\n",
      "618               109             20.54                160.0   \n",
      "1327              120             14.50                141.2   \n",
      "2104              113             15.32                220.6   \n",
      "2274              113             17.80                224.1   \n",
      "2483               91             19.30                195.7   \n",
      "\n",
      "      Total night calls  Total night charge  Total intl minutes  \\\n",
      "618                 112                7.20                12.6   \n",
      "1327                 82                6.35                11.9   \n",
      "2104                 95                9.93                12.2   \n",
      "2274                 87               10.08                14.1   \n",
      "2483                103                8.81                12.3   \n",
      "\n",
      "      Total intl calls  Total intl charge  Customer service calls  \n",
      "618                  1               3.40                       3  \n",
      "1327                 5               3.21                       1  \n",
      "2104                 4               3.29                       3  \n",
      "2274                 7               3.81                       2  \n",
      "2483                 5               3.32                       1  \n",
      "\n",
      "Y_train head:\n",
      "1193    1\n",
      "2512    0\n",
      "2383    0\n",
      "1743    0\n",
      "1396    0\n",
      "Name: Contract Closure, dtype: int64\n",
      "\n",
      "Y_test head:\n",
      "618     0\n",
      "1327    0\n",
      "2104    0\n",
      "2274    1\n",
      "2483    0\n",
      "Name: Contract Closure, dtype: int64\n"
     ]
    }
   ],
   "source": [
    "# Split data into 80% train, 20% test, random_state=999\n",
    "# your code here\n",
    "\n",
    "from sklearn.model_selection import train_test_split\n",
    "X_train, X_test, Y_train, Y_test = train_test_split(X, Y, test_size=0.2, random_state=999)\n",
    "\n",
    "# Print head\n",
    "# your code here\n",
    "print(\"X_train head:\")\n",
    "print(X_train.head())\n",
    "\n",
    "print(\"\\nX_test head:\")\n",
    "print(X_test.head())\n",
    "\n",
    "print(\"\\nY_train head:\")\n",
    "print(Y_train.head())\n",
    "\n",
    "print(\"\\nY_test head:\")\n",
    "print(Y_test.head())"
   ]
  },
  {
   "cell_type": "markdown",
   "metadata": {},
   "source": [
    "#### a. Evaluate the model. Report on in-sample (training data) and out-of-sample (test data)."
   ]
  },
  {
   "cell_type": "code",
   "execution_count": 236,
   "metadata": {},
   "outputs": [
    {
     "name": "stdout",
     "output_type": "stream",
     "text": [
      "IS acuracy\n",
      "[0.8792434529582929]\n",
      "OS acuracy\n",
      "[0.8662790697674418]\n"
     ]
    }
   ],
   "source": [
    "# Build the decision tree model with max_depth = 2:\n",
    "# your code here\n",
    "import sklearn\n",
    "from sklearn.tree import DecisionTreeClassifier\n",
    "OS=[]\n",
    "IS=[]\n",
    "dt = DecisionTreeClassifier(max_depth=2)\n",
    "dt.fit(X_train,Y_train)\n",
    "OS.append((dt.score(X_test, Y_test)))\n",
    "IS.append(dt.score(X_train,Y_train))\n",
    "\n",
    "\n",
    "# In-sample accuracy:\n",
    "# your code here\n",
    "print(\"IS acuracy\")\n",
    "print(IS)\n",
    "\n",
    "\n",
    "# Out-of-sample accuracy:\n",
    "print(\"OS acuracy\")\n",
    "print(OS)\n",
    "# your code here"
   ]
  },
  {
   "cell_type": "code",
   "execution_count": 237,
   "metadata": {},
   "outputs": [
    {
     "data": {
      "text/plain": [
       "array([0, 0, 0, 0, 0, 1, 1, 0, 0, 0, 0, 0, 1, 0, 0, 0, 1, 0, 0, 0, 0, 0,\n",
       "       0, 0, 0, 1, 0, 0, 0, 0, 0, 0, 0, 0, 1, 0, 0, 0, 0, 0, 0, 0, 1, 0,\n",
       "       0, 0, 0, 1, 0, 0, 1, 0, 1, 0, 0, 0, 0, 0, 0, 1, 0, 0, 0, 0, 0, 0,\n",
       "       1, 0, 0, 0, 1, 0, 0, 0, 0, 0, 0, 0, 0, 0, 0, 0, 1, 0, 0, 0, 0, 0,\n",
       "       0, 0, 0, 0, 1, 0, 0, 0, 0, 0, 0, 0, 0, 1, 0, 0, 0, 0, 0, 0, 0, 0,\n",
       "       0, 0, 0, 0, 1, 0, 0, 0, 1, 0, 0, 0, 0, 0, 0, 0, 0, 0, 0, 0, 1, 0,\n",
       "       0, 1, 0, 0, 0, 0, 0, 0, 0, 0, 0, 0, 0, 1, 0, 0, 0, 0, 0, 0, 1, 0,\n",
       "       0, 0, 0, 0, 0, 0, 0, 0, 0, 0, 0, 0, 0, 1, 0, 0, 0, 0, 0, 0, 0, 0,\n",
       "       0, 0, 1, 0, 0, 0, 0, 0, 0, 0, 1, 0, 0, 0, 0, 0, 0, 0, 0, 0, 0, 0,\n",
       "       0, 0, 0, 0, 0, 0, 0, 0, 0, 0, 0, 0, 0, 0, 0, 1, 1, 0, 0, 0, 0, 0,\n",
       "       0, 0, 0, 0, 0, 0, 0, 0, 0, 0, 0, 0, 0, 0, 0, 0, 0, 0, 1, 0, 0, 0,\n",
       "       0, 0, 0, 0, 0, 0, 1, 0, 0, 0, 0, 0, 0, 0, 0, 0, 0, 0, 0, 0, 0, 0,\n",
       "       0, 0, 0, 0, 0, 0, 1, 0, 0, 0, 0, 0, 0, 0, 0, 0, 0, 1, 0, 1, 0, 0,\n",
       "       0, 0, 0, 1, 0, 0, 1, 0, 0, 0, 0, 0, 0, 0, 0, 0, 0, 0, 0, 1, 0, 0,\n",
       "       0, 0, 0, 1, 1, 1, 0, 1, 1, 0, 0, 1, 0, 0, 0, 0, 0, 0, 0, 0, 0, 0,\n",
       "       0, 1, 0, 0, 0, 0, 0, 0, 0, 0, 0, 0, 0, 0, 0, 0, 0, 0, 1, 0, 0, 0,\n",
       "       0, 0, 1, 0, 0, 1, 0, 0, 0, 0, 0, 0, 0, 0, 0, 0, 0, 0, 0, 0, 0, 0,\n",
       "       0, 0, 0, 0, 0, 0, 0, 0, 0, 0, 0, 0, 0, 0, 0, 0, 1, 0, 0, 1, 0, 0,\n",
       "       0, 0, 1, 0, 0, 1, 0, 0, 0, 0, 0, 1, 0, 0, 0, 0, 0, 0, 0, 0, 0, 0,\n",
       "       0, 1, 1, 0, 0, 1, 0, 0, 0, 0, 0, 0, 0, 1, 0, 0, 0, 0, 0, 0, 1, 0,\n",
       "       1, 0, 0, 0, 0, 0, 1, 0, 0, 0, 0, 0, 0, 0, 0, 0, 0, 0, 1, 1, 0, 0,\n",
       "       0, 0, 0, 0, 0, 0, 0, 0, 0, 0, 0, 0, 0, 0, 0, 0, 0, 0, 0, 0, 0, 0,\n",
       "       0, 0, 0, 0, 1, 0, 0, 0, 1, 1, 0, 0, 0, 1, 0, 0, 0, 0, 0, 0, 1, 0,\n",
       "       0, 0, 0, 0, 1, 0, 1, 0, 0, 1])"
      ]
     },
     "execution_count": 237,
     "metadata": {},
     "output_type": "execute_result"
    }
   ],
   "source": [
    "# Make predictions on the test set\n",
    "# your code here\n",
    "pred=dt.predict(X_test)\n",
    "pred"
   ]
  },
  {
   "cell_type": "code",
   "execution_count": 238,
   "metadata": {},
   "outputs": [
    {
     "data": {
      "text/html": [
       "<div>\n",
       "<style scoped>\n",
       "    .dataframe tbody tr th:only-of-type {\n",
       "        vertical-align: middle;\n",
       "    }\n",
       "\n",
       "    .dataframe tbody tr th {\n",
       "        vertical-align: top;\n",
       "    }\n",
       "\n",
       "    .dataframe thead th {\n",
       "        text-align: right;\n",
       "    }\n",
       "</style>\n",
       "<table border=\"1\" class=\"dataframe\">\n",
       "  <thead>\n",
       "    <tr style=\"text-align: right;\">\n",
       "      <th></th>\n",
       "      <th>State_FIPS</th>\n",
       "      <th>Account length</th>\n",
       "      <th>Area code</th>\n",
       "      <th>Number vmail messages</th>\n",
       "      <th>Total day minutes</th>\n",
       "      <th>Total day calls</th>\n",
       "      <th>Total day charge</th>\n",
       "      <th>Total eve minutes</th>\n",
       "      <th>Total eve calls</th>\n",
       "      <th>Total eve charge</th>\n",
       "      <th>Total night minutes</th>\n",
       "      <th>Total night calls</th>\n",
       "      <th>Total night charge</th>\n",
       "      <th>Total intl minutes</th>\n",
       "      <th>Total intl calls</th>\n",
       "      <th>Total intl charge</th>\n",
       "      <th>Customer service calls</th>\n",
       "    </tr>\n",
       "  </thead>\n",
       "  <tbody>\n",
       "    <tr>\n",
       "      <th>1193</th>\n",
       "      <td>27</td>\n",
       "      <td>173</td>\n",
       "      <td>510</td>\n",
       "      <td>0</td>\n",
       "      <td>291.8</td>\n",
       "      <td>143</td>\n",
       "      <td>49.61</td>\n",
       "      <td>214.3</td>\n",
       "      <td>134</td>\n",
       "      <td>18.22</td>\n",
       "      <td>151.2</td>\n",
       "      <td>119</td>\n",
       "      <td>6.80</td>\n",
       "      <td>9.9</td>\n",
       "      <td>2</td>\n",
       "      <td>2.67</td>\n",
       "      <td>0</td>\n",
       "    </tr>\n",
       "    <tr>\n",
       "      <th>2512</th>\n",
       "      <td>56</td>\n",
       "      <td>57</td>\n",
       "      <td>408</td>\n",
       "      <td>39</td>\n",
       "      <td>213.0</td>\n",
       "      <td>115</td>\n",
       "      <td>36.21</td>\n",
       "      <td>191.1</td>\n",
       "      <td>112</td>\n",
       "      <td>16.24</td>\n",
       "      <td>182.7</td>\n",
       "      <td>115</td>\n",
       "      <td>8.22</td>\n",
       "      <td>9.5</td>\n",
       "      <td>3</td>\n",
       "      <td>2.57</td>\n",
       "      <td>0</td>\n",
       "    </tr>\n",
       "    <tr>\n",
       "      <th>2383</th>\n",
       "      <td>51</td>\n",
       "      <td>138</td>\n",
       "      <td>415</td>\n",
       "      <td>0</td>\n",
       "      <td>251.0</td>\n",
       "      <td>119</td>\n",
       "      <td>42.67</td>\n",
       "      <td>91.2</td>\n",
       "      <td>96</td>\n",
       "      <td>7.75</td>\n",
       "      <td>142.2</td>\n",
       "      <td>87</td>\n",
       "      <td>6.40</td>\n",
       "      <td>13.8</td>\n",
       "      <td>3</td>\n",
       "      <td>3.73</td>\n",
       "      <td>3</td>\n",
       "    </tr>\n",
       "    <tr>\n",
       "      <th>1743</th>\n",
       "      <td>38</td>\n",
       "      <td>82</td>\n",
       "      <td>415</td>\n",
       "      <td>29</td>\n",
       "      <td>163.8</td>\n",
       "      <td>77</td>\n",
       "      <td>27.85</td>\n",
       "      <td>134.9</td>\n",
       "      <td>112</td>\n",
       "      <td>11.47</td>\n",
       "      <td>79.3</td>\n",
       "      <td>95</td>\n",
       "      <td>3.57</td>\n",
       "      <td>8.8</td>\n",
       "      <td>2</td>\n",
       "      <td>2.38</td>\n",
       "      <td>2</td>\n",
       "    </tr>\n",
       "    <tr>\n",
       "      <th>1396</th>\n",
       "      <td>32</td>\n",
       "      <td>130</td>\n",
       "      <td>510</td>\n",
       "      <td>0</td>\n",
       "      <td>154.2</td>\n",
       "      <td>119</td>\n",
       "      <td>26.21</td>\n",
       "      <td>110.2</td>\n",
       "      <td>98</td>\n",
       "      <td>9.37</td>\n",
       "      <td>227.4</td>\n",
       "      <td>117</td>\n",
       "      <td>10.23</td>\n",
       "      <td>9.2</td>\n",
       "      <td>5</td>\n",
       "      <td>2.48</td>\n",
       "      <td>2</td>\n",
       "    </tr>\n",
       "  </tbody>\n",
       "</table>\n",
       "</div>"
      ],
      "text/plain": [
       "      State_FIPS  Account length  Area code  Number vmail messages  \\\n",
       "1193          27             173        510                      0   \n",
       "2512          56              57        408                     39   \n",
       "2383          51             138        415                      0   \n",
       "1743          38              82        415                     29   \n",
       "1396          32             130        510                      0   \n",
       "\n",
       "      Total day minutes  Total day calls  Total day charge  Total eve minutes  \\\n",
       "1193              291.8              143             49.61              214.3   \n",
       "2512              213.0              115             36.21              191.1   \n",
       "2383              251.0              119             42.67               91.2   \n",
       "1743              163.8               77             27.85              134.9   \n",
       "1396              154.2              119             26.21              110.2   \n",
       "\n",
       "      Total eve calls  Total eve charge  Total night minutes  \\\n",
       "1193              134             18.22                151.2   \n",
       "2512              112             16.24                182.7   \n",
       "2383               96              7.75                142.2   \n",
       "1743              112             11.47                 79.3   \n",
       "1396               98              9.37                227.4   \n",
       "\n",
       "      Total night calls  Total night charge  Total intl minutes  \\\n",
       "1193                119                6.80                 9.9   \n",
       "2512                115                8.22                 9.5   \n",
       "2383                 87                6.40                13.8   \n",
       "1743                 95                3.57                 8.8   \n",
       "1396                117               10.23                 9.2   \n",
       "\n",
       "      Total intl calls  Total intl charge  Customer service calls  \n",
       "1193                 2               2.67                       0  \n",
       "2512                 3               2.57                       0  \n",
       "2383                 3               3.73                       3  \n",
       "1743                 2               2.38                       2  \n",
       "1396                 5               2.48                       2  "
      ]
     },
     "execution_count": 238,
     "metadata": {},
     "output_type": "execute_result"
    }
   ],
   "source": [
    "X_train.head()"
   ]
  },
  {
   "cell_type": "markdown",
   "metadata": {},
   "source": [
    "#### b. Visualize the decision tree."
   ]
  },
  {
   "cell_type": "code",
   "execution_count": 239,
   "metadata": {},
   "outputs": [
    {
     "name": "stdout",
     "output_type": "stream",
     "text": [
      "digraph Tree {\n",
      "node [shape=box, style=\"filled, rounded\", color=\"black\", fontname=\"helvetica\"] ;\n",
      "edge [fontname=\"helvetica\"] ;\n",
      "0 [label=\"Total day charge <= 44.975, samples = 2062, value = [1757, 305], class = stay\", fillcolor=\"#ea975b\"] ;\n",
      "1 [label=\"Customer service calls <= 3.5, samples = 1941, value = [1710, 231], class = stay\", fillcolor=\"#e99254\"] ;\n",
      "0 -> 1 [labeldistance=2.5, labelangle=45, headlabel=\"True\"] ;\n",
      "2 [label=\"samples = 1790, value = [1637, 153], class = stay\", fillcolor=\"#e78d4c\"] ;\n",
      "1 -> 2 ;\n",
      "3 [label=\"samples = 151, value = [73, 78], class = leave\", fillcolor=\"#f2f9fd\"] ;\n",
      "1 -> 3 ;\n",
      "4 [label=\"Number vmail messages <= 6.5, samples = 121, value = [47, 74], class = leave\", fillcolor=\"#b7dbf6\"] ;\n",
      "0 -> 4 [labeldistance=2.5, labelangle=-45, headlabel=\"False\"] ;\n",
      "5 [label=\"samples = 91, value = [20, 71], class = leave\", fillcolor=\"#71b9ec\"] ;\n",
      "4 -> 5 ;\n",
      "6 [label=\"samples = 30, value = [27, 3], class = stay\", fillcolor=\"#e88f4f\"] ;\n",
      "4 -> 6 ;\n",
      "}\n"
     ]
    },
    {
     "data": {
      "image/png": "[encoded data removed]",
      "text/plain": [
       "<IPython.core.display.Image object>"
      ]
     },
     "execution_count": 239,
     "metadata": {},
     "output_type": "execute_result"
    }
   ],
   "source": [
    "# Visualize the decision tree\n",
    "# your code here\n",
    "from sklearn import tree\n",
    "# display the output using www.webgraphviz.com, or if you have GraphViz installed on\n",
    "# your computer, you can use that\n",
    "print(tree.export_graphviz(dt,out_file=None,\n",
    "                         feature_names=X_train.columns.values,  \n",
    "                         class_names=['stay','leave'],  \n",
    "                         filled=True, rounded=True,  \n",
    "                         special_characters=True,impurity=False).replace(\"<br/>\",\", \").replace(\"&le;\",\"<=\").replace(\"=<\",\"=\\\"\").replace(\">,\",\"\\\",\"))\n",
    "\n",
    "from sklearn import tree\n",
    "from IPython.display import Image  \n",
    "import pydotplus\n",
    "thestring = tree.export_graphviz(dt, out_file=None,  \n",
    "                         feature_names=X_train.columns.values, \n",
    "                         class_names=['stay','leave'],  \n",
    "                         filled=True, rounded=True,  \n",
    "                         special_characters=True,impurity=False)\n",
    "graph = pydotplus.graph_from_dot_data(thestring)  \n",
    "Image(graph.create_png())  "
   ]
  },
  {
   "cell_type": "markdown",
   "metadata": {},
   "source": [
    "#### c. List the top 5 most important features in order."
   ]
  },
  {
   "cell_type": "code",
   "execution_count": 240,
   "metadata": {},
   "outputs": [
    {
     "data": {
      "text/html": [
       "<div>\n",
       "<style scoped>\n",
       "    .dataframe tbody tr th:only-of-type {\n",
       "        vertical-align: middle;\n",
       "    }\n",
       "\n",
       "    .dataframe tbody tr th {\n",
       "        vertical-align: top;\n",
       "    }\n",
       "\n",
       "    .dataframe thead th {\n",
       "        text-align: right;\n",
       "    }\n",
       "</style>\n",
       "<table border=\"1\" class=\"dataframe\">\n",
       "  <thead>\n",
       "    <tr style=\"text-align: right;\">\n",
       "      <th></th>\n",
       "      <th>variables</th>\n",
       "      <th>importance</th>\n",
       "    </tr>\n",
       "  </thead>\n",
       "  <tbody>\n",
       "    <tr>\n",
       "      <th>6</th>\n",
       "      <td>Total day charge</td>\n",
       "      <td>0.43211</td>\n",
       "    </tr>\n",
       "    <tr>\n",
       "      <th>16</th>\n",
       "      <td>Customer service calls</td>\n",
       "      <td>0.404648</td>\n",
       "    </tr>\n",
       "    <tr>\n",
       "      <th>3</th>\n",
       "      <td>Number vmail messages</td>\n",
       "      <td>0.163242</td>\n",
       "    </tr>\n",
       "    <tr>\n",
       "      <th>10</th>\n",
       "      <td>Total night minutes</td>\n",
       "      <td>0.0</td>\n",
       "    </tr>\n",
       "    <tr>\n",
       "      <th>15</th>\n",
       "      <td>Total intl charge</td>\n",
       "      <td>0.0</td>\n",
       "    </tr>\n",
       "  </tbody>\n",
       "</table>\n",
       "</div>"
      ],
      "text/plain": [
       "                 variables importance\n",
       "6         Total day charge    0.43211\n",
       "16  Customer service calls   0.404648\n",
       "3    Number vmail messages   0.163242\n",
       "10     Total night minutes        0.0\n",
       "15       Total intl charge        0.0"
      ]
     },
     "execution_count": 240,
     "metadata": {},
     "output_type": "execute_result"
    }
   ],
   "source": [
    "# your code here\n",
    "Feature_importance=pd.DataFrame([list(X_train.columns),list(dt.feature_importances_)]).T\n",
    "Feature_importance.columns=[\"variables\",\"importance\"]\n",
    "\n",
    "# list the top 5 most important features in order\n",
    "Feature_importance.sort_values(by=\"importance\",ascending=False).iloc[:5,:]"
   ]
  },
  {
   "cell_type": "markdown",
   "metadata": {},
   "source": [
    "### Task 2: Ensemble Method Implementation (30%)"
   ]
  },
  {
   "cell_type": "markdown",
   "metadata": {},
   "source": [
    "The goal of this task is to implement a **bagging and a boosting model** . Evaluate their performance on your dataset, providing insights into the differences in their error metrics, and discuss why one might outperform the other in this context."
   ]
  },
  {
   "cell_type": "code",
   "execution_count": 241,
   "metadata": {},
   "outputs": [],
   "source": [
    "# Suggested steps:\n",
    "# 1) Split the data into training and testing sets, ensuring to respect the time series nature if applicable.\n",
    "# 2) Implement a Bagging Regressor and a Gradient Boosting Regressor.\n",
    "# 3) Evaluate both models using appropriate metrics for your problem.\n",
    "# 4) Provide a comparative analysis of their performances."
   ]
  },
  {
   "cell_type": "markdown",
   "metadata": {},
   "source": [
    "The **AAPL, V, and GOOG datasets** consists of stock quotes companies, where the \"Adj Close\" price serves as the target variable, reflecting the adjusted closing price of Apple's stock over a specific period."
   ]
  },
  {
   "cell_type": "code",
   "execution_count": 242,
   "metadata": {},
   "outputs": [],
   "source": [
    "from sklearn.model_selection import train_test_split\n",
    "from sklearn.model_selection import TimeSeriesSplit\n",
    "from sklearn.ensemble import BaggingRegressor, GradientBoostingRegressor\n",
    "from sklearn.metrics import mean_squared_error, mean_absolute_error, r2_score"
   ]
  },
  {
   "cell_type": "markdown",
   "metadata": {},
   "source": [
    "Below are several first steps of data processing. Make sure that you understand and follow those steps."
   ]
  },
  {
   "cell_type": "code",
   "execution_count": 243,
   "metadata": {},
   "outputs": [
    {
     "data": {
      "text/html": [
       "<div>\n",
       "<style scoped>\n",
       "    .dataframe tbody tr th:only-of-type {\n",
       "        vertical-align: middle;\n",
       "    }\n",
       "\n",
       "    .dataframe tbody tr th {\n",
       "        vertical-align: top;\n",
       "    }\n",
       "\n",
       "    .dataframe thead th {\n",
       "        text-align: right;\n",
       "    }\n",
       "</style>\n",
       "<table border=\"1\" class=\"dataframe\">\n",
       "  <thead>\n",
       "    <tr style=\"text-align: right;\">\n",
       "      <th></th>\n",
       "      <th>Adj Close_AAPL</th>\n",
       "      <th>Close_AAPL</th>\n",
       "      <th>Div_AAPL</th>\n",
       "      <th>Factor_AAPL</th>\n",
       "      <th>High_AAPL</th>\n",
       "      <th>Low_AAPL</th>\n",
       "      <th>Open_AAPL</th>\n",
       "      <th>Volume_AAPL</th>\n",
       "      <th>Adj Close_V</th>\n",
       "      <th>Close_V</th>\n",
       "      <th>...</th>\n",
       "      <th>Open_V</th>\n",
       "      <th>Volume_V</th>\n",
       "      <th>Adj Close</th>\n",
       "      <th>Close</th>\n",
       "      <th>Div</th>\n",
       "      <th>Factor</th>\n",
       "      <th>High</th>\n",
       "      <th>Low</th>\n",
       "      <th>Open</th>\n",
       "      <th>Volume</th>\n",
       "    </tr>\n",
       "    <tr>\n",
       "      <th>Dt</th>\n",
       "      <th></th>\n",
       "      <th></th>\n",
       "      <th></th>\n",
       "      <th></th>\n",
       "      <th></th>\n",
       "      <th></th>\n",
       "      <th></th>\n",
       "      <th></th>\n",
       "      <th></th>\n",
       "      <th></th>\n",
       "      <th></th>\n",
       "      <th></th>\n",
       "      <th></th>\n",
       "      <th></th>\n",
       "      <th></th>\n",
       "      <th></th>\n",
       "      <th></th>\n",
       "      <th></th>\n",
       "      <th></th>\n",
       "      <th></th>\n",
       "      <th></th>\n",
       "    </tr>\n",
       "  </thead>\n",
       "  <tbody>\n",
       "    <tr>\n",
       "      <th>2017-01-03</th>\n",
       "      <td>110.9539</td>\n",
       "      <td>116.15</td>\n",
       "      <td>0.0</td>\n",
       "      <td>1.0</td>\n",
       "      <td>116.330</td>\n",
       "      <td>114.76</td>\n",
       "      <td>115.8000</td>\n",
       "      <td>28781900.0</td>\n",
       "      <td>78.0492</td>\n",
       "      <td>79.50</td>\n",
       "      <td>...</td>\n",
       "      <td>78.76</td>\n",
       "      <td>13785200.0</td>\n",
       "      <td>786.14</td>\n",
       "      <td>786.14</td>\n",
       "      <td>0.0</td>\n",
       "      <td>1.0</td>\n",
       "      <td>789.630</td>\n",
       "      <td>775.800</td>\n",
       "      <td>778.81</td>\n",
       "      <td>1657300.0</td>\n",
       "    </tr>\n",
       "    <tr>\n",
       "      <th>2017-01-04</th>\n",
       "      <td>110.8297</td>\n",
       "      <td>116.02</td>\n",
       "      <td>0.0</td>\n",
       "      <td>1.0</td>\n",
       "      <td>116.510</td>\n",
       "      <td>115.75</td>\n",
       "      <td>115.8500</td>\n",
       "      <td>21118100.0</td>\n",
       "      <td>78.6874</td>\n",
       "      <td>80.15</td>\n",
       "      <td>...</td>\n",
       "      <td>79.44</td>\n",
       "      <td>8033100.0</td>\n",
       "      <td>786.90</td>\n",
       "      <td>786.90</td>\n",
       "      <td>0.0</td>\n",
       "      <td>1.0</td>\n",
       "      <td>791.340</td>\n",
       "      <td>783.160</td>\n",
       "      <td>788.36</td>\n",
       "      <td>1073000.0</td>\n",
       "    </tr>\n",
       "    <tr>\n",
       "      <th>2017-01-05</th>\n",
       "      <td>111.3933</td>\n",
       "      <td>116.61</td>\n",
       "      <td>0.0</td>\n",
       "      <td>1.0</td>\n",
       "      <td>116.864</td>\n",
       "      <td>115.81</td>\n",
       "      <td>115.9200</td>\n",
       "      <td>22193600.0</td>\n",
       "      <td>79.6102</td>\n",
       "      <td>81.09</td>\n",
       "      <td>...</td>\n",
       "      <td>80.34</td>\n",
       "      <td>7805100.0</td>\n",
       "      <td>794.02</td>\n",
       "      <td>794.02</td>\n",
       "      <td>0.0</td>\n",
       "      <td>1.0</td>\n",
       "      <td>794.480</td>\n",
       "      <td>785.020</td>\n",
       "      <td>786.08</td>\n",
       "      <td>1335200.0</td>\n",
       "    </tr>\n",
       "    <tr>\n",
       "      <th>2017-01-06</th>\n",
       "      <td>112.6351</td>\n",
       "      <td>117.91</td>\n",
       "      <td>0.0</td>\n",
       "      <td>1.0</td>\n",
       "      <td>118.160</td>\n",
       "      <td>116.47</td>\n",
       "      <td>116.7789</td>\n",
       "      <td>31751900.0</td>\n",
       "      <td>80.7098</td>\n",
       "      <td>82.21</td>\n",
       "      <td>...</td>\n",
       "      <td>81.30</td>\n",
       "      <td>8898300.0</td>\n",
       "      <td>806.15</td>\n",
       "      <td>806.15</td>\n",
       "      <td>0.0</td>\n",
       "      <td>1.0</td>\n",
       "      <td>807.900</td>\n",
       "      <td>792.204</td>\n",
       "      <td>795.26</td>\n",
       "      <td>1640200.0</td>\n",
       "    </tr>\n",
       "    <tr>\n",
       "      <th>2017-01-09</th>\n",
       "      <td>113.6668</td>\n",
       "      <td>118.99</td>\n",
       "      <td>0.0</td>\n",
       "      <td>1.0</td>\n",
       "      <td>119.430</td>\n",
       "      <td>117.94</td>\n",
       "      <td>117.9500</td>\n",
       "      <td>33561900.0</td>\n",
       "      <td>80.2582</td>\n",
       "      <td>81.75</td>\n",
       "      <td>...</td>\n",
       "      <td>82.28</td>\n",
       "      <td>7305300.0</td>\n",
       "      <td>806.65</td>\n",
       "      <td>806.65</td>\n",
       "      <td>0.0</td>\n",
       "      <td>1.0</td>\n",
       "      <td>809.966</td>\n",
       "      <td>802.830</td>\n",
       "      <td>806.40</td>\n",
       "      <td>1274600.0</td>\n",
       "    </tr>\n",
       "  </tbody>\n",
       "</table>\n",
       "<p>5 rows × 24 columns</p>\n",
       "</div>"
      ],
      "text/plain": [
       "            Adj Close_AAPL  Close_AAPL  Div_AAPL  Factor_AAPL  High_AAPL  \\\n",
       "Dt                                                                         \n",
       "2017-01-03        110.9539      116.15       0.0          1.0    116.330   \n",
       "2017-01-04        110.8297      116.02       0.0          1.0    116.510   \n",
       "2017-01-05        111.3933      116.61       0.0          1.0    116.864   \n",
       "2017-01-06        112.6351      117.91       0.0          1.0    118.160   \n",
       "2017-01-09        113.6668      118.99       0.0          1.0    119.430   \n",
       "\n",
       "            Low_AAPL  Open_AAPL  Volume_AAPL  Adj Close_V  Close_V  ...  \\\n",
       "Dt                                                                  ...   \n",
       "2017-01-03    114.76   115.8000   28781900.0      78.0492    79.50  ...   \n",
       "2017-01-04    115.75   115.8500   21118100.0      78.6874    80.15  ...   \n",
       "2017-01-05    115.81   115.9200   22193600.0      79.6102    81.09  ...   \n",
       "2017-01-06    116.47   116.7789   31751900.0      80.7098    82.21  ...   \n",
       "2017-01-09    117.94   117.9500   33561900.0      80.2582    81.75  ...   \n",
       "\n",
       "            Open_V    Volume_V  Adj Close   Close  Div  Factor     High  \\\n",
       "Dt                                                                        \n",
       "2017-01-03   78.76  13785200.0     786.14  786.14  0.0     1.0  789.630   \n",
       "2017-01-04   79.44   8033100.0     786.90  786.90  0.0     1.0  791.340   \n",
       "2017-01-05   80.34   7805100.0     794.02  794.02  0.0     1.0  794.480   \n",
       "2017-01-06   81.30   8898300.0     806.15  806.15  0.0     1.0  807.900   \n",
       "2017-01-09   82.28   7305300.0     806.65  806.65  0.0     1.0  809.966   \n",
       "\n",
       "                Low    Open     Volume  \n",
       "Dt                                      \n",
       "2017-01-03  775.800  778.81  1657300.0  \n",
       "2017-01-04  783.160  788.36  1073000.0  \n",
       "2017-01-05  785.020  786.08  1335200.0  \n",
       "2017-01-06  792.204  795.26  1640200.0  \n",
       "2017-01-09  802.830  806.40  1274600.0  \n",
       "\n",
       "[5 rows x 24 columns]"
      ]
     },
     "execution_count": 243,
     "metadata": {},
     "output_type": "execute_result"
    }
   ],
   "source": [
    "import pandas as pd\n",
    "import os\n",
    "\n",
    "# Define the path to the folder and the file names - change if needed\n",
    "folder_path = 'Data'\n",
    "file_names = ['AAPL.csv', 'V.csv', 'GOOG.csv']\n",
    "\n",
    "# Function to load a CSV, transform the 'Dt' column, and set it as the index\n",
    "def load_and_transform(file_path):\n",
    "    df = pd.read_csv(file_path)\n",
    "    df['Dt'] = pd.to_datetime(df['Dt'])\n",
    "    df.set_index('Dt', inplace=True)\n",
    "    return df\n",
    "\n",
    "# Load all dataframes with the date transformations\n",
    "dataframes = {name.split('.')[0]: load_and_transform(os.path.join(folder_path, name)) for name in file_names}\n",
    "\n",
    "# Perform a series of left joins to combine the dataframes on their index\n",
    "df = dataframes['AAPL']\n",
    "for df_name in ['V', 'GOOG']:\n",
    "    df = df.join(dataframes[df_name], how='left', lsuffix='_AAPL', rsuffix=f'_{df_name}')\n",
    "\n",
    "df.head()"
   ]
  },
  {
   "cell_type": "code",
   "execution_count": 244,
   "metadata": {},
   "outputs": [],
   "source": [
    "# Assuming 'df' is your DataFrame and 'Adj Close_AAPL' is the target variable\n",
    "X = df.drop('Adj Close_AAPL', axis=1)\n",
    "y = df['Adj Close_AAPL']\n",
    "\n",
    "# fill NA\n",
    "X = X.fillna(0)\n",
    "\n",
    "# Data Splitting, considering its temporal nature\n",
    "tscv = TimeSeriesSplit(n_splits=5)\n",
    "for train_index, test_index in tscv.split(X):\n",
    "    X_train, X_test = X.iloc[train_index], X.iloc[test_index]\n",
    "    y_train, y_test = y.iloc[train_index], y.iloc[test_index]"
   ]
  },
  {
   "cell_type": "markdown",
   "metadata": {},
   "source": [
    "#### a. Train and test Bagging Model."
   ]
  },
  {
   "cell_type": "code",
   "execution_count": 245,
   "metadata": {},
   "outputs": [],
   "source": [
    "# your code here"
   ]
  },
  {
   "cell_type": "markdown",
   "metadata": {},
   "source": [
    "#### b. Train and test Boosting Model."
   ]
  },
  {
   "cell_type": "code",
   "execution_count": 246,
   "metadata": {},
   "outputs": [],
   "source": [
    "# your code here"
   ]
  },
  {
   "cell_type": "markdown",
   "metadata": {},
   "source": [
    "#### c. Evaluate the model and report (use Mean squared error; Mean absolute error; and R2).  "
   ]
  },
  {
   "cell_type": "code",
   "execution_count": 247,
   "metadata": {},
   "outputs": [],
   "source": [
    "# Model Evaluation using more metrics\n",
    "\n",
    "# your code here:\n",
    "mse_bagging = ...\n",
    "mae_bagging = ...\n",
    "r2_bagging = ...\n",
    "\n",
    "mse_boosting = ...\n",
    "mae_boosting = ...\n",
    "r2_boosting = ...\n",
    "\n",
    "\n",
    "# Printing out the performance metrics with explanations\n",
    "\n",
    "# your code here"
   ]
  },
  {
   "cell_type": "markdown",
   "metadata": {},
   "source": [
    "#### d. Hyperparameter Tuning and Model Optimization.  "
   ]
  },
  {
   "cell_type": "code",
   "execution_count": 248,
   "metadata": {},
   "outputs": [],
   "source": [
    "# Possible steps:\n",
    "# 1) Choose an ensemble model for hyperparameter tuning (one with the best performance in a previous step).\n",
    "# 2) Define a parameter grid to explore.\n",
    "# 3) Use GridSearchCV to find the optimal parameters.\n",
    "# 4) Retrain the model using the best parameters and evaluate its performance."
   ]
  },
  {
   "cell_type": "code",
   "execution_count": 249,
   "metadata": {},
   "outputs": [],
   "source": [
    "from sklearn.model_selection import GridSearchCV\n",
    "from sklearn.ensemble import GradientBoostingRegressor"
   ]
  },
  {
   "cell_type": "code",
   "execution_count": 250,
   "metadata": {},
   "outputs": [],
   "source": [
    "# 1. Choose the model you wish to tune\n",
    "\n",
    "# your code here\n",
    "\n",
    "\n",
    "# 2. Define a comprehensive grid of parameters to search\n",
    "\n",
    "# your code here\n",
    "\n",
    "\n",
    "# 3. Perform grid search and identify the best parameters\n",
    "\n",
    "# your code here\n",
    "\n",
    "\n",
    "# 4. Get the best parameters from the grid search\n",
    "\n",
    "# your code here\n",
    "\n",
    "\n",
    "# 5. Retrain the model with the best parameters and evaluate its performance\n",
    "\n",
    "# your code here\n",
    "\n",
    "\n",
    "# 6. Output the performance metrics\n",
    "\n",
    "# your code here"
   ]
  },
  {
   "cell_type": "markdown",
   "metadata": {},
   "source": [
    "#### e. Conceptual Questions\n",
    "- Describe the trade-offs between bias and variance when using ensemble methods.\n",
    "- How does increasing the diversity of models in an ensemble affect its performance?\n",
    "- Discuss the implications of temporal dependencies in time series data on the choice and performance of ensemble methods."
   ]
  },
  {
   "cell_type": "code",
   "execution_count": 251,
   "metadata": {},
   "outputs": [],
   "source": [
    "# your answer to questions here"
   ]
  },
  {
   "cell_type": "markdown",
   "metadata": {},
   "source": [
    "## Part B - Support Vector Machines (40%)"
   ]
  },
  {
   "cell_type": "code",
   "execution_count": 252,
   "metadata": {},
   "outputs": [],
   "source": [
    "from sklearn.datasets import load_iris\n",
    "from sklearn.model_selection import train_test_split\n",
    "from sklearn.svm import SVC\n",
    "from sklearn.metrics import classification_report, accuracy_score\n",
    "import matplotlib.pyplot as plt\n",
    "import seaborn as sns\n",
    "from sklearn import datasets\n",
    "from sklearn.preprocessing import StandardScaler\n",
    "import numpy as np\n",
    "import pandas as pd"
   ]
  },
  {
   "cell_type": "markdown",
   "metadata": {},
   "source": [
    "### Task 1: SVM Decision Boundaries and C Parameter Investigation (20%)"
   ]
  },
  {
   "cell_type": "markdown",
   "metadata": {},
   "source": [
    "**The Iris dataset** is a classic in the field of machine learning and statistics, introduced by the British statistician and biologist Ronald Fisher in 1936. The dataset consists of 150 samples from three species of Iris flowers: Iris setosa, Iris versicolor, and Iris virginica. Each sample is described by four features: the length and the width of the sepals and petals, in centimeters. See [wikipedia](https://en.wikipedia.org/wiki/Iris_flower_data_set)."
   ]
  },
  {
   "cell_type": "code",
   "execution_count": 253,
   "metadata": {},
   "outputs": [
    {
     "data": {
      "image/png": "[encoded data removed]",
      "text/plain": [
       "<Figure size 640x480 with 1 Axes>"
      ]
     },
     "metadata": {},
     "output_type": "display_data"
    }
   ],
   "source": [
    "# Load the Iris dataset\n",
    "iris = datasets.load_iris()\n",
    "X = iris.data[:, :2]  # we only take the first two features for visualization\n",
    "y = iris.target\n",
    "\n",
    "# In the first task, we will consider only 2 classes for binary classification\n",
    "X = X[y != 2]\n",
    "y = y[y != 2]\n",
    "\n",
    "# Visualize the data\n",
    "plt.scatter(X[:, 0], X[:, 1], c=y, cmap=plt.cm.Paired)\n",
    "plt.xlabel('Sepal length')\n",
    "plt.ylabel('Sepal width')\n",
    "plt.title('Iris dataset (two classes)')\n",
    "plt.show()"
   ]
  },
  {
   "cell_type": "markdown",
   "metadata": {},
   "source": [
    "#### a. Consider the dataset above. Based on the visual inspection of the plot provided, how would you train an SVM model for this dataset? Explain your choice of kernel and parameters."
   ]
  },
  {
   "cell_type": "code",
   "execution_count": 254,
   "metadata": {},
   "outputs": [],
   "source": [
    "# your answer here"
   ]
  },
  {
   "cell_type": "markdown",
   "metadata": {},
   "source": [
    "**Assuming you chose to train a linear SVM with C=100000; answer the following five questions:**"
   ]
  },
  {
   "cell_type": "markdown",
   "metadata": {},
   "source": [
    "#### b. Report the separating hyperplane."
   ]
  },
  {
   "cell_type": "code",
   "execution_count": 255,
   "metadata": {},
   "outputs": [],
   "source": [
    "# your answer here"
   ]
  },
  {
   "cell_type": "markdown",
   "metadata": {},
   "source": [
    "#### c. List the support vectors."
   ]
  },
  {
   "cell_type": "code",
   "execution_count": 256,
   "metadata": {},
   "outputs": [],
   "source": [
    "# your answer here"
   ]
  },
  {
   "cell_type": "markdown",
   "metadata": {},
   "source": [
    "#### d. Calculate the upper and lower hyperplanes (lines) of the margin"
   ]
  },
  {
   "cell_type": "code",
   "execution_count": 257,
   "metadata": {},
   "outputs": [],
   "source": [
    "# your answer here"
   ]
  },
  {
   "cell_type": "markdown",
   "metadata": {},
   "source": [
    "#### e. Compute the width of the margin"
   ]
  },
  {
   "cell_type": "code",
   "execution_count": 258,
   "metadata": {},
   "outputs": [],
   "source": [
    "# your answer here"
   ]
  },
  {
   "cell_type": "markdown",
   "metadata": {},
   "source": [
    "#### f. Using the provided SVM model with a high value of C (e.g., C=100000), plot the decision boundaries and margins. Then, adjust the SVM model by setting a very small value for the constant C (e.g., C=0.01). How do you expect this change to affect the margin width? Plot the new decision boundaries and margins and compare them to the previous plot to validate your expectations. Interpret the results"
   ]
  },
  {
   "cell_type": "code",
   "execution_count": 259,
   "metadata": {},
   "outputs": [],
   "source": [
    "# Suggested steps:\n",
    "# 1) Train a linear SVM with a large C value (optional if you already did)\n",
    "# 2) Plot the decision boundaries and margins\n",
    "# 3) Now train another linear SVM with a small C value\n",
    "# 4) Plot the new decision boundaries and margins"
   ]
  },
  {
   "cell_type": "code",
   "execution_count": 260,
   "metadata": {},
   "outputs": [],
   "source": [
    "# Train a linear SVM with a large C value (optional since we already did)\n",
    "\n",
    "# your code here"
   ]
  },
  {
   "cell_type": "code",
   "execution_count": 261,
   "metadata": {},
   "outputs": [],
   "source": [
    "# your plot here"
   ]
  },
  {
   "cell_type": "code",
   "execution_count": 262,
   "metadata": {},
   "outputs": [],
   "source": [
    "# Now train another linear SVM with a small C value\n",
    "\n",
    "# your code here"
   ]
  },
  {
   "cell_type": "code",
   "execution_count": 263,
   "metadata": {},
   "outputs": [],
   "source": [
    "# your plot here"
   ]
  },
  {
   "cell_type": "markdown",
   "metadata": {},
   "source": [
    "### Task 2: Training using SVM (20%)"
   ]
  },
  {
   "cell_type": "code",
   "execution_count": 264,
   "metadata": {},
   "outputs": [
    {
     "data": {
      "image/png": "[encoded data removed]",
      "text/plain": [
       "<Figure size 640x480 with 1 Axes>"
      ]
     },
     "metadata": {},
     "output_type": "display_data"
    }
   ],
   "source": [
    "# Load Iris dataset\n",
    "iris = load_iris(as_frame=True)\n",
    "df = iris.frame\n",
    "X = df[['sepal length (cm)','petal width (cm)']].values  # Select the first two features for visualization purposes\n",
    "y = df.target\n",
    "\n",
    "# Visualize the data\n",
    "plt.scatter(X[:, 0], X[:, 1], c=y, cmap=plt.cm.Paired)\n",
    "plt.xlabel('Sepal length')\n",
    "plt.ylabel('Sepal width')\n",
    "plt.title('Iris dataset (all classes)')\n",
    "plt.show()"
   ]
  },
  {
   "cell_type": "markdown",
   "metadata": {},
   "source": [
    "#### a. Train a linear SVM and a non-linear SVM with RBF kernel using the training set. Use the default arguments, make predictions and calculate accuracy on test set."
   ]
  },
  {
   "cell_type": "code",
   "execution_count": 265,
   "metadata": {},
   "outputs": [],
   "source": [
    "# Split the dataset into training and test sets\n",
    "X_train, X_test, y_train, y_test = train_test_split(X, y, test_size=0.33, random_state=1)"
   ]
  },
  {
   "cell_type": "code",
   "execution_count": 266,
   "metadata": {},
   "outputs": [],
   "source": [
    "# Standardize the data\n",
    "\n",
    "#your code here"
   ]
  },
  {
   "cell_type": "code",
   "execution_count": 267,
   "metadata": {},
   "outputs": [
    {
     "ename": "AttributeError",
     "evalue": "'ellipsis' object has no attribute 'fit'",
     "output_type": "error",
     "traceback": [
      "\u001b[0;31m---------------------------------------------------------------------------\u001b[0m",
      "\u001b[0;31mAttributeError\u001b[0m                            Traceback (most recent call last)",
      "Cell \u001b[0;32mIn[267], line 4\u001b[0m\n\u001b[1;32m      1\u001b[0m \u001b[38;5;66;03m# Train a linear SVM\u001b[39;00m\n\u001b[1;32m      3\u001b[0m linear_svc \u001b[38;5;241m=\u001b[39m \u001b[38;5;241m.\u001b[39m\u001b[38;5;241m.\u001b[39m\u001b[38;5;241m.\u001b[39m\n\u001b[0;32m----> 4\u001b[0m linear_svc\u001b[38;5;241m.\u001b[39mfit(\u001b[38;5;241m.\u001b[39m\u001b[38;5;241m.\u001b[39m\u001b[38;5;241m.\u001b[39m)\n",
      "\u001b[0;31mAttributeError\u001b[0m: 'ellipsis' object has no attribute 'fit'"
     ]
    }
   ],
   "source": [
    "# Train a linear SVM\n",
    "\n",
    "linear_svc = ...\n",
    "linear_svc.fit(...)"
   ]
  },
  {
   "cell_type": "code",
   "execution_count": null,
   "metadata": {},
   "outputs": [],
   "source": [
    "# Train a non-linear SVM with RBF kernel\n",
    "\n",
    "rbf_svc = ...\n",
    "rbf_svc.fit(...)"
   ]
  },
  {
   "cell_type": "code",
   "execution_count": null,
   "metadata": {},
   "outputs": [],
   "source": [
    "# Make predictions and calculate accuracy on test out-of-sample set\n",
    "\n",
    "#your code here"
   ]
  },
  {
   "cell_type": "code",
   "execution_count": null,
   "metadata": {},
   "outputs": [],
   "source": [
    "# Plot decision boundaries (example code below)\n",
    "\n",
    "def plot_decision_boundary(clf, X, y, title):\n",
    "    h = .02  # step size in the mesh\n",
    "    x_min, x_max = X[:, 0].min() - 1, X[:, 0].max() + 1\n",
    "    y_min, y_max = X[:, 1].min() - 1, X[:, 1].max() + 1\n",
    "    xx, yy = np.meshgrid(np.arange(x_min, x_max, h), np.arange(y_min, y_max, h))\n",
    "    Z = clf.predict(np.c_[xx.ravel(), yy.ravel()])\n",
    "    Z = Z.reshape(xx.shape)\n",
    "    plt.contourf(xx, yy, Z, alpha=0.8)\n",
    "    plt.scatter(X[:, 0], X[:, 1], c=y, edgecolors='k')\n",
    "    plt.title(title)"
   ]
  },
  {
   "cell_type": "code",
   "execution_count": null,
   "metadata": {},
   "outputs": [
    {
     "ename": "AttributeError",
     "evalue": "'ellipsis' object has no attribute 'predict'",
     "output_type": "error",
     "traceback": [
      "\u001b[0;31m---------------------------------------------------------------------------\u001b[0m",
      "\u001b[0;31mAttributeError\u001b[0m                            Traceback (most recent call last)",
      "Cell \u001b[0;32mIn[37], line 4\u001b[0m\n\u001b[1;32m      2\u001b[0m plt\u001b[38;5;241m.\u001b[39mfigure(figsize\u001b[38;5;241m=\u001b[39m(\u001b[38;5;241m12\u001b[39m, \u001b[38;5;241m6\u001b[39m))\n\u001b[1;32m      3\u001b[0m plt\u001b[38;5;241m.\u001b[39msubplot(\u001b[38;5;241m1\u001b[39m, \u001b[38;5;241m2\u001b[39m, \u001b[38;5;241m1\u001b[39m)\n\u001b[0;32m----> 4\u001b[0m plot_decision_boundary(linear_svc, X_train, y_train, \u001b[38;5;124m\"\u001b[39m\u001b[38;5;124mLinear SVM\u001b[39m\u001b[38;5;124m\"\u001b[39m)\n\u001b[1;32m      5\u001b[0m plt\u001b[38;5;241m.\u001b[39msubplot(\u001b[38;5;241m1\u001b[39m, \u001b[38;5;241m2\u001b[39m, \u001b[38;5;241m2\u001b[39m)\n\u001b[1;32m      6\u001b[0m plot_decision_boundary(rbf_svc, X_train, y_train, \u001b[38;5;124m\"\u001b[39m\u001b[38;5;124mNon-linear SVM (RBF kernel)\u001b[39m\u001b[38;5;124m\"\u001b[39m)\n",
      "Cell \u001b[0;32mIn[36], line 8\u001b[0m, in \u001b[0;36mplot_decision_boundary\u001b[0;34m(clf, X, y, title)\u001b[0m\n\u001b[1;32m      6\u001b[0m y_min, y_max \u001b[38;5;241m=\u001b[39m X[:, \u001b[38;5;241m1\u001b[39m]\u001b[38;5;241m.\u001b[39mmin() \u001b[38;5;241m-\u001b[39m \u001b[38;5;241m1\u001b[39m, X[:, \u001b[38;5;241m1\u001b[39m]\u001b[38;5;241m.\u001b[39mmax() \u001b[38;5;241m+\u001b[39m \u001b[38;5;241m1\u001b[39m\n\u001b[1;32m      7\u001b[0m xx, yy \u001b[38;5;241m=\u001b[39m np\u001b[38;5;241m.\u001b[39mmeshgrid(np\u001b[38;5;241m.\u001b[39marange(x_min, x_max, h), np\u001b[38;5;241m.\u001b[39marange(y_min, y_max, h))\n\u001b[0;32m----> 8\u001b[0m Z \u001b[38;5;241m=\u001b[39m clf\u001b[38;5;241m.\u001b[39mpredict(np\u001b[38;5;241m.\u001b[39mc_[xx\u001b[38;5;241m.\u001b[39mravel(), yy\u001b[38;5;241m.\u001b[39mravel()])\n\u001b[1;32m      9\u001b[0m Z \u001b[38;5;241m=\u001b[39m Z\u001b[38;5;241m.\u001b[39mreshape(xx\u001b[38;5;241m.\u001b[39mshape)\n\u001b[1;32m     10\u001b[0m plt\u001b[38;5;241m.\u001b[39mcontourf(xx, yy, Z, alpha\u001b[38;5;241m=\u001b[39m\u001b[38;5;241m0.8\u001b[39m)\n",
      "\u001b[0;31mAttributeError\u001b[0m: 'ellipsis' object has no attribute 'predict'"
     ]
    },
    {
     "data": {
      "image/png": "[encoded data removed]",
      "text/plain": [
       "<Figure size 1200x600 with 1 Axes>"
      ]
     },
     "metadata": {},
     "output_type": "display_data"
    }
   ],
   "source": [
    "# Plot decision boundaries (example code below)\n",
    "plt.figure(figsize=(12, 6))\n",
    "plt.subplot(1, 2, 1)\n",
    "plot_decision_boundary(linear_svc, X_train, y_train, \"Linear SVM\")\n",
    "plt.subplot(1, 2, 2)\n",
    "plot_decision_boundary(rbf_svc, X_train, y_train, \"Non-linear SVM (RBF kernel)\")\n",
    "plt.show()"
   ]
  },
  {
   "cell_type": "markdown",
   "metadata": {},
   "source": [
    "#### b. Train a polynomial SVM using the training set. Use the default arguments, and report both in-sample (training set) and out-of-sample (test set) classification accuracy."
   ]
  },
  {
   "cell_type": "code",
   "execution_count": null,
   "metadata": {},
   "outputs": [],
   "source": [
    "from sklearn.model_selection import train_test_split"
   ]
  },
  {
   "cell_type": "code",
   "execution_count": null,
   "metadata": {},
   "outputs": [],
   "source": [
    "# Generate training (X_train, Y_train) and testing (X_test, Y_test) datasets for out of sample test\n",
    "\n",
    "X_train, X_test, Y_train, Y_test = train_test_split(X, y, test_size=0.33, random_state=1)"
   ]
  },
  {
   "cell_type": "code",
   "execution_count": null,
   "metadata": {},
   "outputs": [],
   "source": [
    "# Train your model.\n",
    "\n",
    "#your code here\n",
    "\n",
    "\n",
    "# Report IS and OS results.\n",
    "\n",
    "#your code here"
   ]
  },
  {
   "cell_type": "markdown",
   "metadata": {},
   "source": [
    "#### c. Try polynomials of degree 1,2,3,4,5. For each degree, consider a variety of regularization constants from the range C=[math.exp(i) for i in np.linspace(-10,2*degree,200)] in order to evaluate the classifier performance over the validation set defined below. Plot the graph of \"Accuracy vs log(C)\" for each degree."
   ]
  },
  {
   "cell_type": "code",
   "execution_count": null,
   "metadata": {},
   "outputs": [],
   "source": [
    "# Next we generate validation data (X_vali, Y_vali) from the training dataset.\n",
    "# Denote the remaining training data by (X_train_1, Y_train_1).\n",
    "\n",
    "X_train_1,X_vali,Y_train_1,Y_vali = train_test_split(X_train, y_train, test_size=0.33, random_state=1)"
   ]
  },
  {
   "cell_type": "code",
   "execution_count": null,
   "metadata": {},
   "outputs": [],
   "source": [
    "#your code here"
   ]
  },
  {
   "cell_type": "markdown",
   "metadata": {},
   "source": [
    "#### d.  Choose the optimal degree and the optimal regularization constant C based on these graphs. Use the optimal degree and C to compute and report the final out-of-sample accuracy of the best classification model selected."
   ]
  },
  {
   "cell_type": "code",
   "execution_count": null,
   "metadata": {},
   "outputs": [
    {
     "ename": "AttributeError",
     "evalue": "'ellipsis' object has no attribute 'fit'",
     "output_type": "error",
     "traceback": [
      "\u001b[0;31m---------------------------------------------------------------------------\u001b[0m",
      "\u001b[0;31mAttributeError\u001b[0m                            Traceback (most recent call last)",
      "Cell \u001b[0;32mIn[43], line 2\u001b[0m\n\u001b[1;32m      1\u001b[0m poly_svc \u001b[38;5;241m=\u001b[39m \u001b[38;5;241m.\u001b[39m\u001b[38;5;241m.\u001b[39m\u001b[38;5;241m.\u001b[39m\n\u001b[0;32m----> 2\u001b[0m poly_svc\u001b[38;5;241m.\u001b[39mfit(\u001b[38;5;241m.\u001b[39m\u001b[38;5;241m.\u001b[39m\u001b[38;5;241m.\u001b[39m)\n",
      "\u001b[0;31mAttributeError\u001b[0m: 'ellipsis' object has no attribute 'fit'"
     ]
    }
   ],
   "source": [
    "poly_svc = ...\n",
    "poly_svc.fit(...)"
   ]
  },
  {
   "cell_type": "code",
   "execution_count": null,
   "metadata": {},
   "outputs": [],
   "source": [
    "#Report out-of-sample result\n",
    "\n",
    "#your code here"
   ]
  },
  {
   "cell_type": "code",
   "execution_count": null,
   "metadata": {},
   "outputs": [
    {
     "ename": "AttributeError",
     "evalue": "'ellipsis' object has no attribute 'predict'",
     "output_type": "error",
     "traceback": [
      "\u001b[0;31m---------------------------------------------------------------------------\u001b[0m",
      "\u001b[0;31mAttributeError\u001b[0m                            Traceback (most recent call last)",
      "Cell \u001b[0;32mIn[45], line 7\u001b[0m\n\u001b[1;32m      4\u001b[0m y_min, y_max \u001b[38;5;241m=\u001b[39m X[:, \u001b[38;5;241m1\u001b[39m]\u001b[38;5;241m.\u001b[39mmin() \u001b[38;5;241m-\u001b[39m \u001b[38;5;241m1\u001b[39m, X[:, \u001b[38;5;241m1\u001b[39m]\u001b[38;5;241m.\u001b[39mmax() \u001b[38;5;241m+\u001b[39m \u001b[38;5;241m1\u001b[39m\n\u001b[1;32m      5\u001b[0m xx, yy \u001b[38;5;241m=\u001b[39m np\u001b[38;5;241m.\u001b[39mmeshgrid(np\u001b[38;5;241m.\u001b[39marange(x_min, x_max, \u001b[38;5;241m0.02\u001b[39m),\n\u001b[1;32m      6\u001b[0m                      np\u001b[38;5;241m.\u001b[39marange(y_min, y_max, \u001b[38;5;241m0.02\u001b[39m))\n\u001b[0;32m----> 7\u001b[0m Z \u001b[38;5;241m=\u001b[39m poly_svc\u001b[38;5;241m.\u001b[39mpredict(np\u001b[38;5;241m.\u001b[39mc_[xx\u001b[38;5;241m.\u001b[39mravel(), yy\u001b[38;5;241m.\u001b[39mravel()])\n\u001b[1;32m      8\u001b[0m Z \u001b[38;5;241m=\u001b[39m Z\u001b[38;5;241m.\u001b[39mreshape(xx\u001b[38;5;241m.\u001b[39mshape)\n\u001b[1;32m     10\u001b[0m plt\u001b[38;5;241m.\u001b[39mfigure(figsize\u001b[38;5;241m=\u001b[39m(\u001b[38;5;241m8\u001b[39m, \u001b[38;5;241m6\u001b[39m))\n",
      "\u001b[0;31mAttributeError\u001b[0m: 'ellipsis' object has no attribute 'predict'"
     ]
    }
   ],
   "source": [
    "# Plot decision boundary for polynomial SVM using the function (example code below)\n",
    "\n",
    "x_min, x_max = X[:, 0].min() - 1, X[:, 0].max() + 1\n",
    "y_min, y_max = X[:, 1].min() - 1, X[:, 1].max() + 1\n",
    "xx, yy = np.meshgrid(np.arange(x_min, x_max, 0.02),\n",
    "                     np.arange(y_min, y_max, 0.02))\n",
    "Z = poly_svc.predict(np.c_[xx.ravel(), yy.ravel()])\n",
    "Z = Z.reshape(xx.shape)\n",
    "\n",
    "plt.figure(figsize=(8, 6))\n",
    "plt.contourf(xx, yy, Z, alpha=0.5, cmap='plasma')\n",
    "plt.scatter(X[:, 0], X[:, 1], c=y, edgecolors='k', cmap='plasma')\n",
    "plt.xlabel('Sepal Length (cm)')\n",
    "plt.ylabel('Petal Width (cm)')\n",
    "plt.title('Iris Classification using Non-linear Kernel SVM')\n",
    "plt.show()"
   ]
  },
  {
   "cell_type": "markdown",
   "metadata": {},
   "source": [
    "## Part C - Hierarchical and K-Means Clustering (30%)"
   ]
  },
  {
   "cell_type": "markdown",
   "metadata": {},
   "source": [
    "For hierarchical and K-Means clustering, use the **Mall Customer Segmentation Data** from Kaggle. For leader clustering, simulate streaming data or use a large dataset divided into chunks to mimic streaming data, such as transaction data or sensor data streams."
   ]
  },
  {
   "cell_type": "code",
   "execution_count": null,
   "metadata": {},
   "outputs": [],
   "source": [
    "import pandas as pd\n",
    "df = pd.read_csv('Mall_Customers.csv')"
   ]
  },
  {
   "cell_type": "code",
   "execution_count": null,
   "metadata": {},
   "outputs": [],
   "source": [
    "# Start from selecting relevant features for clustering: \n",
    "# We will be working with two features: 'Annual Income (k$)' and 'Spending Score (1-100)'\n",
    "\n",
    "#your code here"
   ]
  },
  {
   "cell_type": "code",
   "execution_count": null,
   "metadata": {},
   "outputs": [],
   "source": [
    "from sklearn.cluster import KMeans\n",
    "import matplotlib.pyplot as plt"
   ]
  },
  {
   "cell_type": "markdown",
   "metadata": {},
   "source": [
    "### Task 1:  Implement K-Means algorithm (10%)"
   ]
  },
  {
   "cell_type": "code",
   "execution_count": null,
   "metadata": {},
   "outputs": [],
   "source": [
    "# Implement K-Means\n",
    "\n",
    "#your code here"
   ]
  },
  {
   "cell_type": "code",
   "execution_count": null,
   "metadata": {},
   "outputs": [],
   "source": [
    "# Check the best number of cluster with any method you like (simple Elbow method is good):\n",
    "\n",
    "#your code here"
   ]
  },
  {
   "cell_type": "code",
   "execution_count": null,
   "metadata": {},
   "outputs": [],
   "source": [
    "# Plotting clusters\n",
    "\n",
    "#your code here"
   ]
  },
  {
   "cell_type": "markdown",
   "metadata": {},
   "source": [
    "### Task 2:  Implement a Hierarchical Clustering algorithm (10%)"
   ]
  },
  {
   "cell_type": "code",
   "execution_count": null,
   "metadata": {},
   "outputs": [],
   "source": [
    "from sklearn.cluster import AgglomerativeClustering\n",
    "import matplotlib.pyplot as plt\n",
    "import numpy as np"
   ]
  },
  {
   "cell_type": "code",
   "execution_count": null,
   "metadata": {},
   "outputs": [],
   "source": [
    "# For Hierarchical Clustering, you can perform Agglomerative Clustering\n",
    "\n",
    "clustering = AgglomerativeClustering(...)\n",
    "#your code here"
   ]
  },
  {
   "cell_type": "code",
   "execution_count": null,
   "metadata": {},
   "outputs": [],
   "source": [
    "# Plot the clusters (for 2D data)\n",
    "\n",
    "#your code here"
   ]
  },
  {
   "cell_type": "markdown",
   "metadata": {},
   "source": [
    "### Task 3: Evaluate and report clustering quality using silhouette scores (10%)."
   ]
  },
  {
   "cell_type": "markdown",
   "metadata": {},
   "source": [
    "Silhouette score is a tool for assessing the appropriateness of clustering results by providing a quantitative measure of how well-defined and distinct the clusters are. The Silhouette Score quantifies how well a data point fits into its assigned cluster and how distinct it is from other clusters. "
   ]
  },
  {
   "cell_type": "code",
   "execution_count": null,
   "metadata": {},
   "outputs": [],
   "source": [
    "from sklearn.metrics import silhouette_score\n",
    "\n",
    "# For K-Means\n",
    "\n",
    "#your code here\n",
    "\n",
    "\n",
    "# For Hierarchical Model\n",
    "\n",
    "#your code here"
   ]
  },
  {
   "cell_type": "markdown",
   "metadata": {},
   "source": [
    "#### Discuss which method works the best for this dataset. Elaborate if those methods are good fit for this data."
   ]
  },
  {
   "cell_type": "code",
   "execution_count": null,
   "metadata": {},
   "outputs": [],
   "source": [
    "#your answer here"
   ]
  },
  {
   "cell_type": "code",
   "execution_count": null,
   "metadata": {},
   "outputs": [],
   "source": []
  },
  {
   "cell_type": "code",
   "execution_count": null,
   "metadata": {},
   "outputs": [],
   "source": []
  },
  {
   "cell_type": "code",
   "execution_count": null,
   "metadata": {},
   "outputs": [],
   "source": []
  }
 ],
 "metadata": {
  "kernelspec": {
   "display_name": "Python 3 (ipykernel)",
   "language": "python",
   "name": "python3"
  },
  "language_info": {
   "codemirror_mode": {
    "name": "ipython",
    "version": 3
   },
   "file_extension": ".py",
   "mimetype": "text/x-python",
   "name": "python",
   "nbconvert_exporter": "python",
   "pygments_lexer": "ipython3",
   "version": "3.11.4"
  }
 },
 "nbformat": 4,
 "nbformat_minor": 4
}
